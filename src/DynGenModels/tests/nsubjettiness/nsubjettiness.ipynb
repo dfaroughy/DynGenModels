{
 "cells": [
  {
   "cell_type": "code",
   "execution_count": 1,
   "metadata": {},
   "outputs": [],
   "source": [
    "import numpy as np\n",
    "import awkward as ak\n",
    "import fastjet\n",
    "import h5py\n",
    "\n",
    "def cluster_jets(event, jetdef, pt_min=20.0):\n",
    "    \n",
    "    event = ak.Array(event)\n",
    "    print(event)\n",
    "    \n",
    "    cluster = fastjet.ClusterSequence(event, jetdef)    \n",
    "    jets_ak = cluster.inclusive_jets(pt_min)\n",
    "    jets = ak.to_numpy(jets_ak)\n",
    "\n",
    "    #... get jet feature\n",
    "\n",
    "    jet_pt = np.sqrt(jets['px']**2 + jets['py']**2)\n",
    "    jet_rap = np.arctanh(jets['pz'] / jets['E'])\n",
    "    jet_phi = np.arctan2(jets['py'], jets['px'])\n",
    "    jet_M2 = jets['E']**2 - jets['px']**2 - jets['py']**2 - jets['pz']**2\n",
    "    jet_M = np.sqrt(jet_M2[jet_M2 > 0])\n",
    "\n",
    "    jets = np.array(list(zip(jet_pt, jet_rap, jet_phi, jet_M)))\n",
    "    idx = np.argsort(-jets[0])  # The negative sign is to sort in descending order\n",
    "    return jets[idx]"
   ]
  },
  {
   "cell_type": "code",
   "execution_count": 47,
   "metadata": {},
   "outputs": [
    {
     "name": "stdout",
     "output_type": "stream",
     "text": [
      "{px: -181, py: -354, pz: 770, E: 866}\n",
      "{px: -44.9, py: -103, pz: 95.8, E: 148}\n",
      "{px: 1.21, py: -35.4, pz: 54.5, E: 65.4}\n"
     ]
    }
   ],
   "source": [
    "\n",
    "jet_def = fastjet.JetDefinition(fastjet.antikt_algorithm, 0.4)\n",
    "f = h5py.File('../../../../data/jetclass/qcd_top_jets/top_N30_100k.hdf5', 'r')\n",
    "\n",
    "R, pt_jet_min = 0.4, 0.0\n",
    "jetdef = fastjet.JetDefinition(fastjet.kt_algorithm, R)\n",
    "jets=[]\n",
    "for ev in list(f['4_momenta'][..., :4]):\n",
    "    px, py, pz, E = ev[:, 0], ev[:, 1], ev[:, 2], ev[:, 3]\n",
    "    event = ak.zip({\"px\": px, \"py\": py, \"pz\": pz, \"E\": E}, with_name=\"Momentum4D\")\n",
    "    found_jets = fastjet.ClusterSequence(event, jetdef).inclusive_jets(pt_jet_min)\n",
    "    jets.append(found_jets)\n",
    "    print(found_jets[0])\n",
    "    print(found_jets[1])\n",
    "    print(found_jets[2])\n",
    "    break\n",
    "\n"
   ]
  },
  {
   "cell_type": "code",
   "execution_count": 50,
   "metadata": {},
   "outputs": [
    {
     "data": {
      "text/plain": [
       "30"
      ]
     },
     "execution_count": 50,
     "metadata": {},
     "output_type": "execute_result"
    }
   ],
   "source": [
    "len(event)"
   ]
  },
  {
   "cell_type": "code",
   "execution_count": 46,
   "metadata": {},
   "outputs": [
    {
     "name": "stdout",
     "output_type": "stream",
     "text": [
      "{px: -139, py: 9.11, pz: -347, E: 374}\n"
     ]
    },
    {
     "ename": "TypeError",
     "evalue": "'Record' object is not iterable",
     "output_type": "error",
     "traceback": [
      "\u001b[0;31m---------------------------------------------------------------------------\u001b[0m",
      "\u001b[0;31mTypeError\u001b[0m                                 Traceback (most recent call last)",
      "Cell \u001b[0;32mIn[46], line 4\u001b[0m\n\u001b[1;32m      2\u001b[0m fastjet_event \u001b[39m=\u001b[39m []\n\u001b[1;32m      3\u001b[0m \u001b[39mprint\u001b[39m(event)\n\u001b[0;32m----> 4\u001b[0m \u001b[39mfor\u001b[39;00m p \u001b[39min\u001b[39;00m event:\n\u001b[1;32m      5\u001b[0m     fastjet_event\u001b[39m.\u001b[39mappend( fastjet\u001b[39m.\u001b[39mPseudoJet(p[\u001b[39m\"\u001b[39m\u001b[39mpx\u001b[39m\u001b[39m\"\u001b[39m], p[\u001b[39m\"\u001b[39m\u001b[39mpy\u001b[39m\u001b[39m\"\u001b[39m], p[\u001b[39m\"\u001b[39m\u001b[39mpz\u001b[39m\u001b[39m\"\u001b[39m], p[\u001b[39m\"\u001b[39m\u001b[39mE\u001b[39m\u001b[39m\"\u001b[39m]) )\n\u001b[1;32m      6\u001b[0m cluster \u001b[39m=\u001b[39m fastjet\u001b[39m.\u001b[39mClusterSequence(fastjet_event, jetdef)\n",
      "\u001b[0;31mTypeError\u001b[0m: 'Record' object is not iterable"
     ]
    }
   ],
   "source": [
    "for event in events:\n",
    "    fastjet_event = []\n",
    "    print(event)\n",
    "    for p in event:\n",
    "        fastjet_event.append( fastjet.PseudoJet(p[\"px\"], p[\"py\"], p[\"pz\"], p[\"E\"]) )\n",
    "    cluster = fastjet.ClusterSequence(fastjet_event, jetdef)\n",
    "    jets = cluster.inclusive_jets()\n",
    "    break"
   ]
  },
  {
   "cell_type": "code",
   "execution_count": 77,
   "metadata": {},
   "outputs": [],
   "source": [
    "jetdef = fastjet.JetDefinition(fastjet.kt_algorithm, 0.4)\n",
    "jet = fastjet.ClusterSequence(events[2], jetdef).inclusive_jets(20.0)"
   ]
  },
  {
   "cell_type": "code",
   "execution_count": 31,
   "metadata": {},
   "outputs": [
    {
     "ename": "AttributeError",
     "evalue": "no field named 'const'",
     "output_type": "error",
     "traceback": [
      "\u001b[0;31m---------------------------------------------------------------------------\u001b[0m",
      "\u001b[0;31mAttributeError\u001b[0m                            Traceback (most recent call last)",
      "Cell \u001b[0;32mIn[31], line 1\u001b[0m\n\u001b[0;32m----> 1\u001b[0m jets[\u001b[39m0\u001b[39;49m][\u001b[39m0\u001b[39;49m]\u001b[39m.\u001b[39;49mconst()\n",
      "File \u001b[0;32m~/.conda/envs/flow_match_env/lib/python3.9/site-packages/awkward/highlevel.py:2104\u001b[0m, in \u001b[0;36mRecord.__getattr__\u001b[0;34m(self, where)\u001b[0m\n\u001b[1;32m   2099\u001b[0m         \u001b[39mraise\u001b[39;00m \u001b[39mAttributeError\u001b[39;00m(\n\u001b[1;32m   2100\u001b[0m             \u001b[39mf\u001b[39m\u001b[39m\"\u001b[39m\u001b[39mwhile trying to get field \u001b[39m\u001b[39m{\u001b[39;00mwhere\u001b[39m!r}\u001b[39;00m\u001b[39m, an exception \u001b[39m\u001b[39m\"\u001b[39m\n\u001b[1;32m   2101\u001b[0m             \u001b[39mf\u001b[39m\u001b[39m\"\u001b[39m\u001b[39moccurred:\u001b[39m\u001b[39m\\n\u001b[39;00m\u001b[39m{\u001b[39;00m\u001b[39mtype\u001b[39m(err)\u001b[39m}\u001b[39;00m\u001b[39m: \u001b[39m\u001b[39m{\u001b[39;00merr\u001b[39m!s}\u001b[39;00m\u001b[39m\"\u001b[39m\n\u001b[1;32m   2102\u001b[0m         ) \u001b[39mfrom\u001b[39;00m \u001b[39merr\u001b[39;00m\n\u001b[1;32m   2103\u001b[0m \u001b[39melse\u001b[39;00m:\n\u001b[0;32m-> 2104\u001b[0m     \u001b[39mraise\u001b[39;00m \u001b[39mAttributeError\u001b[39;00m(\u001b[39mf\u001b[39m\u001b[39m\"\u001b[39m\u001b[39mno field named \u001b[39m\u001b[39m{\u001b[39;00mwhere\u001b[39m!r}\u001b[39;00m\u001b[39m\"\u001b[39m)\n",
      "\u001b[0;31mAttributeError\u001b[0m: no field named 'const'"
     ]
    }
   ],
   "source": [
    "jets[0][0].const()"
   ]
  },
  {
   "cell_type": "code",
   "execution_count": null,
   "metadata": {},
   "outputs": [],
   "source": []
  }
 ],
 "metadata": {
  "kernelspec": {
   "display_name": "flow_match_env",
   "language": "python",
   "name": "python3"
  },
  "language_info": {
   "codemirror_mode": {
    "name": "ipython",
    "version": 3
   },
   "file_extension": ".py",
   "mimetype": "text/x-python",
   "name": "python",
   "nbconvert_exporter": "python",
   "pygments_lexer": "ipython3",
   "version": "3.9.16"
  },
  "orig_nbformat": 4
 },
 "nbformat": 4,
 "nbformat_minor": 2
}
