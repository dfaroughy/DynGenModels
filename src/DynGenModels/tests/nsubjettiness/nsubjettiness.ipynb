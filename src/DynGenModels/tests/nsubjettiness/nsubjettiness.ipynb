{
 "cells": [
  {
   "cell_type": "code",
   "execution_count": 13,
   "metadata": {},
   "outputs": [],
   "source": [
    "import numpy as np\n",
    "import awkward as ak\n",
    "import fastjet\n",
    "import h5py\n",
    "\n",
    "def cluster_jets(event, jetdef, pt_min=20.0):\n",
    "    \n",
    "    event = ak.Array(event)\n",
    "    print(event)\n",
    "    \n",
    "    cluster = fastjet.ClusterSequence(event, jetdef)    \n",
    "    jets_ak = cluster.inclusive_jets(pt_min)\n",
    "    jets = ak.to_numpy(jets_ak)\n",
    "\n",
    "    #... get jet feature\n",
    "\n",
    "    jet_pt = np.sqrt(jets['px']**2 + jets['py']**2)\n",
    "    jet_rap = np.arctanh(jets['pz'] / jets['E'])\n",
    "    jet_phi = np.arctan2(jets['py'], jets['px'])\n",
    "    jet_M2 = jets['E']**2 - jets['px']**2 - jets['py']**2 - jets['pz']**2\n",
    "    jet_M = np.sqrt(jet_M2[jet_M2 > 0])\n",
    "\n",
    "    jets = np.array(list(zip(jet_pt, jet_rap, jet_phi, jet_M)))\n",
    "    idx = np.argsort(-jets[0])  # The negative sign is to sort in descending order\n",
    "    return jets[idx]"
   ]
  },
  {
   "cell_type": "code",
   "execution_count": 72,
   "metadata": {},
   "outputs": [],
   "source": [
    "\n",
    "jet_def = fastjet.JetDefinition(fastjet.antikt_algorithm, 0.4)\n",
    "f = h5py.File('../../../../data/jetclass/qcd_top_jets/top_N30_100k.hdf5', 'r')\n",
    "events=[]\n",
    "for ev in list(f['4_momenta'][..., :4]):\n",
    "    px, py, pz, e = ev[:, 0], ev[:, 1], ev[:, 2], ev[:, 3]\n",
    "    event = ak.zip({\"px\": px, \"py\": py, \"pz\": pz, \"E\": e}, with_name=\"Momentum4D\")\n",
    "    events.append(event)\n",
    "\n"
   ]
  },
  {
   "cell_type": "code",
   "execution_count": 76,
   "metadata": {},
   "outputs": [
    {
     "data": {
      "text/html": [
       "<pre>[{px: -224, py: -492, pz: 920, E: 1.08e+03}]\n",
       "--------------------------------------------\n",
       "type: 1 * Momentum4D[\n",
       "    px: float64,\n",
       "    py: float64,\n",
       "    pz: float64,\n",
       "    E: float64\n",
       "]</pre>"
      ],
      "text/plain": [
       "<Array [{px: -224, py: -492, pz: 920, ...}] type='1 * Momentum4D[px: float6...'>"
      ]
     },
     "execution_count": 76,
     "metadata": {},
     "output_type": "execute_result"
    }
   ],
   "source": [
    "jetdef = fastjet.JetDefinition(fastjet.kt_algorithm,1)\n",
    "fastjet.ClusterSequence(events[0], jetdef).inclusive_jets(20.0)"
   ]
  },
  {
   "cell_type": "code",
   "execution_count": null,
   "metadata": {},
   "outputs": [],
   "source": []
  }
 ],
 "metadata": {
  "kernelspec": {
   "display_name": "flow_match_env",
   "language": "python",
   "name": "python3"
  },
  "language_info": {
   "codemirror_mode": {
    "name": "ipython",
    "version": 3
   },
   "file_extension": ".py",
   "mimetype": "text/x-python",
   "name": "python",
   "nbconvert_exporter": "python",
   "pygments_lexer": "ipython3",
   "version": "3.9.16"
  },
  "orig_nbformat": 4
 },
 "nbformat": 4,
 "nbformat_minor": 2
}
