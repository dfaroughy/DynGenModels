{
 "cells": [
  {
   "cell_type": "code",
   "execution_count": 1,
   "metadata": {},
   "outputs": [
    {
     "name": "stdout",
     "output_type": "stream",
     "text": [
      "#=========================================================================\n",
      "INFO: created directory: ../results/2Gauss.FlowMatch.MLP.2024.01.17_18h09\n",
      "#=========================================================================\n",
      "+---------------------+-----------------+\n",
      "| Parameters          | Values          |\n",
      "+---------------------+-----------------+\n",
      "| DATA                | 2Gauss          |\n",
      "| features            | ['x', 'y']      |\n",
      "| dim_input           | 2               |\n",
      "| num_points          | 1000            |\n",
      "| scale               | 0.2             |\n",
      "| DEVICE              | cpu             |\n",
      "| optimizer           | Adam            |\n",
      "| lr                  | 0.001           |\n",
      "| weight_decay        | 0.0             |\n",
      "| optimizer_betas     | [0.9, 0.999]    |\n",
      "| optimizer_eps       | 1e-08           |\n",
      "| optimizer_amsgrad   | False           |\n",
      "| gradient_clip       |                 |\n",
      "| scheduler           |                 |\n",
      "| scheduler_T_max     |                 |\n",
      "| scheduler_eta_min   |                 |\n",
      "| scheduler_gamma     |                 |\n",
      "| scheduler_step_size |                 |\n",
      "| EPOCHS              | 200             |\n",
      "| batch_size          | 64              |\n",
      "| data_split_fracs    | [1.0, 0.0, 0.0] |\n",
      "| num_workers         | 0               |\n",
      "| pin_memory          | False           |\n",
      "| early_stopping      |                 |\n",
      "| min_epochs          |                 |\n",
      "| print_epochs        |                 |\n",
      "| fix_seed            |                 |\n",
      "| MODEL               | MLP             |\n",
      "| dim_hidden          | 64              |\n",
      "| dim_time_emb        | 8               |\n",
      "| num_layers          | 3               |\n",
      "| activation          | ReLU            |\n",
      "| DYNAMICS            | FlowMatch       |\n",
      "| sigma               | 0.001           |\n",
      "| t0                  | 0.0             |\n",
      "| t1                  | 1.0             |\n",
      "| SAMPLER             | NeuralODE       |\n",
      "| solver              | dopri5          |\n",
      "| num_sampling_steps  | 100             |\n",
      "| sensitivity         | adjoint         |\n",
      "| atol                | 0.0001          |\n",
      "| rtol                | 0.0001          |\n",
      "| num_gen_samples     | 10000           |\n",
      "+---------------------+-----------------+\n"
     ]
    },
    {
     "data": {
      "image/png": "[encoded data removed]",
      "text/plain": [
       "<Figure size 300x300 with 1 Axes>"
      ]
     },
     "metadata": {},
     "output_type": "display_data"
    }
   ],
   "source": [
    "import torch\n",
    "import matplotlib.pyplot as plt\n",
    "\n",
    "from DynGenModels.trainer.trainer import DynGenModelTrainer\n",
    "from DynGenModels.configs.toys_configs import Gauss_2_Gauss_MLP_FlowMatch as Configs\n",
    "\n",
    "configs = Configs(DATA = '2Gauss',\n",
    "                num_points = 1000,\n",
    "                scale = 0.2,\n",
    "                data_split_fracs = [1.0, 0.0, 0.0],\n",
    "                batch_size = 64,\n",
    "                EPOCHS = 200,\n",
    "                lr = 1e-3,\n",
    "                dim_hidden = 64, \n",
    "                dim_time_emb = 8,\n",
    "                sigma = 0.001,\n",
    "                solver='dopri5',\n",
    "                num_sampling_steps=100  \n",
    "               )\n",
    "\n",
    "#...set working directory for results:\n",
    "\n",
    "configs.set_workdir(path='../results', save_config=True)\n",
    "\n",
    "#...dataset:\n",
    "\n",
    "from DynGenModels.datamodules.toys.datasets import Gauss_2_Gauss_Dataset \n",
    "\n",
    "toys = Gauss_2_Gauss_Dataset(configs)\n",
    "\n",
    "fig = plt.figure(figsize=(3, 3))\n",
    "plt.scatter(toys.source[:,0], toys.source[:,1], s=1, c='r')\n",
    "plt.scatter(toys.target[:,0], toys.target[:,1], s=1, c='b')\n",
    "plt.xlim(-5, 5)\n",
    "plt.ylim(-5, 5)\n",
    "plt.xticks([])\n",
    "plt.yticks([])\n",
    "plt.show()"
   ]
  },
  {
   "cell_type": "code",
   "execution_count": 2,
   "metadata": {},
   "outputs": [
    {
     "name": "stderr",
     "output_type": "stream",
     "text": [
      "number of training parameters: 9154\n",
      "start training...\n"
     ]
    },
    {
     "name": "stdout",
     "output_type": "stream",
     "text": [
      "INFO: building dataloaders...\n",
      "INFO: train/val/test split ratios: 1.0/0.0/0.0\n",
      "INFO: train size: 2000, validation size: 0, testing sizes: 0\n"
     ]
    },
    {
     "data": {
      "application/vnd.jupyter.widget-view+json": {
       "model_id": "4028278771d74c72a79e65590f5d7d3f",
       "version_major": 2,
       "version_minor": 0
      },
      "text/plain": [
       "epochs:   0%|          | 0/200 [00:00<?, ?it/s]"
      ]
     },
     "metadata": {},
     "output_type": "display_data"
    }
   ],
   "source": [
    "from DynGenModels.datamodules.toys.dataloader import ToysDataLoader \n",
    "from DynGenModels.models.deep_nets import MLP\n",
    "from DynGenModels.dynamics.cnf.condflowmatch import SimplifiedCondFlowMatching, ConditionalFlowMatching\n",
    "\n",
    "\n",
    "cfm = DynGenModelTrainer(dynamics = SimplifiedCondFlowMatching(configs), \n",
    "                         model = MLP(configs),\n",
    "                         dataloader = ToysDataLoader(toys, configs), \n",
    "                         configs = configs)\n",
    "cfm.train()"
   ]
  },
  {
   "cell_type": "code",
   "execution_count": 4,
   "metadata": {},
   "outputs": [
    {
     "name": "stdout",
     "output_type": "stream",
     "text": [
      "INFO: neural ODE solver with dopri5 method and steps=100\n"
     ]
    },
    {
     "data": {
      "application/vnd.jupyter.widget-view+json": {
       "model_id": "3f8d9d09302c4771a3eeacf7a3c88006",
       "version_major": 2,
       "version_minor": 0
      },
      "text/plain": [
       "  0%|          | 0/32 [00:00<?, ?it/s]"
      ]
     },
     "metadata": {},
     "output_type": "display_data"
    }
   ],
   "source": [
    "from DynGenModels.pipelines.SamplingPipeline import FlowMatchPipeline \n",
    "pipeline = FlowMatchPipeline(trained_model=cfm, configs=configs)\n",
    "\n",
    "\n",
    "X0 = torch.tensor([-2., 2.]) + configs.scale * torch.randn(configs.num_points, 2)\n",
    "Y0 = torch.tensor([-2., -2.]) + configs.scale * torch.randn(configs.num_points, 2)\n",
    "source = torch.cat([X0, Y0], dim=0)\n",
    "\n",
    "pipeline.generate_samples(input_source=source)"
   ]
  },
  {
   "cell_type": "code",
   "execution_count": 5,
   "metadata": {},
   "outputs": [],
   "source": [
    "import matplotlib.pyplot as plt\n",
    "\n",
    "def plot_trajs(trajectories, num_sampling_steps=100):\n",
    "    fig, ax = plt.subplots(1,1, figsize=(4,4))\n",
    "    for i in range(num_sampling_steps): \n",
    "        plt.scatter(trajectories[i][:,0],trajectories[i][:,1], s=0.1, color='gray', alpha=0.2)\n",
    "    plt.scatter(trajectories[0][:,0], trajectories[0][:,1], s=1, color='red')\n",
    "    plt.scatter(trajectories[-1][:,0],trajectories[-1][:,1], s=1, color='blue')\n",
    "    plt.xlim(-5,5)\n",
    "    plt.ylim(-5,5)\n",
    "    plt.xticks([])\n",
    "    plt.yticks([])\n",
    "    plt.show()"
   ]
  },
  {
   "cell_type": "code",
   "execution_count": 6,
   "metadata": {},
   "outputs": [
    {
     "data": {
      "image/png": "[encoded data removed]",
      "text/plain": [
       "<Figure size 400x400 with 1 Axes>"
      ]
     },
     "metadata": {},
     "output_type": "display_data"
    }
   ],
   "source": [
    "plot_trajs(pipeline.trajectories, num_sampling_steps=configs.num_sampling_steps)"
   ]
  },
  {
   "cell_type": "code",
   "execution_count": 11,
   "metadata": {},
   "outputs": [
    {
     "data": {
      "image/png": "[encoded data removed]",
      "text/plain": [
       "<Figure size 400x400 with 1 Axes>"
      ]
     },
     "metadata": {},
     "output_type": "display_data"
    }
   ],
   "source": [
    "plot_trajs(pipeline.trajectories, num_sampling_steps=configs.num_sampling_steps)"
   ]
  },
  {
   "cell_type": "code",
   "execution_count": null,
   "metadata": {},
   "outputs": [],
   "source": []
  }
 ],
 "metadata": {
  "kernelspec": {
   "display_name": "Python 3 (ipykernel)",
   "language": "python",
   "name": "python3"
  },
  "language_info": {
   "codemirror_mode": {
    "name": "ipython",
    "version": 3
   },
   "file_extension": ".py",
   "mimetype": "text/x-python",
   "name": "python",
   "nbconvert_exporter": "python",
   "pygments_lexer": "ipython3",
   "version": "3.10.9"
  },
  "orig_nbformat": 4
 },
 "nbformat": 4,
 "nbformat_minor": 2
}
