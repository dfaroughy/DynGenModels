{
 "cells": [
  {
   "cell_type": "code",
   "execution_count": 1,
   "metadata": {},
   "outputs": [],
   "source": [
    "import torch \n",
    "from torch.utils.data import Dataset\n",
    "from dataclasses import dataclass\n",
    "import matplotlib.pyplot as plt\n",
    "import h5py\n",
    "import pandas as pd\n",
    "import numpy as np"
   ]
  },
  {
   "cell_type": "code",
   "execution_count": null,
   "metadata": {},
   "outputs": [],
   "source": []
  },
  {
   "cell_type": "code",
   "execution_count": null,
   "metadata": {},
   "outputs": [],
   "source": [
    "class CathodeClassifierDataset(Dataset):\n",
    "\n",
    "    def __init__(self,  generated_dataset, reference_dataset, signal_noise_ratio=0.01, mass_window=[3300, 3700]):\n",
    "\n",
    "        self.generated_dataset = generated_dataset\n",
    "        self.reference_dataset = reference_dataset\n",
    "        self.snr = signal_noise_ratio\n",
    "\n",
    "        self.get_generated_data()\n",
    "        self.get_reference_data()\n",
    "\n",
    "    def __getitem__(self, idx):\n",
    "        output = {}\n",
    "        output['background'] = self.background[idx]\n",
    "        output['data'] = self.source_preprocess[idx]\n",
    "        return output\n",
    "\n",
    "    def __len__(self):\n",
    "        return self.target.size(0)\n",
    "    \n",
    "    def __iter__(self):\n",
    "        for i in range(len(self)):\n",
    "            yield self[i]\n",
    "\n",
    "    def get_generated_data(self):\n",
    "        f = h5py.File(self.dataset, 'r') \n",
    "        self.background = torch.Tensor(f['jet high level features'])\n",
    "        self.\n",
    "        f.close()\n",
    "\n",
    "    def get_reference_data(self):\n",
    "        f = h5py.File(self.dataset, 'r') \n",
    "        self.data = torch.Tensor(f['jet features'])\n",
    "        f.close()\n",
    "\n",
    "\n"
   ]
  },
  {
   "cell_type": "code",
   "execution_count": null,
   "metadata": {},
   "outputs": [],
   "source": [
    "dataset = CathodeClassifierDataset(generated='../../results/LHCOlympics.SchrodingerBridgeFlowMatching.MLP_forward.2023.11.30_20h51',\n",
    "                                   reference='../../data/events_anomalydetection.h5',\n",
    "                                   signal_noise_ratio=0.01,\n",
    "                                   mass_window=[3300, 3700])"
   ]
  }
 ],
 "metadata": {
  "kernelspec": {
   "display_name": "flow_match_env",
   "language": "python",
   "name": "python3"
  },
  "language_info": {
   "codemirror_mode": {
    "name": "ipython",
    "version": 3
   },
   "file_extension": ".py",
   "mimetype": "text/x-python",
   "name": "python",
   "nbconvert_exporter": "python",
   "pygments_lexer": "ipython3",
   "version": "3.9.16"
  },
  "orig_nbformat": 4
 },
 "nbformat": 4,
 "nbformat_minor": 2
}
