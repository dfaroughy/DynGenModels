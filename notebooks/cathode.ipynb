{
 "cells": [
  {
   "cell_type": "code",
   "execution_count": null,
   "metadata": {},
   "outputs": [],
   "source": [
    "import torch \n",
    "import matplotlib.pyplot as plt\n",
    "import h5py\n",
    "import pandas as pd\n",
    "import numpy as np\n",
    "from torch.utils.data import Dataset\n",
    "from dataclasses import dataclass\n",
    "from torch.utils.data import DataLoader, Subset\n",
    "\n",
    "class PreProcessCathodeData:\n",
    " \n",
    "    def __init__(self, \n",
    "                 data, \n",
    "                 methods: list=['standardize'],\n",
    "                 summary_stats: dict=None\n",
    "                 ):\n",
    "        \n",
    "        self.features = data\n",
    "        self.methods = methods\n",
    "        self.summary_stats = {} if summary_stats is None else summary_stats\n",
    "\n",
    "    def preprocess(self):\n",
    "        if self.methods is not None:\n",
    "            for method in self.methods:\n",
    "                method = getattr(self, method, None)\n",
    "                if method and callable(method): method()\n",
    "                else: raise ValueError('Preprocessing method {} not implemented'.format(method))\n",
    "        else: pass\n",
    "\n",
    "    def normalize(self, alpha=1e-5):\n",
    "        \"\"\" normalize data \n",
    "        \"\"\"\n",
    "        if 'min' not in self.summary_stats.keys(): self.summary_stats['min'] = torch.min(self.features, dim=0)[0] + alpha\n",
    "        if 'max' not in self.summary_stats.keys(): self.summary_stats['max'] = torch.max(self.features, dim=0)[0] - alpha\n",
    "        self.features = (self.features - self.summary_stats['min'] ) / (self.summary_stats['max'] - self.summary_stats['min'])\n",
    "    \n",
    "    def standardize(self, sigma: float=1.0):\n",
    "        \"\"\" standardize data\n",
    "        \"\"\"\n",
    "        if 'mean' not in self.summary_stats.keys(): self.summary_stats['mean'] = torch.mean(self.features, dim=0)\n",
    "        if 'std' not in self.summary_stats.keys(): self.summary_stats['std'] = torch.std(self.features, dim=0)\n",
    "        self.features = (self.features - self.summary_stats['mean']) / (self.summary_stats['std'] / sigma)\n",
    "\n",
    "\n",
    "\n",
    "\n",
    "class CathodeClassifierDataset(Dataset):\n",
    "\n",
    "    def __init__(self,  model_data, reference_data, signal_noise_ratio=0.01, mass_window=[3300, 3700], methods=['standardize']):\n",
    "\n",
    "        self.model_data = model_data\n",
    "        self.ref_data = reference_data\n",
    "        self.snr = signal_noise_ratio\n",
    "        self.mass_window = mass_window\n",
    "        self.preprocess_methods = methods\n",
    "         \n",
    "        self.get_reference_data()\n",
    "        self.get_generated_data()\n",
    "\n",
    "    def __getitem__(self, idx):\n",
    "        output = {}\n",
    "        output['data'] = self.data[idx]\n",
    "        output['labels'] = self.labels[idx]\n",
    "        return output\n",
    "\n",
    "    def __len__(self):\n",
    "        return self.data.size(0)\n",
    "    \n",
    "    def __iter__(self):\n",
    "        for i in range(len(self)):\n",
    "            yield self[i]\n",
    "\n",
    "    def get_generated_data(self):\n",
    "        f = h5py.File(self.model_data, 'r') \n",
    "        data= torch.Tensor(f['jet high level features'])\n",
    "        self.background_estimation  = torch.concat([torch.ones(data.size(0), 1), data[..., 1:]], dim=-1)\n",
    "        data = torch.concat([self.background_estimation, self.data_ref], dim=0)\n",
    "        data = data[torch.randperm(data.size(0))]\n",
    "        self.labels = data[..., 0]\n",
    "        self.data = data[..., 1:]\n",
    "        _data = PreProcessCathodeData(data=self.data, methods=self.preprocess_methods)\n",
    "        _data.preprocess()\n",
    "        self.data_preprocess = _data.features.clone()\n",
    "        f.close()\n",
    "\n",
    "    def get_reference_data(self):\n",
    "        f = h5py.File(self.ref_data, 'r') \n",
    "        data = torch.Tensor(f['jet features'])\n",
    "        mask_mass_window = (data[...,1] > self.mass_window[0] ) & (data[...,1] < self.mass_window[1])\n",
    "        data = data[mask_mass_window]\n",
    "        mask_signal = data[...,0] == 1\n",
    "        self.signal_truth = data[mask_signal]\n",
    "        self.background_truth = data[~mask_signal]\n",
    "        S=self.signal_truth.size(0)\n",
    "        B=self.background_truth.size(0)\n",
    "        idx = torch.randperm(S)[: int(self.snr * B)]\n",
    "        self.signal_truth = self.signal_truth[idx]\n",
    "        print('INFO: truth data S={}, B={}, SNR={}'.format(self.signal_truth.shape[0], B, np.round(self.signal_truth.shape[0]/B, 4)))\n",
    "        data = torch.cat([self.signal_truth, self.background_truth], dim=0)\n",
    "        data = data[torch.randperm(data.size(0))]\n",
    "        self.data_ref = torch.concat([torch.zeros(data.size(0), 1), data[..., 2:]], dim=-1)\n",
    "        f.close()\n",
    "\n",
    "\n",
    "class CathodeDataLoader:\n",
    "\n",
    "    def __init__(self, \n",
    "                 datasets: Dataset, \n",
    "                 data_split_fracs= [0.5, 0.1, 0.4], \n",
    "                 batch_size=256,\n",
    "                 ):\n",
    "\n",
    "        self.datasets = datasets        \n",
    "        self.fracs = data_split_fracs\n",
    "        self.batch_size = batch_size\n",
    "        self.dataloader()\n",
    "\n",
    "    def train_val_test_split(self, shuffle=False):\n",
    "        assert np.abs(1.0 - sum(self.fracs)) < 1e-3, \"Split fractions do not sum to 1!\"\n",
    "        total_size = len(self.datasets)\n",
    "        train_size = int(total_size * self.fracs[0])\n",
    "        valid_size = int(total_size * self.fracs[1])\n",
    "\n",
    "        #...define splitting indices\n",
    "\n",
    "        idx = torch.randperm(total_size) if shuffle else torch.arange(total_size)\n",
    "        idx_train = idx[:train_size].tolist()\n",
    "        idx_valid = idx[train_size : train_size + valid_size].tolist()\n",
    "        idx_test = idx[train_size + valid_size :].tolist()\n",
    "        \n",
    "        #...Create Subset for each split\n",
    "\n",
    "        train_set = Subset(self.datasets, idx_train)\n",
    "        valid_set = Subset(self.datasets, idx_valid) if valid_size > 0 else None\n",
    "        test_set = Subset(self.datasets, idx_test) if self.fracs[2] > 0 else None\n",
    "\n",
    "        return train_set, valid_set, test_set\n",
    "\n",
    "\n",
    "    def dataloader(self):\n",
    "\n",
    "        print(\"INFO: building dataloaders...\")\n",
    "        print(\"INFO: train/val/test split ratios: {}/{}/{}\".format(self.fracs[0], self.fracs[1], self.fracs[2]))\n",
    "        \n",
    "        train, valid, test = self.train_val_test_split(shuffle=True)\n",
    "        self.train = DataLoader(dataset=train, batch_size=self.batch_size, shuffle=True)\n",
    "        self.valid = DataLoader(dataset=valid,  batch_size=self.batch_size, shuffle=False) if valid is not None else None\n",
    "        self.test = DataLoader(dataset=test,  batch_size=self.batch_size, shuffle=True) if test is not None else None\n",
    "\n",
    "        print('INFO: train size: {}, validation size: {}, testing sizes: {}'.format(len(self.train.dataset),  # type: ignore\n",
    "                                                                                    len(self.valid.dataset if valid is not None else []),  # type: ignore\n",
    "                                                                                    len(self.test.dataset if test is not None else []))) # type: ignore\n",
    "\n",
    "\n"
   ]
  },
  {
   "cell_type": "code",
   "execution_count": null,
   "metadata": {},
   "outputs": [],
   "source": [
    "dataset = CathodeClassifierDataset(model_data='../results/LHCOlympics.SchrodingerBridgeFlowMatching.MLP_forward.2023.11.30_20h51/events_generated_interpolation.h5',\n",
    "                                   reference_data='../data/LHCOlympics2020/events_anomalydetection_high_level_cathode_with_signal.h5',\n",
    "                                   signal_noise_ratio=0.005,\n",
    "                                   mass_window=[3300, 3700])\n",
    "\n",
    "dataloader = CathodeDataLoader(datasets=dataset, data_split_fracs=[0.5, 0.1, 0.4], batch_size=256)"
   ]
  },
  {
   "cell_type": "code",
   "execution_count": null,
   "metadata": {},
   "outputs": [],
   "source": [
    "for batch in dataloader.train:\n",
    "    print(batch['data'].shape, batch['labels'].shape)\n",
    "    break"
   ]
  },
  {
   "cell_type": "code",
   "execution_count": null,
   "metadata": {},
   "outputs": [],
   "source": [
    "fig, ax = plt.subplots(1, 5, figsize=(12,2))\n",
    "ax[0].hist(dataset.background_truth[...,1], bins=40, histtype='stepfilled', density=False, log=True)\n",
    "ax[0].hist(dataset.signal_truth[...,1], bins=40, histtype='stepfilled', density=False, log=True)\n",
    "ax[0].set_xlabel(r'$m_{jj}$')\n",
    "\n",
    "ax[1].hist(dataset.background_truth[...,2], bins=40, histtype='stepfilled', density=False, log=True,label='Background')\n",
    "ax[1].hist(dataset.signal_truth[...,2], bins=40, histtype='stepfilled', density=False, log=True, label='Signal')\n",
    "ax[1].set_xlabel(r'$m_{j_1}$')\n",
    "ax[1].legend(fontsize=5, loc='upper right')\n",
    "\n",
    "ax[2].hist(dataset.background_truth[...,3], bins=40, histtype='stepfilled', density=False, log=True)\n",
    "ax[2].hist(dataset.signal_truth[...,3], bins=40, histtype='stepfilled', density=False, log=True)\n",
    "ax[2].set_xlabel(r'$\\Delta m_{j}$')\n",
    "\n",
    "ax[3].hist(dataset.background_truth[...,4], bins=40, histtype='stepfilled', density=False, log=True)\n",
    "ax[3].hist(dataset.signal_truth[...,4], bins=40, histtype='stepfilled', density=False, log=True)\n",
    "ax[3].set_xlabel(r'$\\tau_{21}$ leading')\n",
    "\n",
    "ax[4].hist(dataset.background_truth[...,5], bins=40, histtype='stepfilled', density=False, log=True)\n",
    "ax[4].hist(dataset.signal_truth[...,5], bins=40, histtype='stepfilled', density=False, log=True)\n",
    "ax[4].set_xlabel(r'$\\tau_{21}$ sub-leading')"
   ]
  },
  {
   "cell_type": "code",
   "execution_count": null,
   "metadata": {},
   "outputs": [],
   "source": [
    "bfig, ax = plt.subplots(1, 4, figsize=(12,2))\n",
    "ax[0].hist(dataset.background_estimation[...,1], bins=40,  density=True, log=True, histtype='step')\n",
    "ax[0].hist(dataset.data[...,0], bins=40, density=True, log=True, histtype='step')\n",
    "ax[0].set_xlabel(r'$m_{j}$')\n",
    "\n",
    "ax[1].hist(dataset.background_estimation[...,2], bins=40, density=True, log=True,label='Background', histtype='step')\n",
    "ax[1].hist(dataset.data[...,1], bins=40,  density=True, log=True, label='Signal', histtype='step')\n",
    "ax[1].set_xlabel(r'$\\Delta m_{j}$')\n",
    "ax[1].legend(fontsize=5, loc='upper right')\n",
    "\n",
    "ax[2].hist(dataset.background_estimation[...,3], bins=40, density=True, log=True, histtype='step')\n",
    "ax[2].hist(dataset.data[...,2], bins=40, density=True, log=True, histtype='step')\n",
    "ax[2].set_xlabel(r'$\\tau_{21}$ leading')\n",
    "\n",
    "ax[3].hist(dataset.background_estimation[...,4], bins=40, density=True, log=True, histtype='step')\n",
    "ax[3].hist(dataset.data[...,3], bins=40, density=True, log=True, histtype='step')\n",
    "ax[3].set_xlabel(r'$\\tau_{21}$ sub-leading')\n",
    "\n"
   ]
  },
  {
   "cell_type": "code",
   "execution_count": null,
   "metadata": {},
   "outputs": [],
   "source": [
    "fig, ax = plt.subplots(1, 4, figsize=(12,2))\n",
    "ax[0].hist(dataset.data_preprocess[...,0], bins=40, density=True, log=True, histtype='step')\n",
    "ax[0].set_xlabel(r'$m_{j}$')\n",
    "ax[1].hist(dataset.data_preprocess[...,1], bins=40,  density=True, log=True, label='Signal', histtype='step')\n",
    "ax[1].set_xlabel(r'$\\Delta m_{j}$')\n",
    "ax[1].legend(fontsize=5, loc='upper right')\n",
    "ax[2].hist(dataset.data_preprocess[...,2], bins=40, density=True, log=True, histtype='step')\n",
    "ax[2].set_xlabel(r'$\\tau_{21}$ leading')\n",
    "ax[3].hist(dataset.data_preprocess[...,3], bins=40, density=True, log=True, histtype='step')\n",
    "ax[3].set_xlabel(r'$\\tau_{21}$ sub-leading')"
   ]
  },
  {
   "cell_type": "code",
   "execution_count": null,
   "metadata": {},
   "outputs": [],
   "source": [
    "\n",
    "class PreProcessCathodeData:\n",
    " \n",
    "    def __init__(self, \n",
    "                 data, \n",
    "                 methods: list=['standardize'],\n",
    "                 summary_stats: dict=None\n",
    "                 ):\n",
    "        \n",
    "        self.features = data\n",
    "        self.methods = methods\n",
    "        self.summary_stats = {} if summary_stats is None else summary_stats\n",
    "\n",
    "    def preprocess(self, format: bool=True):\n",
    "        if self.methods is not None:\n",
    "            for method in self.methods:\n",
    "                method = getattr(self, method, None)\n",
    "                if method and callable(method): method()\n",
    "                else: raise ValueError('Preprocessing method {} not implemented'.format(method))\n",
    "        else: pass\n",
    "\n",
    "\n",
    "    def normalize(self, alpha=1e-5):\n",
    "        \"\"\" normalize data \n",
    "        \"\"\"\n",
    "        if 'min' not in self.summary_stats.keys(): self.summary_stats['min'] = torch.min(self.features, dim=0)[0] + alpha\n",
    "        if 'max' not in self.summary_stats.keys(): self.summary_stats['max'] = torch.max(self.features, dim=0)[0] - alpha\n",
    "        self.features = (self.features - self.summary_stats['min'] ) / (self.summary_stats['max'] - self.summary_stats['min'])\n",
    "    \n",
    "    def standardize(self, sigma: float=1.0):\n",
    "        \"\"\" standardize data\n",
    "        \"\"\"\n",
    "        if 'mean' not in self.summary_stats.keys(): self.summary_stats['mean'] = torch.mean(self.features, dim=0)\n",
    "        if 'std' not in self.summary_stats.keys(): self.summary_stats['std'] = torch.std(self.features, dim=0)\n",
    "        self.features = (self.features - self.summary_stats['mean']) / (self.summary_stats['std'] / sigma)\n",
    "\n",
    "    def logit_transform(self, alpha=1e-5):\n",
    "        \"\"\" logit transform data\n",
    "        \"\"\"\n",
    "        # pt jet 1\n",
    "        self.features[...,:3] = self.features[...,:3]  * (1 - 2 * alpha) + alpha\n",
    "        self.features[...,:3]  = torch.log(self.features[...,:3]  / (1 - self.features[...,:3] ))\n",
    "\n"
   ]
  },
  {
   "cell_type": "code",
   "execution_count": 1,
   "metadata": {},
   "outputs": [
    {
     "name": "stdout",
     "output_type": "stream",
     "text": [
      "#=====================================================================================================================\n",
      "INFO: created directory: ../results/LHCOlympics.SchrodingerBridgeFlowMatching.MLP_forward.2023.11.30_20h51/classifier\n",
      "#=====================================================================================================================\n",
      "+---------------------+---------------------------------------------------------------------------------------------------------------------+\n",
      "| Parameters          | Values                                                                                                              |\n",
      "+---------------------+---------------------------------------------------------------------------------------------------------------------+\n",
      "| DATA                | Cathode                                                                                                             |\n",
      "| data_gen_model      | ../results/LHCOlympics.SchrodingerBridgeFlowMatching.MLP_forward.2023.11.30_20h51/events_generated_interpolation.h5 |\n",
      "| data_reference      | ../data/LHCOlympics2020/events_anomalydetection_high_level_cathode.h5                                               |\n",
      "| signal_noise_ratio  | 0.01                                                                                                                |\n",
      "| mass_window         | [2600, 3200]                                                                                                        |\n",
      "| features            | ['mj1', 'delta_m', 'tau21_1', 'tau21_2']                                                                            |\n",
      "| dim_input           | 4                                                                                                                   |\n",
      "| preprocess          | ['standardize']                                                                                                     |\n",
      "| DEVICE              | cpu                                                                                                                 |\n",
      "| optimizer           | Adam                                                                                                                |\n",
      "| lr                  | 0.0001                                                                                                              |\n",
      "| weight_decay        | 0.0                                                                                                                 |\n",
      "| optimizer_betas     | [0.9, 0.999]                                                                                                        |\n",
      "| optimizer_eps       | 1e-08                                                                                                               |\n",
      "| optimizer_amsgrad   | False                                                                                                               |\n",
      "| gradient_clip       |                                                                                                                     |\n",
      "| scheduler           |                                                                                                                     |\n",
      "| scheduler_T_max     |                                                                                                                     |\n",
      "| scheduler_eta_min   |                                                                                                                     |\n",
      "| scheduler_gamma     |                                                                                                                     |\n",
      "| scheduler_step_size |                                                                                                                     |\n",
      "| EPOCHS              | 5                                                                                                                   |\n",
      "| batch_size          | 256                                                                                                                 |\n",
      "| data_split_fracs    | [0.5, 0.1, 0.4]                                                                                                     |\n",
      "| num_workers         | 0                                                                                                                   |\n",
      "| pin_memory          | False                                                                                                               |\n",
      "| early_stopping      |                                                                                                                     |\n",
      "| min_epochs          |                                                                                                                     |\n",
      "| print_epochs        | 2                                                                                                                   |\n",
      "| fix_seed            | 12345                                                                                                               |\n",
      "| MODEL               | MLP                                                                                                                 |\n",
      "| dim_hidden          | 64                                                                                                                  |\n",
      "| num_layers          | 3                                                                                                                   |\n",
      "| activation          | ReLU                                                                                                                |\n",
      "| DYNAMICS            | BinaryClassifierTest                                                                                                |\n",
      "+---------------------+---------------------------------------------------------------------------------------------------------------------+\n"
     ]
    }
   ],
   "source": [
    "from DynGenModels.configs.classifier_configs import Cathode_MLP_Classifier as Configs\n",
    "\n",
    "workdir = '../results/LHCOlympics.SchrodingerBridgeFlowMatching.MLP_forward.2023.11.30_20h51'\n",
    "\n",
    "configs = Configs(# data:\n",
    "                DATA = 'Cathode',\n",
    "                data_gen_model = workdir + '/events_generated_interpolation.h5',\n",
    "                data_reference = '../data/LHCOlympics2020/events_anomalydetection_high_level_cathode.h5',\n",
    "                signal_noise_ratio = 0.01,\n",
    "                mass_window = [2600, 3200], \n",
    "                preprocess = ['standardize'],\n",
    "                dim_input = 4,\n",
    "                # training params:   \n",
    "                DEVICE = 'cpu',\n",
    "                EPOCHS = 20,\n",
    "                batch_size = 256,\n",
    "                print_epochs = 2,\n",
    "                data_split_fracs = [0.5, 0.1, 0.4],\n",
    "                lr = 1e-4,\n",
    "                optimizer = 'Adam',\n",
    "                fix_seed = 12345,\n",
    "                # model params:\n",
    "                DYNAMICS = 'BinaryClassifierTest', \n",
    "                MODEL = 'MLP',\n",
    "                dim_hidden = 64,\n",
    "                num_layers = 3,\n",
    "                activation = 'ReLU',\n",
    "                )\n",
    "\n",
    "configs.set_workdir(path=workdir, dir_name='classifier', save_config=True)\n"
   ]
  },
  {
   "cell_type": "code",
   "execution_count": null,
   "metadata": {},
   "outputs": [],
   "source": [
    "cathode.data, cathode.labels"
   ]
  },
  {
   "cell_type": "code",
   "execution_count": 2,
   "metadata": {},
   "outputs": [
    {
     "name": "stderr",
     "output_type": "stream",
     "text": [
      "/home/df630/DynGenModels/src/DynGenModels/datamodules/cathode/datasets.py:50: UserWarning: Creating a tensor from a list of numpy.ndarrays is extremely slow. Please consider converting the list to a single numpy.ndarray with numpy.array() before converting to a tensor. (Triggered internally at  ../torch/csrc/utils/tensor_new.cpp:204.)\n",
      "  data = torch.Tensor(f['jet features'])\n"
     ]
    },
    {
     "name": "stdout",
     "output_type": "stream",
     "text": [
      "INFO: truth data S=0, B=407855, SNR=0.0\n",
      "INFO: building dataloaders...\n",
      "INFO: train/val/test split ratios: 0.5/0.1/0.4\n",
      "INFO: train size: 229493, validation size: 45898, testing sizes: 183596\n"
     ]
    },
    {
     "name": "stderr",
     "output_type": "stream",
     "text": [
      "2023-12-04 21:15:48.285077: I tensorflow/core/platform/cpu_feature_guard.cc:182] This TensorFlow binary is optimized to use available CPU instructions in performance-critical operations.\n",
      "To enable the following instructions: AVX2 AVX512F FMA, in other operations, rebuild TensorFlow with the appropriate compiler flags.\n",
      "2023-12-04 21:15:48.873981: W tensorflow/compiler/tf2tensorrt/utils/py_utils.cc:38] TF-TRT Warning: Could not find TensorRT\n"
     ]
    }
   ],
   "source": [
    "from DynGenModels.datamodules.cathode.datasets import CathodeClassifierDataset\n",
    "from DynGenModels.datamodules.cathode.dataloader import CathodeDataLoader \n",
    "from DynGenModels.models.deep_nets import MLPClassifier\n",
    "from DynGenModels.metrics.classifier import BinaryClassifierTest\n",
    "from DynGenModels.trainer.trainer import ClassifierTrainer\n",
    "\n",
    "\n",
    "cathode = CathodeClassifierDataset(configs)\n",
    "classifier  = ClassifierTrainer(classifier = BinaryClassifierTest(configs),\n",
    "                                model = MLPClassifier(configs), \n",
    "                                dataloader = CathodeDataLoader(cathode, configs), \n",
    "                                configs = configs)"
   ]
  },
  {
   "cell_type": "code",
   "execution_count": 3,
   "metadata": {},
   "outputs": [
    {
     "name": "stderr",
     "output_type": "stream",
     "text": [
      "number of training parameters: 4545\n",
      "start classifier training...\n"
     ]
    },
    {
     "data": {
      "application/vnd.jupyter.widget-view+json": {
       "model_id": "29ef7c23256e4eb49e348d346dc4393f",
       "version_major": 2,
       "version_minor": 0
      },
      "text/plain": [
       "epochs:   0%|          | 0/5 [00:00<?, ?it/s]"
      ]
     },
     "metadata": {},
     "output_type": "display_data"
    },
    {
     "name": "stderr",
     "output_type": "stream",
     "text": [
      "\tEpoch: 1, train loss: 0.35120894262357466, valid loss: 0.3509639758202764  (min valid loss: 0.3509639758202764)\n",
      "\tEpoch: 3, train loss: 0.3492265854325711, valid loss: 0.3504579172366196  (min valid loss: 0.3504579172366196)\n"
     ]
    }
   ],
   "source": [
    "classifier.train()"
   ]
  },
  {
   "cell_type": "code",
   "execution_count": 4,
   "metadata": {},
   "outputs": [
    {
     "data": {
      "application/vnd.jupyter.widget-view+json": {
       "model_id": "dbc06608755c43b2896c0dcd30a46d02",
       "version_major": 2,
       "version_minor": 0
      },
      "text/plain": [
       "testing:   0%|          | 0/718 [00:00<?, ?it/s]"
      ]
     },
     "metadata": {},
     "output_type": "display_data"
    }
   ],
   "source": [
    "classifier.test()"
   ]
  },
  {
   "cell_type": "code",
   "execution_count": null,
   "metadata": {},
   "outputs": [],
   "source": [
    "classifier.predictions"
   ]
  },
  {
   "cell_type": "code",
   "execution_count": 8,
   "metadata": {},
   "outputs": [
    {
     "data": {
      "image/png": "[encoded data removed]",
      "text/plain": [
       "<Figure size 300x300 with 1 Axes>"
      ]
     },
     "metadata": {},
     "output_type": "display_data"
    }
   ],
   "source": [
    "import matplotlib.pyplot as plt\n",
    "\n",
    "score_0 = classifier.predictions[0].squeeze()\n",
    "score_1 = classifier.predictions[1].squeeze()\n",
    "\n",
    "# plot hist:\n",
    "\n",
    "fig, ax = plt.subplots(1, 1, figsize=(3,3))\n",
    "ax.hist(score_0, bins=40, density=True, histtype='step', label='data', log=True)\n",
    "ax.hist(score_1, bins=40, density=True, histtype='step', label='Background model', log=True)\n",
    "ax.set_xlabel(r'score')\n",
    "ax.legend(fontsize=5, loc='upper right')\n",
    "ax.set_xlim(0, 0.3)\n",
    "plt.tight_layout()\n",
    "plt.show()"
   ]
  },
  {
   "cell_type": "code",
   "execution_count": null,
   "metadata": {},
   "outputs": [],
   "source": []
  }
 ],
 "metadata": {
  "kernelspec": {
   "display_name": "flow_match_env",
   "language": "python",
   "name": "python3"
  },
  "language_info": {
   "codemirror_mode": {
    "name": "ipython",
    "version": 3
   },
   "file_extension": ".py",
   "mimetype": "text/x-python",
   "name": "python",
   "nbconvert_exporter": "python",
   "pygments_lexer": "ipython3",
   "version": "3.9.16"
  },
  "orig_nbformat": 4
 },
 "nbformat": 4,
 "nbformat_minor": 2
}
