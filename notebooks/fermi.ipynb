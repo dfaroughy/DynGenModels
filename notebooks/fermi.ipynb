{
 "cells": [
  {
   "cell_type": "code",
   "execution_count": 1,
   "metadata": {},
   "outputs": [],
   "source": [
    "import torch\n",
    "import numpy as np\n",
    "import seaborn as sns\n",
    "import matplotlib.pyplot as plt\n"
   ]
  },
  {
   "cell_type": "code",
   "execution_count": 12,
   "metadata": {},
   "outputs": [],
   "source": [
    "class FermiEvents:\n",
    "    \n",
    "    def __init__(self, data):\n",
    "        self.data = data\n",
    "\n",
    "    @property \n",
    "    def theta(self): \n",
    "        return self.data[...,0]\n",
    "    @property \n",
    "    def phi(self): \n",
    "        return self.data[...,1]\n",
    "    @property \n",
    "    def energy(self): \n",
    "        return self.data[...,2]\n",
    "    @property \n",
    "    def data_size(self):\n",
    "        return self.data.shape[0]\n",
    "    \n",
    "    def selection_cuts(self, feature, cut=None):\n",
    "        if cut is None: cut=[-np.inf, np.inf]\n",
    "        dic={'theta':0, 'phi':1, 'energy':2}\n",
    "        mask = (self.data[..., dic[feature]] >= cut[0]) & (self.data[..., dic[feature]] <= cut[1])\n",
    "        self.data = self.data[mask]\n",
    "        return self\n",
    "\n",
    "    def standardize(self, inverse=False, sigma=1, verbose=True):\n",
    "        if not inverse: \n",
    "            if verbose: print('INFO: standardizing data to zero-mean and std={}'.format(sigma)) \n",
    "            self.mean = torch.mean(self.data, dim=0)\n",
    "            self.std = torch.std(self.data, dim=0)\n",
    "            self.data = (self.data - self.mean) / (self.std / sigma)\n",
    "        else:\n",
    "            if verbose: print('INFO: inverting data standardization')\n",
    "            self.data = self.data * (self.std / sigma) + self.mean\n",
    "\n",
    "    def normalize(self, inverse=False, verbose=True):\n",
    "        if not inverse:\n",
    "            self.max, _ = torch.max(torch.reshape(self.data, (-1,3)), dim=0)\n",
    "            self.min, _ = torch.min(torch.reshape(self.data, (-1,3)), dim=0)\n",
    "            if verbose: print('INFO: normalizing data') \n",
    "            self.data = (self.data - self.min) / (self.max - self.min) \n",
    "        else:\n",
    "            if verbose: print('INFO: inverting data normalization')\n",
    "            self.data = self.data * (self.max - self.min) + self.min \n",
    "\n",
    "    def logit_transform(self, alpha=1e-6, inverse=False, verbose=True):\n",
    "        if not inverse:\n",
    "            if verbose: print('INFO: applying logit transform')\n",
    "            self.data = logit(self.data, alpha=alpha)\n",
    "        else:\n",
    "            if verbose: print('INFO: applying expit transform')\n",
    "            self.data = expit(self.data, alpha=alpha)\n",
    "    \n",
    "    def preprocess(self, reverse=False, sigma=1.0,  alpha=1e-6, verbose=True):  \n",
    "        if not reverse: \n",
    "            self.normalize(verbose=verbose)\n",
    "            self.logit_transform(alpha=alpha, verbose=verbose)\n",
    "            self.standardize(sigma=sigma, verbose=verbose)\n",
    "        else: \n",
    "            self.standardize(sigma=sigma, inverse=True, verbose=verbose)\n",
    "            self.logit_transform(inverse=True, alpha=alpha, verbose=verbose)\n",
    "            self.normalize(inverse=True, verbose=verbose)\n",
    "\n",
    "    def plot(self, feature, plot_dir=None, target=None, color='k', bins=100, log_scale=(False, False)):\n",
    "        dic={'theta':0, 'phi':1, 'energy':2}\n",
    "        sns.histplot(x=self.data[...,dic[feature]], \n",
    "                     color=color, \n",
    "                     bins=bins,\n",
    "                     log_scale=log_scale,\n",
    "                     element=\"step\", lw=0.75, fill=False, alpha=1) \n",
    "        if target is not None:\n",
    "            feat = target[...,dic[feature]]\n",
    "            sns.histplot(x=feat, \n",
    "                 color=color, \n",
    "                 bins=bins,\n",
    "                 log_scale=log_scale,\n",
    "                 element=\"step\", lw=0., fill=True, alpha=0.1) \n",
    "        if plot_dir is not None:\n",
    "            plt.savefig(plot_dir+'/{}.pdf'.format(feature))\n",
    "        plt.show()\n",
    "        plt.close()\n",
    "\n",
    "    def plot_milky_way(self, plot_dir=None, cmap='plasma'):\n",
    "        fig = plt.figure(1,figsize=(6,6))\n",
    "        ax = fig.add_subplot(111)\n",
    "        ax.hexbin(self.phi, self.theta, cmap=cmap, gridsize=300, bins='log')\n",
    "        if plot_dir is not None:\n",
    "            plt.savefig(plot_dir+'/milky_way.pdf')\n",
    "        plt.show()\n",
    "        plt.close()\n",
    "\n",
    "    "
   ]
  },
  {
   "cell_type": "code",
   "execution_count": 3,
   "metadata": {},
   "outputs": [
    {
     "data": {
      "text/plain": [
       "<__main__.FermiEvents at 0x7f8609f6a110>"
      ]
     },
     "execution_count": 3,
     "metadata": {},
     "output_type": "execute_result"
    }
   ],
   "source": [
    "data_file =  \"../data/fermi/fermi_data_galactic_coord.npy\"\n",
    "data = torch.tensor(np.load(data_file))  \n",
    "galaxy_center = FermiEvents(data)\n",
    "galaxy_center.selection_cuts(feature='energy', cut=[1000, 2000])\n",
    "galaxy_center.selection_cuts(feature='theta', cut=[-10., 10.])\n",
    "galaxy_center.selection_cuts(feature='phi', cut=[4., 10.])\n"
   ]
  },
  {
   "cell_type": "code",
   "execution_count": 7,
   "metadata": {},
   "outputs": [
    {
     "data": {
      "image/png": "[encoded data removed]",
      "text/plain": [
       "<Figure size 640x480 with 1 Axes>"
      ]
     },
     "metadata": {},
     "output_type": "display_data"
    }
   ],
   "source": [
    "galaxy_center.plot(feature='phi', bins=150, log_scale=(False, True))"
   ]
  },
  {
   "cell_type": "code",
   "execution_count": 8,
   "metadata": {},
   "outputs": [
    {
     "data": {
      "image/png": "[encoded data removed]",
      "text/plain": [
       "<Figure size 640x480 with 1 Axes>"
      ]
     },
     "metadata": {},
     "output_type": "display_data"
    }
   ],
   "source": [
    "galaxy_center.plot(feature='theta', bins=150, log_scale=(False, True))"
   ]
  },
  {
   "cell_type": "code",
   "execution_count": 9,
   "metadata": {},
   "outputs": [
    {
     "data": {
      "image/png": "[encoded data removed]",
      "text/plain": [
       "<Figure size 640x480 with 1 Axes>"
      ]
     },
     "metadata": {},
     "output_type": "display_data"
    }
   ],
   "source": [
    "galaxy_center.plot(feature='energy', bins=150, log_scale=(False, True))"
   ]
  },
  {
   "cell_type": "code",
   "execution_count": 13,
   "metadata": {},
   "outputs": [],
   "source": [
    "galaxy_center.plot_milky_way()"
   ]
  },
  {
   "cell_type": "code",
   "execution_count": 15,
   "metadata": {},
   "outputs": [
    {
     "data": {
      "text/plain": [
       "torch.Size([162173, 3])"
      ]
     },
     "execution_count": 15,
     "metadata": {},
     "output_type": "execute_result"
    }
   ],
   "source": [
    "\n",
    "class FormatData:\n",
    "\n",
    "    def __init__(self, \n",
    "                 data: torch.Tensor=None,\n",
    "                 cuts: dict=None):\n",
    "        self.data = data\n",
    "        self.cuts = cuts if cuts is not None else {'theta': None, 'phi': None, 'energy':None}\n",
    "    @property \n",
    "    def theta(self): \n",
    "        return self.data[...,0]\n",
    "    @property \n",
    "    def phi(self): \n",
    "        return self.data[...,1]\n",
    "    @property \n",
    "    def energy(self): \n",
    "        return self.data[...,2]\n",
    "    @property \n",
    "    def data_size(self):\n",
    "        return self.data.shape[0]\n",
    "    \n",
    "    def selection_cuts(self, feature, cut=None):\n",
    "        if cut is None: cut=[-np.inf, np.inf]\n",
    "        dic={'theta':0, 'phi':1, 'energy':2}\n",
    "        mask = (self.data[..., dic[feature]] >= cut[0]) & (self.data[..., dic[feature]] <= cut[1])\n",
    "        self.data = self.data[mask]\n",
    "        return self\n",
    "\n",
    "    def format(self):\n",
    "        self.selection_cuts(feature='energy', cut=self.cuts['energy'])\n",
    "        self.selection_cuts(feature='theta', cut=self.cuts['theta'])\n",
    "        self.selection_cuts(feature='phi', cut=self.cuts['phi'])\n",
    "\n",
    "\n",
    "cuts = {'theta': [-10., 10.], 'phi': [4., 10.], 'energy': [1000, 2000]}\n",
    "\n",
    "sample = FormatData(data, cuts=cuts)\n",
    "sample.format()\n",
    "sample.data.shape"
   ]
  },
  {
   "cell_type": "code",
   "execution_count": 31,
   "metadata": {},
   "outputs": [],
   "source": [
    "\n",
    "class PreprocessData:\n",
    "\n",
    "    def __init__(self, \n",
    "                 data, \n",
    "                 stats,\n",
    "                 methods: list=['standardize']\n",
    "                 ):\n",
    "        \n",
    "        self.galactic_features = data\n",
    "        self.mean, self.std, self.min, self.max = stats \n",
    "        self.methods = methods\n",
    "\n",
    "    def preprocess(self):\n",
    "        for method in self.methods:\n",
    "            method = getattr(self, method, None)\n",
    "            if method and callable(method): method()\n",
    "            else: raise ValueError('Preprocessing method {} not implemented'.format(method))\n",
    "        \n",
    "    def standardize(self,  sigma: float=1.0):\n",
    "        self.galactic_features = (self.galactic_features - self.mean) * (sigma / self.std )\n",
    "\n",
    "    def normalize(self):\n",
    "        self.galactic_features = (self.galactic_features - self.min) / ( self.max - self.min )\n",
    "    \n",
    "    def logit_transform(self, alpha=1e-6):\n",
    "        self.galactic_features = self.galactic_features * (1 - 2 * alpha) + alpha\n",
    "        self.galactic_features = torch.log(self.galactic_features / (1 - self.galactic_features))\n"
   ]
  },
  {
   "cell_type": "code",
   "execution_count": 26,
   "metadata": {},
   "outputs": [
    {
     "name": "stdout",
     "output_type": "stream",
     "text": [
      "INFO: loading and preprocessing data...\n",
      "torch.Size([162173, 3])\n",
      "\t- dataset: ../data/fermi/fermi_data_galactic_coord.npy \n",
      " \t- shape: torch.Size([162173, 3])\n",
      "162173\n"
     ]
    }
   ],
   "source": [
    "import torch\n",
    "from torch.utils.data import Dataset\n",
    "\n",
    "class FermiDataset(Dataset):\n",
    "\n",
    "    def __init__(self, \n",
    "                 dir_path: str=None, \n",
    "                 cuts: dict=None,\n",
    "                 preprocess : list=None\n",
    "                 ):\n",
    "        \n",
    "        self.path = dir_path\n",
    "        self.cuts = cuts\n",
    "        self.preprocess_methods = preprocess \n",
    "        self.summary_statistics = {}\n",
    "        self.dataset_list = self.get_data()\n",
    "\n",
    "    def __getitem__(self, idx):\n",
    "        output = {}\n",
    "        datasets = self.dataset_list\n",
    "        galactic_features = self.apply_preprocessing(sample=datasets[idx]) if self.preprocess_methods is not None else datasets[idx] \n",
    "        output['target'] = galactic_features\n",
    "        output['source'] = torch.rand_like(galactic_features)\n",
    "        return output\n",
    "\n",
    "    def __len__(self):\n",
    "        return self.dataset_list.size(0)\n",
    "    \n",
    "    def __iter__(self):\n",
    "        for i in range(len(self)):\n",
    "            yield self[i]\n",
    "\n",
    "    def get_data(self):\n",
    "        print(\"INFO: loading and preprocessing data...\")\n",
    "        dataset = torch.tensor(np.load(self.path))\n",
    "        dataset = self.apply_formatting(dataset)\n",
    "        print(dataset.shape)\n",
    "        print('\\t- dataset: {} \\n \\t- shape: {}'.format(self.path, dataset.shape))\n",
    "        self.summary_statistics['dataset'] = self.summary_stats(dataset)\n",
    "        return dataset\n",
    "\n",
    "    def apply_formatting(self, sample):\n",
    "        sample = FormatData(sample, cuts=self.cuts)\n",
    "        sample.format()\n",
    "        return sample.data\n",
    "    \n",
    "    def apply_preprocessing(self, sample):\n",
    "        sample = PreprocessData(data=sample, \n",
    "                                stats=self.summary_statistics['dataset'],\n",
    "                                methods = self.preprocess_methods\n",
    "                                )\n",
    "        sample.preprocess()\n",
    "        return sample.galactic_features\n",
    "    \n",
    "    def summary_stats(self, data):\n",
    "        mean = torch.mean(data, dim=0)\n",
    "        std = torch.std(data, dim=0)\n",
    "        min, _ = torch.min(data, dim=0)\n",
    "        max, _ = torch.max(data, dim=0)\n",
    "        return (mean, std, min, max)\n",
    "\n",
    "fermi = FermiDataset(dir_path=data_file, cuts=cuts)\n",
    "fermi.summary_statistics['dataset']\n",
    "print(len(fermi))"
   ]
  },
  {
   "cell_type": "code",
   "execution_count": 32,
   "metadata": {},
   "outputs": [
    {
     "name": "stdout",
     "output_type": "stream",
     "text": [
      "INFO: loading and preprocessing data...\n",
      "torch.Size([162173, 3])\n",
      "\t- dataset: ../data/fermi/fermi_data_galactic_coord.npy \n",
      " \t- shape: torch.Size([162173, 3])\n",
      "(tensor([1.0134e-01, 7.0015e+00, 1.3780e+03], dtype=torch.float64), tensor([  3.5879,   1.6366, 276.1025], dtype=torch.float64), tensor([  -9.9999,    4.0000, 1000.0014], dtype=torch.float64), tensor([   9.9996,   10.0000, 1999.9929], dtype=torch.float64))\n",
      "162173\n",
      "{'target': tensor([ 1.5191, -1.2750,  0.1525], dtype=torch.float64), 'source': tensor([0.0045, 0.9347, 0.7126], dtype=torch.float64)}\n"
     ]
    }
   ],
   "source": [
    "fermi = FermiDataset(dir_path=data_file, cuts=cuts, preprocess=['standardize'])\n",
    "print(fermi.summary_statistics['dataset'])\n",
    "print(len(fermi))\n",
    "print(fermi[0])"
   ]
  },
  {
   "cell_type": "code",
   "execution_count": 34,
   "metadata": {},
   "outputs": [],
   "source": [
    "from torch.utils.data import DataLoader, Subset, ConcatDataset\n",
    "\n",
    "class FermiDataLoader:\n",
    "\n",
    "    def __init__(self, \n",
    "                 datasets: FermiDataset, \n",
    "                 data_split_fracs: list=[0.7, 0.2, 0.1],\n",
    "                 batch_size: int=1024 \n",
    "                 ):\n",
    "\n",
    "        self.datasets = datasets        \n",
    "        self.data_split_fracs = data_split_fracs\n",
    "        self.batch_size = batch_size\n",
    "        self.dataloader()\n",
    "\n",
    "    def train_val_test_split(self, dataset, train_frac, valid_frac, shuffle=False):\n",
    "        assert sum(self.data_split_fracs) - 1.0 < 1e-3, \"Split fractions do not sum to 1!\"\n",
    "        total_size = len(dataset)\n",
    "        train_size = int(total_size * train_frac)\n",
    "        valid_size = int(total_size * valid_frac)\n",
    "        \n",
    "        #...define splitting indices\n",
    "\n",
    "        idx = torch.randperm(total_size) if shuffle else torch.arange(total_size)\n",
    "        idx_train = idx[:train_size]\n",
    "        idx_valid = idx[train_size : train_size + valid_size]\n",
    "        idx_test = idx[train_size + valid_size :]\n",
    "        \n",
    "        #...Create Subset for each split\n",
    "\n",
    "        train_set = Subset(dataset, idx_train)\n",
    "        valid_set = Subset(dataset, idx_valid)\n",
    "        test_set = Subset(dataset, idx_test)\n",
    "\n",
    "        return train_set, valid_set, test_set\n",
    "\n",
    "\n",
    "    def dataloader(self):\n",
    "\n",
    "        print(\"INFO: building dataloaders...\")\n",
    "\n",
    "        #...get training / validation / test samples   \n",
    "\n",
    "        print(\"INFO: train/val/test split ratios: {}/{}/{}\".format(self.data_split_fracs[0], \n",
    "                                                                   self.data_split_fracs[1], \n",
    "                                                                   self.data_split_fracs[2]))\n",
    "        \n",
    "        train, valid, test = self.train_val_test_split(dataset=self.datasets, \n",
    "                                                       train_frac=self.data_split_fracs[0], \n",
    "                                                       valid_frac=self.data_split_fracs[1], \n",
    "                                                       shuffle=True)\n",
    "\n",
    "        #...create dataloaders\n",
    "\n",
    "        self.train = DataLoader(dataset=train, batch_size=self.batch_size, shuffle=True)\n",
    "        self.valid = DataLoader(dataset=valid,  batch_size=self.batch_size, shuffle=False)\n",
    "        self.test = DataLoader(dataset=test,  batch_size=self.batch_size, shuffle=True)\n",
    "\n",
    "        print('INFO: train size: {}, validation size: {}, testing sizes: {}'.format(len(self.train.dataset), \n",
    "                                                                                    len(self.valid.dataset), \n",
    "                                                                                    len(self.test.dataset)))\n"
   ]
  },
  {
   "cell_type": "code",
   "execution_count": 37,
   "metadata": {},
   "outputs": [
    {
     "name": "stdout",
     "output_type": "stream",
     "text": [
      "INFO: building dataloaders...\n",
      "INFO: train/val/test split ratios: 0.7/0.3/0.0\n",
      "INFO: train size: 113521, validation size: 48651, testing sizes: 1\n"
     ]
    }
   ],
   "source": [
    "dataloder = FermiDataLoader(fermi, data_split_fracs=[0.7, 0.3, 0.0], batch_size=1024)"
   ]
  },
  {
   "cell_type": "code",
   "execution_count": 38,
   "metadata": {},
   "outputs": [
    {
     "name": "stdout",
     "output_type": "stream",
     "text": [
      "torch.Size([1024, 3])\n"
     ]
    }
   ],
   "source": [
    "for batch in dataloder.train:\n",
    "    print(batch['target'].shape)\n",
    "    break"
   ]
  },
  {
   "cell_type": "code",
   "execution_count": null,
   "metadata": {},
   "outputs": [],
   "source": []
  }
 ],
 "metadata": {
  "kernelspec": {
   "display_name": "Python 3 (ipykernel)",
   "language": "python",
   "name": "python3"
  },
  "language_info": {
   "codemirror_mode": {
    "name": "ipython",
    "version": 3
   },
   "file_extension": ".py",
   "mimetype": "text/x-python",
   "name": "python",
   "nbconvert_exporter": "python",
   "pygments_lexer": "ipython3",
   "version": "3.10.9"
  },
  "orig_nbformat": 4
 },
 "nbformat": 4,
 "nbformat_minor": 2
}
