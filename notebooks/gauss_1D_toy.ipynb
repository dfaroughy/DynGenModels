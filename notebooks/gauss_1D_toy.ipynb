{
 "cells": [
  {
   "cell_type": "code",
   "execution_count": 1,
   "metadata": {},
   "outputs": [],
   "source": [
    "import torch\n",
    "import numpy as np\n",
    "from torch.utils.data import Dataset\n",
    "from dataclasses import dataclass\n",
    "import matplotlib.pyplot as plt\n",
    "\n",
    "\n",
    "class GaussDeconvDataset(Dataset):\n",
    "\n",
    "    def __init__(self, num_samples, scale):\n",
    "        \n",
    "        self.scale = scale\n",
    "        self.num_samples = num_samples\n",
    "\n",
    "        self.get_truth_data()\n",
    "        self.get_covariance_data()\n",
    "        self.get_target_data()\n",
    "\n",
    "    def __getitem__(self, idx):\n",
    "        output = {}\n",
    "        output['target'] = self.smeared[idx]\n",
    "        output['source'] = self.source[idx]\n",
    "        output['covariance'] = self.covariance[idx]\n",
    "        return output\n",
    "\n",
    "    def __len__(self):\n",
    "        return self.target.size(0)\n",
    "    \n",
    "    def __iter__(self):\n",
    "        for i in range(len(self)):\n",
    "            yield self[i]\n",
    "\n",
    "    def get_truth_data(self):\n",
    "        self.truth = torch.randn(self.num_samples)\n",
    "\n",
    "    def get_covariance_data(self):\n",
    "        s = torch.tensor(1 / (self.scale + 1e-6)) # this parametrization of the log-normal scale is to recover no smearing when scale = 0                     \n",
    "        log_normal = torch.distributions.log_normal.LogNormal(loc=self.truth, scale=s)  \n",
    "        self.covariance = log_normal.sample()\n",
    "\n",
    "    def get_target_data(self):\n",
    "        self.smeared = self.truth + self.covariance * torch.randn(self.num_samples)  \n",
    "\n",
    "    def get_source_data(self):\n",
    "        self.source = torch.randn(self.num_samples)\n"
   ]
  },
  {
   "cell_type": "code",
   "execution_count": 2,
   "metadata": {},
   "outputs": [],
   "source": [
    "dataset = GaussDeconvDataset(num_samples=50000, scale=1.0)"
   ]
  },
  {
   "cell_type": "code",
   "execution_count": 3,
   "metadata": {},
   "outputs": [
    {
     "data": {
      "image/png": "[encoded data removed]",
      "text/plain": [
       "<Figure size 300x300 with 1 Axes>"
      ]
     },
     "metadata": {},
     "output_type": "display_data"
    }
   ],
   "source": [
    "# plot distributions histograms\n",
    "\n",
    "xlim=(-10,10)\n",
    "\n",
    "fig = plt.figure(figsize=(3, 3))\n",
    "ax = fig.add_subplot(111)\n",
    "plt.hist(dataset.truth, bins=np.arange(*xlim, 0.1), density=True, label='clean', color='silver')\n",
    "plt.hist(dataset.smeared, bins=np.arange(*xlim, 0.1), density=True, label='dirty (scale={})'.format(dataset.scale), histtype='step')\n",
    "ax.legend(fontsize=6)\n",
    "plt.xlim(*xlim)\n",
    "plt.show()"
   ]
  },
  {
   "cell_type": "code",
   "execution_count": null,
   "metadata": {},
   "outputs": [],
   "source": []
  }
 ],
 "metadata": {
  "kernelspec": {
   "display_name": "Python 3 (ipykernel)",
   "language": "python",
   "name": "python3"
  },
  "orig_nbformat": 4
 },
 "nbformat": 4,
 "nbformat_minor": 2
}
