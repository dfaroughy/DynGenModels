{
 "cells": [
  {
   "cell_type": "code",
   "execution_count": 1,
   "metadata": {},
   "outputs": [
    {
     "data": {
      "image/png": "[encoded data removed]",
      "text/plain": [
       "<Figure size 300x300 with 1 Axes>"
      ]
     },
     "metadata": {},
     "output_type": "display_data"
    }
   ],
   "source": [
    "import numpy as np\n",
    "import matplotlib.pyplot as plt\n",
    "\n",
    "from DynGenModels.datamodules.deconvolution.configs import Deconvolution_Gauss1D_Configs\n",
    "from DynGenModels.datamodules.deconvolution.datasets import SimpleSmearedGaussDataset\n",
    "\n",
    "configs = Deconvolution_Gauss1D_Configs()\n",
    "gauss = SimpleSmearedGaussDataset(configs)\n",
    "\n",
    "# plot distributions histograms\n",
    "\n",
    "xlim=(-10,10)\n",
    "\n",
    "fig = plt.figure(figsize=(3, 3))\n",
    "ax = fig.add_subplot(111)\n",
    "plt.hist(gauss.truth, bins=np.arange(*xlim, 0.1), density=True, label='clean', color='silver')\n",
    "plt.hist(gauss.smeared, bins=np.arange(*xlim, 0.1), density=True, label='dirty (scale={})'.format(gauss.scale), histtype='step')\n",
    "ax.legend(fontsize=6)\n",
    "plt.xlim(*xlim)\n",
    "plt.show()"
   ]
  },
  {
   "cell_type": "code",
   "execution_count": null,
   "metadata": {},
   "outputs": [
    {
     "name": "stdout",
     "output_type": "stream",
     "text": [
      "#=============================================================================================\n",
      "INFO: created directory: ../../results/Gauss1D.DeconvolutionNormFlow.MAF_RQS.2023.10.09_17h58\n",
      "#=============================================================================================\n",
      "+---------------------+-----------------------+\n",
      "| Parameters          | Values                |\n",
      "+---------------------+-----------------------+\n",
      "| data_name           | Gauss1D               |\n",
      "| log_norm_scale      | 1.0                   |\n",
      "| num_points          | 50000                 |\n",
      "| dim_input           | 1                     |\n",
      "| features            | ['x']                 |\n",
      "| preprocess          | []                    |\n",
      "| device              | cpu                   |\n",
      "| data_split_fracs    | [0.8, 0.2, 0.0]       |\n",
      "| batch_size          | 5                     |\n",
      "| epochs              | 5                     |\n",
      "| lr                  | 0.0001                |\n",
      "| early_stopping      |                       |\n",
      "| warmup_epochs       |                       |\n",
      "| print_epochs        |                       |\n",
      "| seed                | 12345                 |\n",
      "| model_name          | MAF_RQS               |\n",
      "| dim_hidden          | 128                   |\n",
      "| num_blocks          | 3                     |\n",
      "| use_residual_blocks | False                 |\n",
      "| dropout             | 0.0                   |\n",
      "| use_batch_norm      | True                  |\n",
      "| num_bins            | 20                    |\n",
      "| tails               | linear                |\n",
      "| tail_bound          | 15.0                  |\n",
      "| dynamics_name       | DeconvolutionNormFlow |\n",
      "| num_transforms      | 5                     |\n",
      "| num_mc_draws        | 3                     |\n",
      "| num_gen_samples     | 1000                  |\n",
      "+---------------------+-----------------------+\n",
      "INFO: building dataloaders...\n",
      "INFO: train/val/test split ratios: 0.8/0.2/0.0\n",
      "INFO: train size: 40000, validation size: 10000, testing sizes: 0\n",
      "INFO: number of training parameters: 58171\n"
     ]
    },
    {
     "data": {
      "application/vnd.jupyter.widget-view+json": {
       "model_id": "1d4469e9b54146549ef35f0275c782fd",
       "version_major": 2,
       "version_minor": 0
      },
      "text/plain": [
       "epochs:   0%|          | 0/5 [00:00<?, ?it/s]"
      ]
     },
     "metadata": {},
     "output_type": "display_data"
    },
    {
     "ename": "ValueError",
     "evalue": "No dimension 1 in inputs.",
     "output_type": "error",
     "traceback": [
      "\u001b[0;31m---------------------------------------------------------------------------\u001b[0m",
      "\u001b[0;31mValueError\u001b[0m                                Traceback (most recent call last)",
      "Cell \u001b[0;32mIn[1], line 41\u001b[0m\n\u001b[1;32m     39\u001b[0m dynamics \u001b[39m=\u001b[39m DeconvolutionNormFlows(net, configs)\n\u001b[1;32m     40\u001b[0m maf \u001b[39m=\u001b[39m DynGenModelTrainer(dynamics\u001b[39m=\u001b[39mdynamics, dataloader\u001b[39m=\u001b[39mdataloader, configs\u001b[39m=\u001b[39mconfigs)\n\u001b[0;32m---> 41\u001b[0m maf\u001b[39m.\u001b[39;49mtrain()\n",
      "File \u001b[0;32m~/Dropbox/PROJECTS/ML/DynGenModels/src/DynGenModels/trainer/trainer.py:45\u001b[0m, in \u001b[0;36mDynGenModelTrainer.train\u001b[0;34m(self)\u001b[0m\n\u001b[1;32m     42\u001b[0m \u001b[39mprint\u001b[39m(\u001b[39m'\u001b[39m\u001b[39mINFO: number of training parameters: \u001b[39m\u001b[39m{}\u001b[39;00m\u001b[39m'\u001b[39m\u001b[39m.\u001b[39mformat(\u001b[39msum\u001b[39m(p\u001b[39m.\u001b[39mnumel() \u001b[39mfor\u001b[39;00m p \u001b[39min\u001b[39;00m \u001b[39mself\u001b[39m\u001b[39m.\u001b[39mdynamics\u001b[39m.\u001b[39mnet\u001b[39m.\u001b[39mparameters())))\n\u001b[1;32m     44\u001b[0m \u001b[39mfor\u001b[39;00m epoch \u001b[39min\u001b[39;00m tqdm(\u001b[39mrange\u001b[39m(\u001b[39mself\u001b[39m\u001b[39m.\u001b[39mepochs), desc\u001b[39m=\u001b[39m\u001b[39m\"\u001b[39m\u001b[39mepochs\u001b[39m\u001b[39m\"\u001b[39m):\n\u001b[0;32m---> 45\u001b[0m     train\u001b[39m.\u001b[39;49mupdate(dataloader\u001b[39m=\u001b[39;49m\u001b[39mself\u001b[39;49m\u001b[39m.\u001b[39;49mdataloader\u001b[39m.\u001b[39;49mtrain, optimizer\u001b[39m=\u001b[39;49moptimizer) \n\u001b[1;32m     47\u001b[0m     \u001b[39mif\u001b[39;00m \u001b[39mself\u001b[39m\u001b[39m.\u001b[39mvalidate: \n\u001b[1;32m     48\u001b[0m         \u001b[39mwith\u001b[39;00m RNGStateFixer(\u001b[39mself\u001b[39m\u001b[39m.\u001b[39mseed):\n",
      "File \u001b[0;32m~/Dropbox/PROJECTS/ML/DynGenModels/src/DynGenModels/trainer/utils.py:21\u001b[0m, in \u001b[0;36mTrain_Step.update\u001b[0;34m(self, dataloader, optimizer)\u001b[0m\n\u001b[1;32m     19\u001b[0m \u001b[39mfor\u001b[39;00m batch \u001b[39min\u001b[39;00m dataloader:\n\u001b[1;32m     20\u001b[0m     optimizer\u001b[39m.\u001b[39mzero_grad()\n\u001b[0;32m---> 21\u001b[0m     loss_current \u001b[39m=\u001b[39m \u001b[39mself\u001b[39;49m\u001b[39m.\u001b[39;49mloss_fn(batch)\n\u001b[1;32m     22\u001b[0m     loss_current\u001b[39m.\u001b[39mbackward()\n\u001b[1;32m     23\u001b[0m     optimizer\u001b[39m.\u001b[39mstep()  \n",
      "File \u001b[0;32m~/Dropbox/PROJECTS/ML/DynGenModels/src/DynGenModels/dynamics/nf/deconvolution.py:22\u001b[0m, in \u001b[0;36mDeconvolutionNormFlows.loss\u001b[0;34m(self, batch)\u001b[0m\n\u001b[1;32m     20\u001b[0m epsilon \u001b[39m=\u001b[39m torch\u001b[39m.\u001b[39mrandn_like(smeared)\n\u001b[1;32m     21\u001b[0m target \u001b[39m=\u001b[39m smeared \u001b[39m+\u001b[39m (cov \u001b[39m*\u001b[39m epsilon \u001b[39mif\u001b[39;00m cov\u001b[39m.\u001b[39mdim()\u001b[39m==\u001b[39m\u001b[39m1\u001b[39m \u001b[39melse\u001b[39;00m torch\u001b[39m.\u001b[39mbmm(cov, epsilon\u001b[39m.\u001b[39munsqueeze(\u001b[39m-\u001b[39m\u001b[39m1\u001b[39m))\u001b[39m.\u001b[39msqueeze(\u001b[39m-\u001b[39m\u001b[39m1\u001b[39m)) \u001b[39m# data + sigma * eps\u001b[39;00m\n\u001b[0;32m---> 22\u001b[0m loss \u001b[39m=\u001b[39m \u001b[39m-\u001b[39m torch\u001b[39m.\u001b[39mmean(torch\u001b[39m.\u001b[39mlogsumexp(torch\u001b[39m.\u001b[39mreshape(\u001b[39mself\u001b[39;49m\u001b[39m.\u001b[39;49mflow\u001b[39m.\u001b[39;49mlog_prob(target),(\u001b[39m-\u001b[39m\u001b[39m1\u001b[39m, \u001b[39mself\u001b[39m\u001b[39m.\u001b[39mnum_mc_draws)), dim\u001b[39m=\u001b[39m\u001b[39m-\u001b[39m\u001b[39m1\u001b[39m))\n\u001b[1;32m     23\u001b[0m \u001b[39mreturn\u001b[39;00m torch\u001b[39m.\u001b[39mmean(loss)\n",
      "File \u001b[0;32m~/anaconda3/lib/python3.10/site-packages/nflows/distributions/base.py:40\u001b[0m, in \u001b[0;36mDistribution.log_prob\u001b[0;34m(self, inputs, context)\u001b[0m\n\u001b[1;32m     36\u001b[0m     \u001b[39mif\u001b[39;00m inputs\u001b[39m.\u001b[39mshape[\u001b[39m0\u001b[39m] \u001b[39m!=\u001b[39m context\u001b[39m.\u001b[39mshape[\u001b[39m0\u001b[39m]:\n\u001b[1;32m     37\u001b[0m         \u001b[39mraise\u001b[39;00m \u001b[39mValueError\u001b[39;00m(\n\u001b[1;32m     38\u001b[0m             \u001b[39m\"\u001b[39m\u001b[39mNumber of input items must be equal to number of context items.\u001b[39m\u001b[39m\"\u001b[39m\n\u001b[1;32m     39\u001b[0m         )\n\u001b[0;32m---> 40\u001b[0m \u001b[39mreturn\u001b[39;00m \u001b[39mself\u001b[39;49m\u001b[39m.\u001b[39;49m_log_prob(inputs, context)\n",
      "File \u001b[0;32m~/anaconda3/lib/python3.10/site-packages/nflows/flows/base.py:39\u001b[0m, in \u001b[0;36mFlow._log_prob\u001b[0;34m(self, inputs, context)\u001b[0m\n\u001b[1;32m     37\u001b[0m \u001b[39mdef\u001b[39;00m \u001b[39m_log_prob\u001b[39m(\u001b[39mself\u001b[39m, inputs, context):\n\u001b[1;32m     38\u001b[0m     embedded_context \u001b[39m=\u001b[39m \u001b[39mself\u001b[39m\u001b[39m.\u001b[39m_embedding_net(context)\n\u001b[0;32m---> 39\u001b[0m     noise, logabsdet \u001b[39m=\u001b[39m \u001b[39mself\u001b[39;49m\u001b[39m.\u001b[39;49m_transform(inputs, context\u001b[39m=\u001b[39;49membedded_context)\n\u001b[1;32m     40\u001b[0m     log_prob \u001b[39m=\u001b[39m \u001b[39mself\u001b[39m\u001b[39m.\u001b[39m_distribution\u001b[39m.\u001b[39mlog_prob(noise, context\u001b[39m=\u001b[39membedded_context)\n\u001b[1;32m     41\u001b[0m     \u001b[39mreturn\u001b[39;00m log_prob \u001b[39m+\u001b[39m logabsdet\n",
      "File \u001b[0;32m~/anaconda3/lib/python3.10/site-packages/torch/nn/modules/module.py:1194\u001b[0m, in \u001b[0;36mModule._call_impl\u001b[0;34m(self, *input, **kwargs)\u001b[0m\n\u001b[1;32m   1190\u001b[0m \u001b[39m# If we don't have any hooks, we want to skip the rest of the logic in\u001b[39;00m\n\u001b[1;32m   1191\u001b[0m \u001b[39m# this function, and just call forward.\u001b[39;00m\n\u001b[1;32m   1192\u001b[0m \u001b[39mif\u001b[39;00m \u001b[39mnot\u001b[39;00m (\u001b[39mself\u001b[39m\u001b[39m.\u001b[39m_backward_hooks \u001b[39mor\u001b[39;00m \u001b[39mself\u001b[39m\u001b[39m.\u001b[39m_forward_hooks \u001b[39mor\u001b[39;00m \u001b[39mself\u001b[39m\u001b[39m.\u001b[39m_forward_pre_hooks \u001b[39mor\u001b[39;00m _global_backward_hooks\n\u001b[1;32m   1193\u001b[0m         \u001b[39mor\u001b[39;00m _global_forward_hooks \u001b[39mor\u001b[39;00m _global_forward_pre_hooks):\n\u001b[0;32m-> 1194\u001b[0m     \u001b[39mreturn\u001b[39;00m forward_call(\u001b[39m*\u001b[39;49m\u001b[39minput\u001b[39;49m, \u001b[39m*\u001b[39;49m\u001b[39m*\u001b[39;49mkwargs)\n\u001b[1;32m   1195\u001b[0m \u001b[39m# Do not call functions when jit is used\u001b[39;00m\n\u001b[1;32m   1196\u001b[0m full_backward_hooks, non_full_backward_hooks \u001b[39m=\u001b[39m [], []\n",
      "File \u001b[0;32m~/anaconda3/lib/python3.10/site-packages/nflows/transforms/base.py:56\u001b[0m, in \u001b[0;36mCompositeTransform.forward\u001b[0;34m(self, inputs, context)\u001b[0m\n\u001b[1;32m     54\u001b[0m \u001b[39mdef\u001b[39;00m \u001b[39mforward\u001b[39m(\u001b[39mself\u001b[39m, inputs, context\u001b[39m=\u001b[39m\u001b[39mNone\u001b[39;00m):\n\u001b[1;32m     55\u001b[0m     funcs \u001b[39m=\u001b[39m \u001b[39mself\u001b[39m\u001b[39m.\u001b[39m_transforms\n\u001b[0;32m---> 56\u001b[0m     \u001b[39mreturn\u001b[39;00m \u001b[39mself\u001b[39;49m\u001b[39m.\u001b[39;49m_cascade(inputs, funcs, context)\n",
      "File \u001b[0;32m~/anaconda3/lib/python3.10/site-packages/nflows/transforms/base.py:50\u001b[0m, in \u001b[0;36mCompositeTransform._cascade\u001b[0;34m(inputs, funcs, context)\u001b[0m\n\u001b[1;32m     48\u001b[0m total_logabsdet \u001b[39m=\u001b[39m inputs\u001b[39m.\u001b[39mnew_zeros(batch_size)\n\u001b[1;32m     49\u001b[0m \u001b[39mfor\u001b[39;00m func \u001b[39min\u001b[39;00m funcs:\n\u001b[0;32m---> 50\u001b[0m     outputs, logabsdet \u001b[39m=\u001b[39m func(outputs, context)\n\u001b[1;32m     51\u001b[0m     total_logabsdet \u001b[39m+\u001b[39m\u001b[39m=\u001b[39m logabsdet\n\u001b[1;32m     52\u001b[0m \u001b[39mreturn\u001b[39;00m outputs, total_logabsdet\n",
      "File \u001b[0;32m~/anaconda3/lib/python3.10/site-packages/torch/nn/modules/module.py:1194\u001b[0m, in \u001b[0;36mModule._call_impl\u001b[0;34m(self, *input, **kwargs)\u001b[0m\n\u001b[1;32m   1190\u001b[0m \u001b[39m# If we don't have any hooks, we want to skip the rest of the logic in\u001b[39;00m\n\u001b[1;32m   1191\u001b[0m \u001b[39m# this function, and just call forward.\u001b[39;00m\n\u001b[1;32m   1192\u001b[0m \u001b[39mif\u001b[39;00m \u001b[39mnot\u001b[39;00m (\u001b[39mself\u001b[39m\u001b[39m.\u001b[39m_backward_hooks \u001b[39mor\u001b[39;00m \u001b[39mself\u001b[39m\u001b[39m.\u001b[39m_forward_hooks \u001b[39mor\u001b[39;00m \u001b[39mself\u001b[39m\u001b[39m.\u001b[39m_forward_pre_hooks \u001b[39mor\u001b[39;00m _global_backward_hooks\n\u001b[1;32m   1193\u001b[0m         \u001b[39mor\u001b[39;00m _global_forward_hooks \u001b[39mor\u001b[39;00m _global_forward_pre_hooks):\n\u001b[0;32m-> 1194\u001b[0m     \u001b[39mreturn\u001b[39;00m forward_call(\u001b[39m*\u001b[39;49m\u001b[39minput\u001b[39;49m, \u001b[39m*\u001b[39;49m\u001b[39m*\u001b[39;49mkwargs)\n\u001b[1;32m   1195\u001b[0m \u001b[39m# Do not call functions when jit is used\u001b[39;00m\n\u001b[1;32m   1196\u001b[0m full_backward_hooks, non_full_backward_hooks \u001b[39m=\u001b[39m [], []\n",
      "File \u001b[0;32m~/anaconda3/lib/python3.10/site-packages/nflows/transforms/permutations.py:42\u001b[0m, in \u001b[0;36mPermutation.forward\u001b[0;34m(self, inputs, context)\u001b[0m\n\u001b[1;32m     41\u001b[0m \u001b[39mdef\u001b[39;00m \u001b[39mforward\u001b[39m(\u001b[39mself\u001b[39m, inputs, context\u001b[39m=\u001b[39m\u001b[39mNone\u001b[39;00m):\n\u001b[0;32m---> 42\u001b[0m     \u001b[39mreturn\u001b[39;00m \u001b[39mself\u001b[39;49m\u001b[39m.\u001b[39;49m_permute(inputs, \u001b[39mself\u001b[39;49m\u001b[39m.\u001b[39;49m_permutation, \u001b[39mself\u001b[39;49m\u001b[39m.\u001b[39;49m_dim)\n",
      "File \u001b[0;32m~/anaconda3/lib/python3.10/site-packages/nflows/transforms/permutations.py:29\u001b[0m, in \u001b[0;36mPermutation._permute\u001b[0;34m(inputs, permutation, dim)\u001b[0m\n\u001b[1;32m     26\u001b[0m \u001b[39m@staticmethod\u001b[39m\n\u001b[1;32m     27\u001b[0m \u001b[39mdef\u001b[39;00m \u001b[39m_permute\u001b[39m(inputs, permutation, dim):\n\u001b[1;32m     28\u001b[0m     \u001b[39mif\u001b[39;00m dim \u001b[39m>\u001b[39m\u001b[39m=\u001b[39m inputs\u001b[39m.\u001b[39mndimension():\n\u001b[0;32m---> 29\u001b[0m         \u001b[39mraise\u001b[39;00m \u001b[39mValueError\u001b[39;00m(\u001b[39m\"\u001b[39m\u001b[39mNo dimension \u001b[39m\u001b[39m{}\u001b[39;00m\u001b[39m in inputs.\u001b[39m\u001b[39m\"\u001b[39m\u001b[39m.\u001b[39mformat(dim))\n\u001b[1;32m     30\u001b[0m     \u001b[39mif\u001b[39;00m inputs\u001b[39m.\u001b[39mshape[dim] \u001b[39m!=\u001b[39m \u001b[39mlen\u001b[39m(permutation):\n\u001b[1;32m     31\u001b[0m         \u001b[39mraise\u001b[39;00m \u001b[39mValueError\u001b[39;00m(\n\u001b[1;32m     32\u001b[0m             \u001b[39m\"\u001b[39m\u001b[39mDimension \u001b[39m\u001b[39m{}\u001b[39;00m\u001b[39m in inputs must be of size \u001b[39m\u001b[39m{}\u001b[39;00m\u001b[39m.\u001b[39m\u001b[39m\"\u001b[39m\u001b[39m.\u001b[39mformat(\n\u001b[1;32m     33\u001b[0m                 dim, \u001b[39mlen\u001b[39m(permutation)\n\u001b[1;32m     34\u001b[0m             )\n\u001b[1;32m     35\u001b[0m         )\n",
      "\u001b[0;31mValueError\u001b[0m: No dimension 1 in inputs."
     ]
    }
   ],
   "source": [
    "\n",
    "import torch\n",
    "import numpy as np\n",
    "import matplotlib.pyplot as plt \n",
    "\n",
    "\n",
    "from DynGenModels.trainer.trainer import DynGenModelTrainer\n",
    "from DynGenModels.configs.deconvolution_configs import Deconvolution_Gauss1D_MAF_RQS_NormFlow as Configs\n",
    "\n",
    "configs = Configs(features = ['x'],\n",
    "                  log_norm_scale = 1.0,\n",
    "                  num_points = 50000,\n",
    "                  data_split_fracs = [0.8, 0.2, 0.0],\n",
    "                  epochs = 5,\n",
    "                  batch_size = 5,\n",
    "                  lr = 1e-4,\n",
    "                  num_transforms = 5,\n",
    "                  dim_hidden = 128,\n",
    "                  num_blocks = 3,\n",
    "                  use_batch_norm = True,\n",
    "                  num_bins  = 20,\n",
    "                  tail_bound = 15.0,\n",
    "                  num_mc_draws = 3\n",
    "                  )\n",
    "\n",
    "#...set working directory for results:\n",
    "\n",
    "configs.set_workdir(path='../../results', save_config=True)\n",
    "\n",
    "#...define setup and train model :\n",
    "\n",
    "from DynGenModels.datamodules.deconvolution.datasets import SimpleSmearedGaussDataset \n",
    "from DynGenModels.datamodules.deconvolution.dataloader import ToysDataLoader \n",
    "from DynGenModels.models.nflow_nets import MAFPiecewiseRQS\n",
    "from DynGenModels.dynamics.nf.deconvolution import DeconvolutionNormFlows\n",
    "\n",
    "gauss = SimpleSmearedGaussDataset(configs)\n",
    "dataloader = ToysDataLoader(gauss, configs)\n",
    "net = MAFPiecewiseRQS(configs)\n",
    "dynamics = DeconvolutionNormFlows(net, configs)\n",
    "maf = DynGenModelTrainer(dynamics=dynamics, dataloader=dataloader, configs=configs)\n",
    "maf.train()"
   ]
  },
  {
   "cell_type": "code",
   "execution_count": 7,
   "metadata": {},
   "outputs": [
    {
     "data": {
      "text/plain": [
       "2"
      ]
     },
     "execution_count": 7,
     "metadata": {},
     "output_type": "execute_result"
    }
   ],
   "source": [
    "A=torch.Tensor([[1,222,1],[1,2,1],[1,9,1]]) \n",
    "A.dim()"
   ]
  },
  {
   "cell_type": "code",
   "execution_count": null,
   "metadata": {},
   "outputs": [],
   "source": []
  }
 ],
 "metadata": {
  "kernelspec": {
   "display_name": "Python 3 (ipykernel)",
   "language": "python",
   "name": "python3"
  },
  "language_info": {
   "codemirror_mode": {
    "name": "ipython",
    "version": 3
   },
   "file_extension": ".py",
   "mimetype": "text/x-python",
   "name": "python",
   "nbconvert_exporter": "python",
   "pygments_lexer": "ipython3",
   "version": "3.10.9"
  }
 },
 "nbformat": 4,
 "nbformat_minor": 2
}
