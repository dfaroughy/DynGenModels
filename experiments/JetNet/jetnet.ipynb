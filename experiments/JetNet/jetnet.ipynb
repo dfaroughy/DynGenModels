{
 "cells": [
  {
   "cell_type": "code",
   "execution_count": 4,
   "metadata": {},
   "outputs": [],
   "source": [
    "# import numpy as np\n",
    "# import matplotlib.pyplot as plt\n",
    "\n",
    "# from DynGenModels.datamodules.jetnet.datasets import JetNetDataset\n",
    "# from DynGenModels.datamodules.jetnet.configs import JetNet_Configs\n",
    "# from DynGenModels.utils.utils import print_table\n",
    "\n",
    "# configs = JetNet_Configs(data_dir=\"../../data/jetnet\", jet_types=\"t\")\n",
    "# print(configs)\n",
    "# tops = JetNetDataset(configs)\n",
    "\n",
    "# def feature_plots(jetnet_data, generated=None, save_dir=None, features=[r'$\\Delta\\eta$', r'$\\Delta\\phi$', r'$p^{\\rm rel}_T$'], num_particles=100000):\n",
    "#     _, axs = plt.subplots(1, 3, figsize=(7, 2.5))\n",
    "#     axs[0].hist(jetnet_data[..., 0].flatten()[:num_particles], bins=100,log=True, color='gold' if generated is None else 'silver', density=True)\n",
    "#     if generated is not None:\n",
    "#         axs[0].hist(generated[..., 0].flatten()[:num_particles], bins=100,log=True, color='gold', histtype='step', density=True, lw=0.75) \n",
    "#     axs[1].hist(jetnet_data[..., 1].flatten()[:num_particles], bins=100, log=True, color='darkblue' if generated is None else 'silver', density=True)\n",
    "#     if generated is not None:\n",
    "#         axs[1].hist(generated[..., 1].flatten()[:num_particles], bins=100,log=True, color='darkblue', histtype='step', density=True, lw=0.75)\n",
    "#     axs[2].hist(jetnet_data[..., 2].flatten()[:num_particles], bins=100, log=True, color='darkred' if generated is None else 'silver', density=True)\n",
    "#     if generated is not None:\n",
    "#         axs[2].hist(generated[..., 2].flatten()[:num_particles], bins=100,log=True, color='darkred', histtype='step', density=True, lw=0.75)\n",
    "#     axs[0].set_xlabel(features[0])\n",
    "#     axs[1].set_xlabel(features[1])\n",
    "#     axs[2].set_xlabel(features[2])\n",
    "#     plt.tight_layout()\n",
    "#     if save_dir is not None:\n",
    "#         plt.savefig(save_dir + '/particle_features.pdf')\n",
    "#     plt.show()\n",
    "\n",
    "import matplotlib.gridspec as gridspec\n",
    "\n",
    "def results_plots(jetnet_data, generated=None, save_dir=None, features=[r'$\\Delta\\eta$', r'$\\Delta\\phi$', r'$p^{\\rm rel}_T$'], num_particles=100000):\n",
    "    fig = plt.figure(figsize=(10, 3))\n",
    "    gs = gridspec.GridSpec(2, 3, height_ratios=[5, 1])\n",
    "    gs.update(hspace=0.05) \n",
    "    \n",
    "    for idx, feature in enumerate(features):\n",
    "        ax = fig.add_subplot(gs[idx])\n",
    "        h1, bins, _ = ax.hist(jetnet_data[..., idx].flatten()[:num_particles], bins=100, log=True, color='silver', density=True)\n",
    "        if generated is not None:\n",
    "            h2, _, _ = ax.hist(generated[..., idx].flatten()[:num_particles], bins=100, log=True, color=['gold', 'darkblue', 'darkred'][idx], histtype='step', density=True, lw=0.75)\n",
    "            ax.set_xticklabels([])\n",
    "            ax.set_xticks([])\n",
    "            for tick in ax.yaxis.get_major_ticks():\n",
    "               tick.label.set_fontsize(8)\n",
    "        else:\n",
    "            ax.set_xlabel(feature)\n",
    "        \n",
    "        # Ratio plot\n",
    "        if generated is not None:\n",
    "            ax_ratio = fig.add_subplot(gs[idx + 3])\n",
    "            ratio = np.divide(h1, h2, out=np.ones_like(h2), where=h2 != 0)\n",
    "            ax_ratio.plot(0.5 * (bins[:-1] + bins[1:]), ratio, color=['gold', 'darkblue', 'darkred'][idx],lw=0.75)\n",
    "            ax_ratio.set_ylim(0.5, 1.5, 0) # Adjust this as needed\n",
    "            ax_ratio.set_xlabel(feature)\n",
    "            ax_ratio.axhline(1, color='gray', linestyle='--', lw=0.75)\n",
    "            for tick in ax_ratio.xaxis.get_major_ticks():\n",
    "               tick.label.set_fontsize(7)\n",
    "            for tick in ax_ratio.yaxis.get_major_ticks():\n",
    "              tick.label.set_fontsize(8)  \n",
    "            if idx == 0:\n",
    "                ax_ratio.set_ylabel('ratio', fontsize=8)\n",
    "            ax_ratio.set_yticks([0.5, 1, 1.5])\n",
    "    if save_dir is not None:\n",
    "        plt.savefig(save_dir + '/particle_features.pdf')\n",
    "    plt.show()\n",
    "\n",
    "# print_table(tops.summary_stats)\n",
    "# feature_plots(tops.particles)\n",
    "\n",
    "# fig, axs = plt.subplots(1, 1, figsize=(2,2))\n",
    "# plt.hist(tops.mask.sum(dim=1), bins=range(31), color='gold', log=True, lw=0.75)\n",
    "# plt.xlabel('particle multiplicity $N$')\n",
    "# plt.show()\n",
    "\n"
   ]
  },
  {
   "cell_type": "markdown",
   "metadata": {},
   "source": [
    "## Train Flow-Matching \n",
    "\n",
    "### 1. Vanila EPiC Network"
   ]
  },
  {
   "cell_type": "code",
   "execution_count": 1,
   "metadata": {},
   "outputs": [
    {
     "name": "stdout",
     "output_type": "stream",
     "text": [
      "#=================================================================================\n",
      "INFO: created directory: ../../results/JetNet.CondFlowMatch.EPiC.2023.10.10_23h03\n",
      "#=================================================================================\n",
      "+--------------------+----------------------------------+\n",
      "| Parameters         | Values                           |\n",
      "+--------------------+----------------------------------+\n",
      "| data_dir           | ../../data/jetnet                |\n",
      "| data_name          | JetNet                           |\n",
      "| features           | ['eta_rel', 'phi_rel', 'pt_rel'] |\n",
      "| dim_input          | 3                                |\n",
      "| num_particles      | 30                               |\n",
      "| jet_types          | t                                |\n",
      "| cuts               | num_constituents: 30             |\n",
      "| preprocess         | ['standardize']                  |\n",
      "| device             | cpu                              |\n",
      "| data_split_fracs   | [0.8, 0.2, 0.0]                  |\n",
      "| batch_size         | 1024                             |\n",
      "| epochs             | 10                               |\n",
      "| lr                 | 0.0001                           |\n",
      "| early_stopping     |                                  |\n",
      "| warmup_epochs      |                                  |\n",
      "| print_epochs       |                                  |\n",
      "| seed               | 42                               |\n",
      "| gradient_clip      | 1.0                              |\n",
      "| model_name         | EPiC                             |\n",
      "| pooling            | mean_sum                         |\n",
      "| dim_hidden         | 128                              |\n",
      "| dim_global         | 10                               |\n",
      "| num_epic_layers    | 6                                |\n",
      "| dynamics_name      | CondFlowMatch                    |\n",
      "| sigma              | 1e-05                            |\n",
      "| t0                 | 0.0                              |\n",
      "| t1                 | 1.0                              |\n",
      "| solver             | midpoint                         |\n",
      "| num_sampling_steps | 100                              |\n",
      "| sensitivity        | adjoint                          |\n",
      "| atol               | 0.0001                           |\n",
      "| rtol               | 0.0001                           |\n",
      "+--------------------+----------------------------------+\n",
      "INFO: building dataloaders...\n",
      "INFO: train/val/test split ratios: 0.8/0.2/0.0\n",
      "INFO: train size: 140434, validation size: 35108, testing sizes: 0\n",
      "INFO: number of training parameters: 425078\n"
     ]
    },
    {
     "data": {
      "application/vnd.jupyter.widget-view+json": {
       "model_id": "458ed67a04524757a6cbce6884fb6e57",
       "version_major": 2,
       "version_minor": 0
      },
      "text/plain": [
       "epochs:   0%|          | 0/10 [00:00<?, ?it/s]"
      ]
     },
     "metadata": {},
     "output_type": "display_data"
    }
   ],
   "source": [
    "import torch\n",
    "import numpy as np\n",
    "import matplotlib.pyplot as plt \n",
    "\n",
    "from DynGenModels.trainer.trainer import DynGenModelTrainer\n",
    "from DynGenModels.configs.jetnet_configs import JetNet_EPiC_CondFlowMatch as Configs\n",
    "\n",
    "configs = Configs(data_dir = '../../data/jetnet',\n",
    "                  features = ['eta_rel', 'phi_rel', 'pt_rel'],\n",
    "                  preprocess=['standardize'],\n",
    "                  num_particles = 30,\n",
    "                  cuts = {'num_constituents': 30},\n",
    "                  jet_types = 't',\n",
    "                  data_split_fracs = [0.8, 0.2, 0.0],\n",
    "                  epochs = 10,\n",
    "                  batch_size = 1024,\n",
    "                  lr = 1e-4,\n",
    "                  gradient_clip = 1.0,\n",
    "                  pooling = 'mean_sum',\n",
    "                  dim_hidden = 128, \n",
    "                  num_epic_layers = 6,\n",
    "                  sigma = 1e-5,\n",
    "                  solver='midpoint',\n",
    "                  seed = 42,\n",
    "                  num_sampling_steps=100)\n",
    "\n",
    "#...set working directory for results:\n",
    "\n",
    "configs.set_workdir(path='../../results', save_config=True)\n",
    "\n",
    "#...define setup and train model :\n",
    "\n",
    "from DynGenModels.datamodules.jetnet.datasets import JetNetDataset \n",
    "from DynGenModels.datamodules.jetnet.dataloader import JetNetDataLoader \n",
    "from DynGenModels.models.deep_sets import EPiC\n",
    "from DynGenModels.dynamics.cnf.condflowmatch import SimplifiedCondFlowMatching\n",
    "\n",
    "tops = JetNetDataset(configs)\n",
    "dataloader = JetNetDataLoader(tops, configs)\n",
    "net = EPiC(configs)\n",
    "dynamics = SimplifiedCondFlowMatching(net, configs)\n",
    "cfm = DynGenModelTrainer(dynamics=dynamics, dataloader=dataloader, configs=configs)\n",
    "cfm.train()"
   ]
  },
  {
   "cell_type": "code",
   "execution_count": 2,
   "metadata": {},
   "outputs": [
    {
     "name": "stdout",
     "output_type": "stream",
     "text": [
      "INFO: neural ODE solver with midpoint method and steps=100\n"
     ]
    },
    {
     "name": "stderr",
     "output_type": "stream",
     "text": [
      "/Users/dario/anaconda3/lib/python3.10/site-packages/torchdyn/numerics/odeint.py:84: UserWarning: Setting tolerances has no effect on fixed-step methods\n",
      "  warn(\"Setting tolerances has no effect on fixed-step methods\")\n"
     ]
    },
    {
     "name": "stdout",
     "output_type": "stream",
     "text": [
      "INFO: post-processing sampled data with ['inverse_standardize']\n"
     ]
    }
   ],
   "source": [
    "from DynGenModels.pipelines.SamplingPipeline import FlowMatchPipeline \n",
    "from DynGenModels.datamodules.jetnet.dataprocess import PostProcessJetNetData \n",
    "\n",
    "pipeline = FlowMatchPipeline(trained_model=cfm, \n",
    "                             source_input=torch.randn(10000, 30, 3),\n",
    "                             configs=configs, \n",
    "                             postprocessor=PostProcessJetNetData)"
   ]
  },
  {
   "cell_type": "code",
   "execution_count": 5,
   "metadata": {},
   "outputs": [
    {
     "name": "stderr",
     "output_type": "stream",
     "text": [
      "/var/folders/qf/b744x74x1633_slts1tp1w800000gn/T/ipykernel_27068/3836228338.py:46: MatplotlibDeprecationWarning: The label function was deprecated in Matplotlib 3.1 and will be removed in 3.8. Use Tick.label1 instead.\n",
      "  tick.label.set_fontsize(8)\n",
      "/var/folders/qf/b744x74x1633_slts1tp1w800000gn/T/ipykernel_27068/3836228338.py:55: MatplotlibDeprecationWarning: Passing the emit parameter of set_ylim() positionally is deprecated since Matplotlib 3.6; the parameter will become keyword-only two minor releases later.\n",
      "  ax_ratio.set_ylim(0.5, 1.5, 0) # Adjust this as needed\n",
      "/var/folders/qf/b744x74x1633_slts1tp1w800000gn/T/ipykernel_27068/3836228338.py:59: MatplotlibDeprecationWarning: The label function was deprecated in Matplotlib 3.1 and will be removed in 3.8. Use Tick.label1 instead.\n",
      "  tick.label.set_fontsize(7)\n",
      "/var/folders/qf/b744x74x1633_slts1tp1w800000gn/T/ipykernel_27068/3836228338.py:61: MatplotlibDeprecationWarning: The label function was deprecated in Matplotlib 3.1 and will be removed in 3.8. Use Tick.label1 instead.\n",
      "  tick.label.set_fontsize(8)\n"
     ]
    },
    {
     "data": {
      "image/png": "[encoded data removed]",
      "text/plain": [
       "<Figure size 1000x300 with 6 Axes>"
      ]
     },
     "metadata": {},
     "output_type": "display_data"
    }
   ],
   "source": [
    "results_plots(tops.particles, pipeline.target, save_dir=configs.workdir)"
   ]
  },
  {
   "cell_type": "markdown",
   "metadata": {},
   "source": [
    "### 2. EPiC Network with an initial Self-Attention layer"
   ]
  },
  {
   "cell_type": "code",
   "execution_count": 6,
   "metadata": {},
   "outputs": [
    {
     "name": "stdout",
     "output_type": "stream",
     "text": [
      "#=================================================================================\n",
      "INFO: created directory: ../../results/JetNet.CondFlowMatch.EPiC.2023.10.10_23h13\n",
      "#=================================================================================\n",
      "+--------------------+----------------------------------+\n",
      "| Parameters         | Values                           |\n",
      "+--------------------+----------------------------------+\n",
      "| data_dir           | ../../data/jetnet                |\n",
      "| data_name          | JetNet                           |\n",
      "| features           | ['eta_rel', 'phi_rel', 'pt_rel'] |\n",
      "| dim_input          | 3                                |\n",
      "| num_particles      | 30                               |\n",
      "| jet_types          | t                                |\n",
      "| cuts               | num_constituents: 30             |\n",
      "| preprocess         | ['standardize']                  |\n",
      "| device             | cpu                              |\n",
      "| data_split_fracs   | [0.8, 0.2, 0.0]                  |\n",
      "| batch_size         | 1024                             |\n",
      "| epochs             | 10                               |\n",
      "| lr                 | 0.0001                           |\n",
      "| early_stopping     |                                  |\n",
      "| warmup_epochs      |                                  |\n",
      "| print_epochs       |                                  |\n",
      "| seed               | 42                               |\n",
      "| gradient_clip      | 1.0                              |\n",
      "| model_name         | EPiC                             |\n",
      "| pooling            | attention                        |\n",
      "| dim_hidden         | 128                              |\n",
      "| dim_global         | 10                               |\n",
      "| num_epic_layers    | 6                                |\n",
      "| dynamics_name      | CondFlowMatch                    |\n",
      "| sigma              | 1e-05                            |\n",
      "| t0                 | 0.0                              |\n",
      "| t1                 | 1.0                              |\n",
      "| solver             | midpoint                         |\n",
      "| num_sampling_steps | 100                              |\n",
      "| sensitivity        | adjoint                          |\n",
      "| atol               | 0.0001                           |\n",
      "| rtol               | 0.0001                           |\n",
      "+--------------------+----------------------------------+\n",
      "INFO: building dataloaders...\n",
      "INFO: train/val/test split ratios: 0.8/0.2/0.0\n",
      "INFO: train size: 140434, validation size: 35108, testing sizes: 0\n",
      "INFO: number of training parameters: 425210\n"
     ]
    },
    {
     "data": {
      "application/vnd.jupyter.widget-view+json": {
       "model_id": "da0f50da9bf1471d8baf50c74886de5d",
       "version_major": 2,
       "version_minor": 0
      },
      "text/plain": [
       "epochs:   0%|          | 0/10 [00:00<?, ?it/s]"
      ]
     },
     "metadata": {},
     "output_type": "display_data"
    }
   ],
   "source": [
    "import torch\n",
    "import numpy as np\n",
    "import matplotlib.pyplot as plt \n",
    "\n",
    "from DynGenModels.trainer.trainer import DynGenModelTrainer\n",
    "from DynGenModels.configs.jetnet_configs import JetNet_EPiC_CondFlowMatch as Configs\n",
    "\n",
    "configs = Configs(data_dir = '../../data/jetnet',\n",
    "                  features = ['eta_rel', 'phi_rel', 'pt_rel'],\n",
    "                  preprocess=['standardize'],\n",
    "                  num_particles = 30,\n",
    "                  cuts = {'num_constituents': 30},\n",
    "                  jet_types = 't',\n",
    "                  data_split_fracs = [0.8, 0.2, 0.0],\n",
    "                  epochs = 10,\n",
    "                  batch_size = 1024,\n",
    "                  lr = 1e-4,\n",
    "                  gradient_clip = 1.0,\n",
    "                  pooling = 'attention',\n",
    "                  dim_hidden = 128, \n",
    "                  num_epic_layers = 6,\n",
    "                  sigma = 1e-5,\n",
    "                  solver='midpoint',\n",
    "                  seed = 42,\n",
    "                  num_sampling_steps=100)\n",
    "\n",
    "#...set working directory for results:\n",
    "\n",
    "configs.set_workdir(path='../../results', save_config=True)\n",
    "\n",
    "#...define setup and train model :\n",
    "\n",
    "from DynGenModels.datamodules.jetnet.datasets import JetNetDataset \n",
    "from DynGenModels.datamodules.jetnet.dataloader import JetNetDataLoader \n",
    "from DynGenModels.models.deep_sets import EPiC\n",
    "from DynGenModels.dynamics.cnf.condflowmatch import SimplifiedCondFlowMatching\n",
    "\n",
    "tops = JetNetDataset(configs)\n",
    "dataloader = JetNetDataLoader(tops, configs)\n",
    "net = EPiC(configs)\n",
    "dynamics = SimplifiedCondFlowMatching(net, configs)\n",
    "cfm = DynGenModelTrainer(dynamics=dynamics, dataloader=dataloader, configs=configs)\n",
    "cfm.train()"
   ]
  },
  {
   "cell_type": "code",
   "execution_count": null,
   "metadata": {},
   "outputs": [],
   "source": [
    "from DynGenModels.pipelines.SamplingPipeline import FlowMatchPipeline \n",
    "from DynGenModels.datamodules.jetnet.dataprocess import PostProcessJetNetData \n",
    "\n",
    "pipeline = FlowMatchPipeline(trained_model=cfm, \n",
    "                             source_input=torch.randn(10000, 30, 3),\n",
    "                             configs=configs, \n",
    "                             postprocessor=PostProcessJetNetData)"
   ]
  },
  {
   "cell_type": "code",
   "execution_count": null,
   "metadata": {},
   "outputs": [],
   "source": [
    "results_plots(tops.particles, pipeline.target, save_dir=configs.workdir)"
   ]
  },
  {
   "cell_type": "markdown",
   "metadata": {},
   "source": [
    "## Loading Pre-trained model"
   ]
  },
  {
   "cell_type": "code",
   "execution_count": 5,
   "metadata": {},
   "outputs": [
    {
     "name": "stdout",
     "output_type": "stream",
     "text": [
      "+--------------------+----------------------------------+\n",
      "| Parameters         | Values                           |\n",
      "+--------------------+----------------------------------+\n",
      "| data_dir           | ../../data/jetnet                |\n",
      "| data_name          | JetNet                           |\n",
      "| features           | ['eta_rel', 'phi_rel', 'pt_rel'] |\n",
      "| dim_input          | 3                                |\n",
      "| num_particles      | 30                               |\n",
      "| jet_types          | t                                |\n",
      "| preprocess         | ['standardize']                  |\n",
      "| device             | cpu                              |\n",
      "| data_split_fracs   | [0.8, 0.2, 0.0]                  |\n",
      "| batch_size         | 1024                             |\n",
      "| epochs             | 10                               |\n",
      "| lr                 | 0.001                            |\n",
      "| early_stopping     |                                  |\n",
      "| warmup_epochs      |                                  |\n",
      "| print_epochs       |                                  |\n",
      "| seed               | 12345                            |\n",
      "| model_name         | EPiC                             |\n",
      "| dim_hidden         | 32                               |\n",
      "| dim_global         | 10                               |\n",
      "| num_epic_layers    | 2                                |\n",
      "| dynamics_name      | CondFlowMatch                    |\n",
      "| sigma              | 1e-05                            |\n",
      "| t0                 | 0.0                              |\n",
      "| t1                 | 1.0                              |\n",
      "| solver             | midpoint                         |\n",
      "| num_sampling_steps | 100                              |\n",
      "| sensitivity        | adjoint                          |\n",
      "| atol               | 0.0001                           |\n",
      "| rtol               | 0.0001                           |\n",
      "+--------------------+----------------------------------+\n",
      "INFO: building dataloaders...\n",
      "INFO: train/val/test split ratios: 0.8/0.2/0.0\n",
      "INFO: train size: 142356, validation size: 35589, testing sizes: 0\n"
     ]
    }
   ],
   "source": [
    "import numpy as np\n",
    "import torch\n",
    "import matplotlib.pyplot as plt\n",
    "import numpy as np\n",
    "\n",
    "from DynGenModels.trainer.trainer import DynGenModelTrainer\n",
    "from DynGenModels.datamodules.jetnet.datasets import JetNetDataset\n",
    "from DynGenModels.datamodules.jetnet.dataloader import JetNetDataLoader\n",
    "from DynGenModels.models.deep_sets import EPiC\n",
    "from DynGenModels.dynamics.cnf.condflowmatch import SimplifiedCondFlowMatching\n",
    "\n",
    "from DynGenModels.configs.jetnet_configs import JetNet_EPiC_CondFlowMatch as Configs\n",
    "\n",
    "workdir = '../../results/JetNet.CondFlowMatch.EPiC.2023.10.09_23h54'\n",
    "configs = Configs().load(workdir + '/config.json')\n",
    "configs.workdir = workdir\n",
    "\n",
    "tops = JetNetDataset(configs)\n",
    "dataloader = JetNetDataLoader(tops, configs)\n",
    "net = EPiC(configs)\n",
    "dynamics = SimplifiedCondFlowMatching(net, configs)\n",
    "cfm = DynGenModelTrainer(dynamics=dynamics, dataloader=dataloader, configs=configs)\n",
    "\n",
    "cfm.load()"
   ]
  },
  {
   "cell_type": "code",
   "execution_count": 6,
   "metadata": {},
   "outputs": [
    {
     "name": "stdout",
     "output_type": "stream",
     "text": [
      "INFO: neural ODE solver with midpoint method and steps=100\n"
     ]
    },
    {
     "name": "stderr",
     "output_type": "stream",
     "text": [
      "/Users/dario/anaconda3/lib/python3.10/site-packages/torchdyn/numerics/odeint.py:84: UserWarning: Setting tolerances has no effect on fixed-step methods\n",
      "  warn(\"Setting tolerances has no effect on fixed-step methods\")\n"
     ]
    },
    {
     "name": "stdout",
     "output_type": "stream",
     "text": [
      "INFO: post-processing sampled data with ['inverse_standardize']\n"
     ]
    }
   ],
   "source": [
    "from DynGenModels.pipelines.SamplingPipeline import FlowMatchPipeline \n",
    "from DynGenModels.datamodules.jetnet.dataprocess import PostProcessJetNetData \n",
    "\n",
    "pipeline = FlowMatchPipeline(trained_model=cfm, \n",
    "                             source_input=torch.randn(10000, 30, 3),\n",
    "                             configs=configs, \n",
    "                             postprocessor=PostProcessJetNetData)"
   ]
  },
  {
   "cell_type": "markdown",
   "metadata": {},
   "source": [
    "### plots"
   ]
  },
  {
   "cell_type": "code",
   "execution_count": 13,
   "metadata": {},
   "outputs": [
    {
     "name": "stderr",
     "output_type": "stream",
     "text": [
      "/var/folders/qf/b744x74x1633_slts1tp1w800000gn/T/ipykernel_83436/1148517529.py:16: MatplotlibDeprecationWarning: The label function was deprecated in Matplotlib 3.1 and will be removed in 3.8. Use Tick.label1 instead.\n",
      "  tick.label.set_fontsize(8)\n",
      "/var/folders/qf/b744x74x1633_slts1tp1w800000gn/T/ipykernel_83436/1148517529.py:25: MatplotlibDeprecationWarning: Passing the emit parameter of set_ylim() positionally is deprecated since Matplotlib 3.6; the parameter will become keyword-only two minor releases later.\n",
      "  ax_ratio.set_ylim(0.5, 1.5, 0) # Adjust this as needed\n",
      "/var/folders/qf/b744x74x1633_slts1tp1w800000gn/T/ipykernel_83436/1148517529.py:29: MatplotlibDeprecationWarning: The label function was deprecated in Matplotlib 3.1 and will be removed in 3.8. Use Tick.label1 instead.\n",
      "  tick.label.set_fontsize(7)\n",
      "/var/folders/qf/b744x74x1633_slts1tp1w800000gn/T/ipykernel_83436/1148517529.py:31: MatplotlibDeprecationWarning: The label function was deprecated in Matplotlib 3.1 and will be removed in 3.8. Use Tick.label1 instead.\n",
      "  tick.label.set_fontsize(8)\n"
     ]
    },
    {
     "data": {
      "image/png": "[encoded data removed]",
      "text/plain": [
       "<Figure size 1000x300 with 6 Axes>"
      ]
     },
     "metadata": {},
     "output_type": "display_data"
    }
   ],
   "source": [
    "\n",
    "import matplotlib.gridspec as gridspec\n",
    "\n",
    "def results_plots(jetnet_data, generated=None, save_dir=None, features=[r'$\\Delta\\eta$', r'$\\Delta\\phi$', r'$p^{\\rm rel}_T$'], num_particles=100000):\n",
    "    fig = plt.figure(figsize=(10, 3))\n",
    "    gs = gridspec.GridSpec(2, 3, height_ratios=[5, 1])\n",
    "    gs.update(hspace=0.05) \n",
    "    \n",
    "    for idx, feature in enumerate(features):\n",
    "        ax = fig.add_subplot(gs[idx])\n",
    "        h1, bins, _ = ax.hist(jetnet_data[..., idx].flatten()[:num_particles], bins=100, log=True, color='silver', density=True)\n",
    "        if generated is not None:\n",
    "            h2, _, _ = ax.hist(generated[..., idx].flatten()[:num_particles], bins=100, log=True, color=['gold', 'darkblue', 'darkred'][idx], histtype='step', density=True, lw=0.75)\n",
    "            ax.set_xticklabels([])\n",
    "            ax.set_xticks([])\n",
    "            for tick in ax.yaxis.get_major_ticks():\n",
    "               tick.label.set_fontsize(8)\n",
    "        else:\n",
    "            ax.set_xlabel(feature)\n",
    "        \n",
    "        # Ratio plot\n",
    "        if generated is not None:\n",
    "            ax_ratio = fig.add_subplot(gs[idx + 3])\n",
    "            ratio = np.divide(h1, h2, out=np.ones_like(h2), where=h2 != 0)\n",
    "            ax_ratio.plot(0.5 * (bins[:-1] + bins[1:]), ratio, color=['gold', 'darkblue', 'darkred'][idx],lw=0.75)\n",
    "            ax_ratio.set_ylim(0.5, 1.5, 0) # Adjust this as needed\n",
    "            ax_ratio.set_xlabel(feature)\n",
    "            ax_ratio.axhline(1, color='gray', linestyle='--', lw=0.75)\n",
    "            for tick in ax_ratio.xaxis.get_major_ticks():\n",
    "               tick.label.set_fontsize(7)\n",
    "            for tick in ax_ratio.yaxis.get_major_ticks():\n",
    "              tick.label.set_fontsize(8)  \n",
    "            if idx == 0:\n",
    "                ax_ratio.set_ylabel('ratio', fontsize=8)\n",
    "            ax_ratio.set_yticks([0.5, 1, 1.5])\n",
    "    if save_dir is not None:\n",
    "        plt.savefig(save_dir + '/particle_features.pdf')\n",
    "    plt.show()\n",
    "\n",
    "results_plots(tops.particles, pipeline.target, save_dir=configs.workdir)\n",
    "    "
   ]
  }
 ],
 "metadata": {
  "kernelspec": {
   "display_name": "Python 3 (ipykernel)",
   "language": "python",
   "name": "python3"
  },
  "language_info": {
   "codemirror_mode": {
    "name": "ipython",
    "version": 3
   },
   "file_extension": ".py",
   "mimetype": "text/x-python",
   "name": "python",
   "nbconvert_exporter": "python",
   "pygments_lexer": "ipython3",
   "version": "3.10.9"
  },
  "orig_nbformat": 4
 },
 "nbformat": 4,
 "nbformat_minor": 2
}
