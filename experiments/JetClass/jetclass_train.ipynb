{
 "cells": [
  {
   "cell_type": "markdown",
   "metadata": {},
   "source": [
    "## EPiC Network"
   ]
  },
  {
   "cell_type": "code",
   "execution_count": 1,
   "metadata": {},
   "outputs": [
    {
     "name": "stdout",
     "output_type": "stream",
     "text": [
      "#=====================================================================\n",
      "INFO: created directory: ../../results/test.CFM.EPiC.2024.05.22_17h37\n",
      "#=====================================================================\n",
      "+----------------------+-----------------+\n",
      "| Parameters           | Values          |\n",
      "+----------------------+-----------------+\n",
      "| NAME                 | test            |\n",
      "| DATASET              | jetclass        |\n",
      "| DATA_SOURCE          | noise           |\n",
      "| DATA_TARGET          | top             |\n",
      "| MAX_NUM_CONSTITUENTS | 30              |\n",
      "| FEATURES             | constituents    |\n",
      "| PREPROCESS           | ['standardize'] |\n",
      "| DIM_INPUT            | 3               |\n",
      "| DEVICE               | cuda:0          |\n",
      "| OPTIMIZER            | Adam            |\n",
      "| LR                   | 0.0001          |\n",
      "| WEIGHT_DECAY         | 0.0             |\n",
      "| OPTIMIZER_BETAS      | [0.9, 0.999]    |\n",
      "| OPTIMIZER_EPS        | 1e-08           |\n",
      "| OPTIMIZER_AMSGRAD    | False           |\n",
      "| GRADIENT_CLIP        | 1.0             |\n",
      "| SCHEDULER            |                 |\n",
      "| SCHEDULER_T_MAX      |                 |\n",
      "| SCHEDULER_ETA_MIN    |                 |\n",
      "| SCHEDULER_GAMMA      |                 |\n",
      "| SCHEDULER_STEP_SIZE  |                 |\n",
      "| EPOCHS               | 200             |\n",
      "| BATCH_SIZE           | 1024            |\n",
      "| DATA_SPLIT_FRACS     | [0.8, 0.2, 0.0] |\n",
      "| NUM_WORKERS          | 0               |\n",
      "| PIN_MEMORY           | False           |\n",
      "| EARLY_STOPPING       | 20              |\n",
      "| MIN_EPOCHS           |                 |\n",
      "| PRINT_EPOCHS         | 10              |\n",
      "| FIX_SEED             |                 |\n",
      "| MODEL                | EPiC            |\n",
      "| POOLING              | mean_sum        |\n",
      "| DIM_HIDDEN           | 300             |\n",
      "| TIME_EMBEDDING       | sinusoidal      |\n",
      "| DIM_TIME_EMB         | 16              |\n",
      "| DIM_GLOBAL           | 32              |\n",
      "| NUM_EPIC_LAYERS      | 20              |\n",
      "| USE_SKIP_CONNECTIONS | True            |\n",
      "| ACTIVATION           | LeakyReLU       |\n",
      "| DROPOUT              | 0.4             |\n",
      "| DYNAMICS             | CFM             |\n",
      "| SIGMA                | 1e-05           |\n",
      "| AUGMENTED            | False           |\n",
      "| T0                   | 0.0             |\n",
      "| T1                   | 1.0             |\n",
      "| SAMPLER              | NeuralODE       |\n",
      "| SOLVER               | midpoint        |\n",
      "| NUM_SAMPLING_STEPS   | 200             |\n",
      "| SENSITIVITY          | adjoint         |\n",
      "| ATOL                 |                 |\n",
      "| RTOL                 |                 |\n",
      "| NUM_GEN_SAMPLES      | 10000           |\n",
      "+----------------------+-----------------+\n"
     ]
    },
    {
     "name": "stderr",
     "output_type": "stream",
     "text": [
      "2024-05-22 17:37:38.118135: I tensorflow/tsl/cuda/cudart_stub.cc:28] Could not find cuda drivers on your machine, GPU will not be used.\n",
      "2024-05-22 17:37:42.161349: I tensorflow/tsl/cuda/cudart_stub.cc:28] Could not find cuda drivers on your machine, GPU will not be used.\n",
      "2024-05-22 17:37:42.169255: I tensorflow/core/platform/cpu_feature_guard.cc:182] This TensorFlow binary is optimized to use available CPU instructions in performance-critical operations.\n",
      "To enable the following instructions: AVX2 AVX512F FMA, in other operations, rebuild TensorFlow with the appropriate compiler flags.\n",
      "2024-05-22 17:37:46.940370: W tensorflow/compiler/tf2tensorrt/utils/py_utils.cc:38] TF-TRT Warning: Could not find TensorRT\n",
      "number of training parameters: 8197350\n",
      "start training...\n"
     ]
    },
    {
     "name": "stdout",
     "output_type": "stream",
     "text": [
      "INFO: building dataloaders...\n",
      "INFO: train/val/test split ratios: 0.8/0.2/0.0\n",
      "INFO: train size: 80000, validation size: 20000, testing sizes: 0\n"
     ]
    },
    {
     "data": {
      "application/vnd.jupyter.widget-view+json": {
       "model_id": "9f1426a7ab6c418dae0c067038e14ca0",
       "version_major": 2,
       "version_minor": 0
      },
      "text/plain": [
       "epochs:   0%|          | 0/200 [00:00<?, ?it/s]"
      ]
     },
     "metadata": {},
     "output_type": "display_data"
    },
    {
     "name": "stderr",
     "output_type": "stream",
     "text": [
      "\tEpoch: 1, train loss: 1.5269558112832569, valid loss: 1.468984991312027  (min valid loss: 1.468984991312027)\n"
     ]
    }
   ],
   "source": [
    "from DynGenModels.configs.registered_experiments import Config_JetClass_EPiC_CondFlowMatch\n",
    "from DynGenModels.models.experiment import Experiment\n",
    "\n",
    "cfm = Experiment(Config_JetClass_EPiC_CondFlowMatch,\n",
    "                 NAME = 'test',\n",
    "                 DATA_SOURCE = 'noise',\n",
    "                 DATA_TARGET = 'top',\n",
    "                 MAX_NUM_CONSTITUENTS = 30,\n",
    "                 DYNAMICS = 'CFM',\n",
    "                 DATA_SPLIT_FRACS = [0.8, 0.2, 0.0],\n",
    "                 PREPROCESS = ['standardize'],\n",
    "                 BATCH_SIZE = 1024,\n",
    "                 EPOCHS = 200,\n",
    "                 PRINT_EPOCHS = 10,\n",
    "                 EARLY_STOPPING = 20,\n",
    "                 LR = 1e-4,\n",
    "                 GRADIENT_CLIP = 1.0,\n",
    "                 DIM_HIDDEN =  300,\n",
    "                 TIME_EMBEDDING = 'sinusoidal',\n",
    "                 USE_SKIP_CONNECTIONS = True,\n",
    "                 ACTIVATION = 'LeakyReLU',\n",
    "                 DROPOUT = 0.4,\n",
    "                 POOLING = 'mean_sum',\n",
    "                 DIM_TIME_EMB = 16,\n",
    "                 DIM_GLOBAL = 32,\n",
    "                 NUM_EPIC_LAYERS = 20,\n",
    "                 SIGMA = 1e-5,\n",
    "                 SOLVER ='midpoint',\n",
    "                 NUM_SAMPLING_STEPS = 200,\n",
    "                 DEVICE = 'cuda:0')\n",
    "\n",
    "cfm.train()"
   ]
  }
 ],
 "metadata": {
  "kernelspec": {
   "display_name": "flow_match_env",
   "language": "python",
   "name": "python3"
  },
  "language_info": {
   "codemirror_mode": {
    "name": "ipython",
    "version": 3
   },
   "file_extension": ".py",
   "mimetype": "text/x-python",
   "name": "python",
   "nbconvert_exporter": "python",
   "pygments_lexer": "ipython3",
   "version": "3.9.16"
  },
  "orig_nbformat": 4
 },
 "nbformat": 4,
 "nbformat_minor": 2
}
