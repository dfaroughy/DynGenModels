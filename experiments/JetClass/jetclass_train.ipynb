{
 "cells": [
  {
   "cell_type": "markdown",
   "metadata": {},
   "source": [
    "## EPiC Network"
   ]
  },
  {
   "cell_type": "code",
   "execution_count": 1,
   "metadata": {},
   "outputs": [
    {
     "name": "stdout",
     "output_type": "stream",
     "text": [
      "#===============================================================================================\n",
      "INFO: created directory: ../../results/qcd_to_top.ConditionalFlowMatching.EPiC.2024.02.21_19h35\n",
      "#===============================================================================================\n",
      "+----------------------+-------------------------+\n",
      "| Parameters           | Values                  |\n",
      "+----------------------+-------------------------+\n",
      "| NAME                 | qcd_to_top              |\n",
      "| DATASET              | jetclass                |\n",
      "| DATA_SOURCE          | qcd                     |\n",
      "| DATA_TARGET          | top                     |\n",
      "| MAX_NUM_CONSTITUENTS | 30                      |\n",
      "| FEATURES             | constituents            |\n",
      "| PREPROCESS           | ['standardize']         |\n",
      "| DIM_INPUT            | 3                       |\n",
      "| DEVICE               | cpu                     |\n",
      "| OPTIMIZER            | Adam                    |\n",
      "| LR                   | 0.0001                  |\n",
      "| WEIGHT_DECAY         | 0.0                     |\n",
      "| OPTIMIZER_BETAS      | [0.9, 0.999]            |\n",
      "| OPTIMIZER_EPS        | 1e-08                   |\n",
      "| OPTIMIZER_AMSGRAD    | False                   |\n",
      "| GRADIENT_CLIP        | 1.0                     |\n",
      "| SCHEDULER            |                         |\n",
      "| SCHEDULER_T_MAX      |                         |\n",
      "| SCHEDULER_ETA_MIN    |                         |\n",
      "| SCHEDULER_GAMMA      |                         |\n",
      "| SCHEDULER_STEP_SIZE  |                         |\n",
      "| EPOCHS               | 10                      |\n",
      "| BATCH_SIZE           | 1024                    |\n",
      "| DATA_SPLIT_FRACS     | [0.8, 0.2, 0.0]         |\n",
      "| NUM_WORKERS          | 0                       |\n",
      "| PIN_MEMORY           | False                   |\n",
      "| EARLY_STOPPING       |                         |\n",
      "| MIN_EPOCHS           |                         |\n",
      "| PRINT_EPOCHS         | 10                      |\n",
      "| FIX_SEED             |                         |\n",
      "| MODEL                | EPiC                    |\n",
      "| POOLING              | mean_sum                |\n",
      "| DIM_HIDDEN           | 300                     |\n",
      "| TIME_EMBEDDING       | gaussian                |\n",
      "| DIM_TIME_EMB         | 12                      |\n",
      "| DIM_GLOBAL           | 16                      |\n",
      "| NUM_EPIC_LAYERS      | 20                      |\n",
      "| ACTIVATION           | ReLU                    |\n",
      "| DYNAMICS             | ConditionalFlowMatching |\n",
      "| SIGMA                | 1e-05                   |\n",
      "| AUGMENTED            | False                   |\n",
      "| T0                   | 0.0                     |\n",
      "| T1                   | 1.0                     |\n",
      "| SAMPLER              | NeuralODE               |\n",
      "| SOLVER               | midpoint                |\n",
      "| NUM_SAMPLING_STEPS   | 200                     |\n",
      "| SENSITIVITY          | adjoint                 |\n",
      "| ATOL                 |                         |\n",
      "| RTOL                 |                         |\n",
      "| NUM_GEN_SAMPLES      | 10000                   |\n",
      "+----------------------+-------------------------+\n"
     ]
    },
    {
     "name": "stderr",
     "output_type": "stream",
     "text": [
      "number of training parameters: 7878678\n",
      "start training...\n"
     ]
    },
    {
     "name": "stdout",
     "output_type": "stream",
     "text": [
      "INFO: building dataloaders...\n",
      "INFO: train/val/test split ratios: 0.8/0.2/0.0\n",
      "INFO: train size: 80000, validation size: 20000, testing sizes: 0\n"
     ]
    },
    {
     "data": {
      "application/vnd.jupyter.widget-view+json": {
       "model_id": "74de2abf9e1844ccb2c7836687864186",
       "version_major": 2,
       "version_minor": 0
      },
      "text/plain": [
       "epochs:   0%|          | 0/10 [00:00<?, ?it/s]"
      ]
     },
     "metadata": {},
     "output_type": "display_data"
    },
    {
     "ename": "KeyboardInterrupt",
     "evalue": "",
     "output_type": "error",
     "traceback": [
      "\u001b[0;31m---------------------------------------------------------------------------\u001b[0m",
      "\u001b[0;31mKeyboardInterrupt\u001b[0m                         Traceback (most recent call last)",
      "Cell \u001b[0;32mIn[1], line 27\u001b[0m\n\u001b[1;32m      2\u001b[0m \u001b[39mfrom\u001b[39;00m \u001b[39mDynGenModels\u001b[39;00m\u001b[39m.\u001b[39;00m\u001b[39mmodels\u001b[39;00m\u001b[39m.\u001b[39;00m\u001b[39mexperiment\u001b[39;00m \u001b[39mimport\u001b[39;00m Experiment\n\u001b[1;32m      4\u001b[0m cfm \u001b[39m=\u001b[39m Experiment(Config_JetClass_EPiC_CondFlowMatch,\n\u001b[1;32m      5\u001b[0m                  NAME \u001b[39m=\u001b[39m \u001b[39m'\u001b[39m\u001b[39mqcd_to_top\u001b[39m\u001b[39m'\u001b[39m,\n\u001b[1;32m      6\u001b[0m                  DATA_SOURCE \u001b[39m=\u001b[39m \u001b[39m'\u001b[39m\u001b[39mqcd\u001b[39m\u001b[39m'\u001b[39m,\n\u001b[0;32m   (...)\u001b[0m\n\u001b[1;32m     24\u001b[0m                  NUM_SAMPLING_STEPS \u001b[39m=\u001b[39m \u001b[39m200\u001b[39m,\n\u001b[1;32m     25\u001b[0m                  DEVICE \u001b[39m=\u001b[39m \u001b[39m'\u001b[39m\u001b[39mcpu\u001b[39m\u001b[39m'\u001b[39m)\n\u001b[0;32m---> 27\u001b[0m cfm\u001b[39m.\u001b[39;49mtrain()\n",
      "File \u001b[0;32m~/Dropbox/PROJECTS/ML/DynGenModels/src/DynGenModels/models/experiment.py:208\u001b[0m, in \u001b[0;36mExperiment.train\u001b[0;34m(self)\u001b[0m\n\u001b[1;32m    207\u001b[0m \u001b[39mdef\u001b[39;00m \u001b[39mtrain\u001b[39m(\u001b[39mself\u001b[39m):\n\u001b[0;32m--> 208\u001b[0m     \u001b[39mself\u001b[39;49m\u001b[39m.\u001b[39;49mmodel\u001b[39m.\u001b[39;49mtrain()\n",
      "File \u001b[0;32m~/Dropbox/PROJECTS/ML/DynGenModels/src/DynGenModels/models/experiment.py:65\u001b[0m, in \u001b[0;36mDefineModel.train\u001b[0;34m(self)\u001b[0m\n\u001b[1;32m     62\u001b[0m \u001b[39m#...train\u001b[39;00m\n\u001b[1;32m     64\u001b[0m \u001b[39mfor\u001b[39;00m epoch \u001b[39min\u001b[39;00m tqdm(\u001b[39mrange\u001b[39m(\u001b[39mself\u001b[39m\u001b[39m.\u001b[39mepochs), desc\u001b[39m=\u001b[39m\u001b[39m\"\u001b[39m\u001b[39mepochs\u001b[39m\u001b[39m\"\u001b[39m):\n\u001b[0;32m---> 65\u001b[0m     train\u001b[39m.\u001b[39;49mupdate(model\u001b[39m=\u001b[39;49m\u001b[39mself\u001b[39;49m\u001b[39m.\u001b[39;49mmodel, loss_fn\u001b[39m=\u001b[39;49m\u001b[39mself\u001b[39;49m\u001b[39m.\u001b[39;49mdynamics\u001b[39m.\u001b[39;49mloss, dataloader\u001b[39m=\u001b[39;49m\u001b[39mself\u001b[39;49m\u001b[39m.\u001b[39;49mdataloader\u001b[39m.\u001b[39;49mtrain, optimizer\u001b[39m=\u001b[39;49moptimizer) \n\u001b[1;32m     66\u001b[0m     valid\u001b[39m.\u001b[39mupdate(model\u001b[39m=\u001b[39m\u001b[39mself\u001b[39m\u001b[39m.\u001b[39mmodel, loss_fn\u001b[39m=\u001b[39m\u001b[39mself\u001b[39m\u001b[39m.\u001b[39mdynamics\u001b[39m.\u001b[39mloss, dataloader\u001b[39m=\u001b[39m\u001b[39mself\u001b[39m\u001b[39m.\u001b[39mdataloader\u001b[39m.\u001b[39mvalid, seed\u001b[39m=\u001b[39m\u001b[39mself\u001b[39m\u001b[39m.\u001b[39mfix_seed)\n\u001b[1;32m     67\u001b[0m     TERMINATE, IMPROVED \u001b[39m=\u001b[39m valid\u001b[39m.\u001b[39mcheckpoint(min_epochs\u001b[39m=\u001b[39m\u001b[39mself\u001b[39m\u001b[39m.\u001b[39mmin_epochs, early_stopping\u001b[39m=\u001b[39m\u001b[39mself\u001b[39m\u001b[39m.\u001b[39mearly_stopping)\n",
      "File \u001b[0;32m~/Dropbox/PROJECTS/ML/DynGenModels/src/DynGenModels/models/utils.py:26\u001b[0m, in \u001b[0;36mTrain_Step.update\u001b[0;34m(self, model, loss_fn, dataloader, optimizer)\u001b[0m\n\u001b[1;32m     24\u001b[0m optimizer\u001b[39m.\u001b[39mzero_grad()\n\u001b[1;32m     25\u001b[0m loss_current \u001b[39m=\u001b[39m loss_fn(model, batch)\n\u001b[0;32m---> 26\u001b[0m loss_current\u001b[39m.\u001b[39;49mbackward()\n\u001b[1;32m     27\u001b[0m optimizer\u001b[39m.\u001b[39mstep()  \n\u001b[1;32m     28\u001b[0m \u001b[39mself\u001b[39m\u001b[39m.\u001b[39mloss \u001b[39m+\u001b[39m\u001b[39m=\u001b[39m loss_current\u001b[39m.\u001b[39mdetach()\u001b[39m.\u001b[39mcpu()\u001b[39m.\u001b[39mnumpy() \u001b[39m/\u001b[39m \u001b[39mlen\u001b[39m(dataloader)\n",
      "File \u001b[0;32m~/anaconda3/lib/python3.10/site-packages/torch/_tensor.py:488\u001b[0m, in \u001b[0;36mTensor.backward\u001b[0;34m(self, gradient, retain_graph, create_graph, inputs)\u001b[0m\n\u001b[1;32m    478\u001b[0m \u001b[39mif\u001b[39;00m has_torch_function_unary(\u001b[39mself\u001b[39m):\n\u001b[1;32m    479\u001b[0m     \u001b[39mreturn\u001b[39;00m handle_torch_function(\n\u001b[1;32m    480\u001b[0m         Tensor\u001b[39m.\u001b[39mbackward,\n\u001b[1;32m    481\u001b[0m         (\u001b[39mself\u001b[39m,),\n\u001b[0;32m   (...)\u001b[0m\n\u001b[1;32m    486\u001b[0m         inputs\u001b[39m=\u001b[39minputs,\n\u001b[1;32m    487\u001b[0m     )\n\u001b[0;32m--> 488\u001b[0m torch\u001b[39m.\u001b[39;49mautograd\u001b[39m.\u001b[39;49mbackward(\n\u001b[1;32m    489\u001b[0m     \u001b[39mself\u001b[39;49m, gradient, retain_graph, create_graph, inputs\u001b[39m=\u001b[39;49minputs\n\u001b[1;32m    490\u001b[0m )\n",
      "File \u001b[0;32m~/anaconda3/lib/python3.10/site-packages/torch/autograd/__init__.py:197\u001b[0m, in \u001b[0;36mbackward\u001b[0;34m(tensors, grad_tensors, retain_graph, create_graph, grad_variables, inputs)\u001b[0m\n\u001b[1;32m    192\u001b[0m     retain_graph \u001b[39m=\u001b[39m create_graph\n\u001b[1;32m    194\u001b[0m \u001b[39m# The reason we repeat same the comment below is that\u001b[39;00m\n\u001b[1;32m    195\u001b[0m \u001b[39m# some Python versions print out the first line of a multi-line function\u001b[39;00m\n\u001b[1;32m    196\u001b[0m \u001b[39m# calls in the traceback and some print out the last line\u001b[39;00m\n\u001b[0;32m--> 197\u001b[0m Variable\u001b[39m.\u001b[39;49m_execution_engine\u001b[39m.\u001b[39;49mrun_backward(  \u001b[39m# Calls into the C++ engine to run the backward pass\u001b[39;49;00m\n\u001b[1;32m    198\u001b[0m     tensors, grad_tensors_, retain_graph, create_graph, inputs,\n\u001b[1;32m    199\u001b[0m     allow_unreachable\u001b[39m=\u001b[39;49m\u001b[39mTrue\u001b[39;49;00m, accumulate_grad\u001b[39m=\u001b[39;49m\u001b[39mTrue\u001b[39;49;00m)\n",
      "\u001b[0;31mKeyboardInterrupt\u001b[0m: "
     ]
    }
   ],
   "source": [
    "from DynGenModels.configs.registered_experiments import Config_JetClass_EPiC_CondFlowMatch\n",
    "from DynGenModels.models.experiment import Experiment\n",
    "\n",
    "cfm = Experiment(Config_JetClass_EPiC_CondFlowMatch,\n",
    "                 NAME = 'qcd_to_top',\n",
    "                 DATA_SOURCE = 'qcd',\n",
    "                 DATA_TARGET = 'top',\n",
    "                 MAX_NUM_CONSTITUENTS = 30,\n",
    "                 DYNAMICS = 'ConditionalFlowMatching',\n",
    "                 DATA_SPLIT_FRACS = [0.8, 0.2, 0.0],\n",
    "                 PREPROCESS = ['standardize'],\n",
    "                 BATCH_SIZE = 1024,\n",
    "                 EPOCHS = 10,\n",
    "                 PRINT_EPOCHS = 10,\n",
    "                 LR = 1e-4,\n",
    "                 GRADIENT_CLIP = 1.0,\n",
    "                 DIM_HIDDEN = 300,\n",
    "                 TIME_EMBEDDING = 'gaussian',\n",
    "                 DIM_TIME_EMB = 12,\n",
    "                 DIM_GLOBAL = 16,\n",
    "                 NUM_EPIC_LAYERS = 20,\n",
    "                 SIGMA = 1e-5,\n",
    "                 SOLVER ='midpoint',\n",
    "                 NUM_SAMPLING_STEPS = 200,\n",
    "                 DEVICE = 'cpu')\n",
    "\n",
    "cfm.train()"
   ]
  },
  {
   "cell_type": "code",
   "execution_count": null,
   "metadata": {},
   "outputs": [],
   "source": [
    "from utils import plot_features\n",
    "\n",
    "plot_features(cfm, features=[r'$p_T$', r'$\\eta$', r'$\\phi$', r'$m$'], figsize=(14, 3))"
   ]
  }
 ],
 "metadata": {
  "kernelspec": {
   "display_name": "flow_match_env",
   "language": "python",
   "name": "python3"
  },
  "language_info": {
   "codemirror_mode": {
    "name": "ipython",
    "version": 3
   },
   "file_extension": ".py",
   "mimetype": "text/x-python",
   "name": "python",
   "nbconvert_exporter": "python",
   "pygments_lexer": "ipython3",
   "version": "3.10.9"
  },
  "orig_nbformat": 4
 },
 "nbformat": 4,
 "nbformat_minor": 2
}
