{
 "cells": [
  {
   "cell_type": "markdown",
   "metadata": {},
   "source": [
    "## EPiC Network"
   ]
  },
  {
   "cell_type": "code",
   "execution_count": 1,
   "metadata": {},
   "outputs": [
    {
     "name": "stdout",
     "output_type": "stream",
     "text": [
      "#=====================================================================\n",
      "INFO: created directory: ../../results/test.CFM.EPiC.2024.02.23_16h19\n",
      "#=====================================================================\n",
      "+----------------------+-----------------+\n",
      "| Parameters           | Values          |\n",
      "+----------------------+-----------------+\n",
      "| NAME                 | test            |\n",
      "| DATASET              | jetclass        |\n",
      "| DATA_SOURCE          | noise           |\n",
      "| DATA_TARGET          | top             |\n",
      "| MAX_NUM_CONSTITUENTS | 30              |\n",
      "| FEATURES             | constituents    |\n",
      "| PREPROCESS           | ['standardize'] |\n",
      "| DIM_INPUT            | 3               |\n",
      "| DEVICE               | cuda:1          |\n",
      "| OPTIMIZER            | Adam            |\n",
      "| LR                   | 0.0001          |\n",
      "| WEIGHT_DECAY         | 0.0             |\n",
      "| OPTIMIZER_BETAS      | [0.9, 0.999]    |\n",
      "| OPTIMIZER_EPS        | 1e-08           |\n",
      "| OPTIMIZER_AMSGRAD    | False           |\n",
      "| GRADIENT_CLIP        | 1.0             |\n",
      "| SCHEDULER            |                 |\n",
      "| SCHEDULER_T_MAX      |                 |\n",
      "| SCHEDULER_ETA_MIN    |                 |\n",
      "| SCHEDULER_GAMMA      |                 |\n",
      "| SCHEDULER_STEP_SIZE  |                 |\n",
      "| EPOCHS               | 1               |\n",
      "| BATCH_SIZE           | 1024            |\n",
      "| DATA_SPLIT_FRACS     | [0.8, 0.2, 0.0] |\n",
      "| NUM_WORKERS          | 0               |\n",
      "| PIN_MEMORY           | False           |\n",
      "| EARLY_STOPPING       |                 |\n",
      "| MIN_EPOCHS           |                 |\n",
      "| PRINT_EPOCHS         | 10              |\n",
      "| FIX_SEED             |                 |\n",
      "| MODEL                | EPiC            |\n",
      "| POOLING              | mean_sum        |\n",
      "| DIM_HIDDEN           | 300             |\n",
      "| TIME_EMBEDDING       | sinusoidal      |\n",
      "| DIM_TIME_EMB         | 12              |\n",
      "| DIM_GLOBAL           | 10              |\n",
      "| NUM_EPIC_LAYERS      | 6               |\n",
      "| USE_SKIP_CONNECTIONS | True            |\n",
      "| ACTIVATION           | ReLU            |\n",
      "| DYNAMICS             | CFM             |\n",
      "| SIGMA                | 1e-05           |\n",
      "| AUGMENTED            | False           |\n",
      "| T0                   | 0.0             |\n",
      "| T1                   | 1.0             |\n",
      "| SAMPLER              | NeuralODE       |\n",
      "| SOLVER               | midpoint        |\n",
      "| NUM_SAMPLING_STEPS   | 200             |\n",
      "| SENSITIVITY          | adjoint         |\n",
      "| ATOL                 |                 |\n",
      "| RTOL                 |                 |\n",
      "| NUM_GEN_SAMPLES      | 10000           |\n",
      "+----------------------+-----------------+\n"
     ]
    },
    {
     "name": "stderr",
     "output_type": "stream",
     "text": [
      "2024-02-23 16:19:37.588965: I tensorflow/tsl/cuda/cudart_stub.cc:28] Could not find cuda drivers on your machine, GPU will not be used.\n",
      "2024-02-23 16:19:37.635059: I tensorflow/tsl/cuda/cudart_stub.cc:28] Could not find cuda drivers on your machine, GPU will not be used.\n",
      "2024-02-23 16:19:37.636321: I tensorflow/core/platform/cpu_feature_guard.cc:182] This TensorFlow binary is optimized to use available CPU instructions in performance-critical operations.\n",
      "To enable the following instructions: AVX2 AVX512F FMA, in other operations, rebuild TensorFlow with the appropriate compiler flags.\n",
      "2024-02-23 16:19:38.381689: W tensorflow/compiler/tf2tensorrt/utils/py_utils.cc:38] TF-TRT Warning: Could not find TensorRT\n",
      "number of training parameters: 2526746\n",
      "start training...\n"
     ]
    },
    {
     "name": "stdout",
     "output_type": "stream",
     "text": [
      "INFO: building dataloaders...\n",
      "INFO: train/val/test split ratios: 0.8/0.2/0.0\n",
      "INFO: train size: 80000, validation size: 20000, testing sizes: 0\n"
     ]
    },
    {
     "data": {
      "application/vnd.jupyter.widget-view+json": {
       "model_id": "d260a9d1500c42558498a71a9d26c9b9",
       "version_major": 2,
       "version_minor": 0
      },
      "text/plain": [
       "epochs:   0%|          | 0/1 [00:00<?, ?it/s]"
      ]
     },
     "metadata": {},
     "output_type": "display_data"
    }
   ],
   "source": [
    "from DynGenModels.configs.registered_experiments import Config_JetClass_EPiC_CondFlowMatch\n",
    "from DynGenModels.models.experiment import Experiment\n",
    "\n",
    "cfm = Experiment(Config_JetClass_EPiC_CondFlowMatch,\n",
    "                 NAME = 'test',\n",
    "                 DATA_SOURCE = 'noise',\n",
    "                 DATA_TARGET = 'top',\n",
    "                 MAX_NUM_CONSTITUENTS = 30,\n",
    "                 DYNAMICS = 'CFM',\n",
    "                 DATA_SPLIT_FRACS = [0.8, 0.2, 0.0],\n",
    "                 PREPROCESS = ['standardize'],\n",
    "                 BATCH_SIZE = 1024,\n",
    "                 EPOCHS = 1,\n",
    "                 PRINT_EPOCHS = 10,\n",
    "                 LR = 1e-4,\n",
    "                 GRADIENT_CLIP = 1.0,\n",
    "                 DIM_HIDDEN = 300,\n",
    "                 TIME_EMBEDDING = 'sinusoidal',\n",
    "                 USE_SKIP_CONNECTIONS = True,\n",
    "                 DIM_TIME_EMB = 12,\n",
    "                 DIM_GLOBAL = 10,\n",
    "                 NUM_EPIC_LAYERS = 6,\n",
    "                 SIGMA = 1e-5,\n",
    "                 SOLVER ='midpoint',\n",
    "                 NUM_SAMPLING_STEPS = 200,\n",
    "                 DEVICE = 'cuda:1')\n",
    "\n",
    "cfm.train()"
   ]
  },
  {
   "cell_type": "code",
   "execution_count": 4,
   "metadata": {},
   "outputs": [
    {
     "data": {
      "text/plain": [
       "(torch.Size([100000, 30, 3]),\n",
       " torch.Size([100000, 30, 2]),\n",
       " torch.Size([100000, 30, 3]),\n",
       " torch.Size([100000, 30, 3]))"
      ]
     },
     "execution_count": 4,
     "metadata": {},
     "output_type": "execute_result"
    }
   ],
   "source": [
    "cfm.dataset.target_preprocess.shape, cfm.dataset.source_preprocess.shape, cfm.dataset.target.shape, cfm.dataset.source.shape"
   ]
  },
  {
   "cell_type": "code",
   "execution_count": 15,
   "metadata": {},
   "outputs": [
    {
     "data": {
      "text/plain": [
       "tensor([[[-1.1619,  0.6288],\n",
       "         [ 0.2620,  0.0207],\n",
       "         [ 1.5959,  1.0015],\n",
       "         ...,\n",
       "         [-0.8465,  1.0454],\n",
       "         [-0.0688, -0.1723],\n",
       "         [-0.7292, -0.4705]],\n",
       "\n",
       "        [[-0.0336, -1.0330],\n",
       "         [-1.0717,  0.5368],\n",
       "         [-0.9542,  1.3141],\n",
       "         ...,\n",
       "         [ 0.5066,  0.8716],\n",
       "         [-1.4672,  2.3473],\n",
       "         [-0.4197, -1.1293]],\n",
       "\n",
       "        [[-0.4106, -0.8874],\n",
       "         [-0.5636,  0.2448],\n",
       "         [-1.2509,  2.7924],\n",
       "         ...,\n",
       "         [-1.2219, -1.6121],\n",
       "         [ 0.6518,  0.8252],\n",
       "         [-1.1669, -0.4669]],\n",
       "\n",
       "        ...,\n",
       "\n",
       "        [[-0.3596, -1.3204],\n",
       "         [-0.8806,  1.2772],\n",
       "         [ 0.8163,  1.6567],\n",
       "         ...,\n",
       "         [ 0.4433, -2.6409],\n",
       "         [ 0.2539,  0.2183],\n",
       "         [-0.8602, -0.8261]],\n",
       "\n",
       "        [[-0.9441,  0.1959],\n",
       "         [-2.9732,  0.1105],\n",
       "         [-1.0108,  0.0592],\n",
       "         ...,\n",
       "         [-1.4322, -0.3400],\n",
       "         [ 0.3598, -1.5578],\n",
       "         [-1.9745,  0.5239]],\n",
       "\n",
       "        [[-0.2847, -0.7687],\n",
       "         [ 1.7495,  0.4779],\n",
       "         [ 0.0516,  0.0132],\n",
       "         ...,\n",
       "         [-0.9140,  1.2829],\n",
       "         [ 0.9107, -0.0756],\n",
       "         [ 0.5419,  1.1081]]])"
      ]
     },
     "execution_count": 15,
     "metadata": {},
     "output_type": "execute_result"
    }
   ],
   "source": [
    "cfm.dataset.source_preprocess"
   ]
  },
  {
   "cell_type": "code",
   "execution_count": null,
   "metadata": {},
   "outputs": [],
   "source": []
  }
 ],
 "metadata": {
  "kernelspec": {
   "display_name": "flow_match_env",
   "language": "python",
   "name": "python3"
  },
  "language_info": {
   "codemirror_mode": {
    "name": "ipython",
    "version": 3
   },
   "file_extension": ".py",
   "mimetype": "text/x-python",
   "name": "python",
   "nbconvert_exporter": "python",
   "pygments_lexer": "ipython3",
   "version": "3.9.16"
  },
  "orig_nbformat": 4
 },
 "nbformat": 4,
 "nbformat_minor": 2
}
