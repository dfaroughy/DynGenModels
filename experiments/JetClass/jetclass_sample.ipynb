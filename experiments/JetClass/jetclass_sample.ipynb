{
 "cells": [
  {
   "cell_type": "markdown",
   "metadata": {},
   "source": [
    "Sample"
   ]
  },
  {
   "cell_type": "markdown",
   "metadata": {},
   "source": [
    "## Load pre-trained EPiC-FM models"
   ]
  },
  {
   "cell_type": "code",
   "execution_count": 1,
   "metadata": {},
   "outputs": [],
   "source": [
    "from DynGenModels.configs.registered_experiments import Config_JetClass_EPiC_CondFlowMatch\n",
    "from DynGenModels.models.experiment import Experiment\n",
    "from DynGenModels.datamodules.jetclass.dataprocess import PostProcessJetClassData as PostProcessor\n",
    "from utils import results_plots "
   ]
  },
  {
   "cell_type": "markdown",
   "metadata": {},
   "source": [
    "- time emebdding: Gaussian\n",
    "- dim_time_emebed = 12"
   ]
  },
  {
   "cell_type": "code",
   "execution_count": 2,
   "metadata": {},
   "outputs": [
    {
     "name": "stdout",
     "output_type": "stream",
     "text": [
      "+---------------------+----------------------------------+\n",
      "| Parameters          | Values                           |\n",
      "+---------------------+----------------------------------+\n",
      "| NAME                | qcd_to_top_gauss                 |\n",
      "| DATASET             | jetclass                         |\n",
      "| DATA_SOURCE         | qcd                              |\n",
      "| DATA_TARGET         | top                              |\n",
      "| NUM_CONSTITUENTS    | 30                               |\n",
      "| FEATURES            | ['pt_rel', 'eta_rel', 'phi_rel'] |\n",
      "| PREPROCESS          | ['standardize']                  |\n",
      "| DIM_INPUT           | 3                                |\n",
      "| DEVICE              | cuda:3                           |\n",
      "| OPTIMIZER           | Adam                             |\n",
      "| LR                  | 0.0001                           |\n",
      "| WEIGHT_DECAY        | 5e-05                            |\n",
      "| OPTIMIZER_BETAS     | [0.9, 0.999]                     |\n",
      "| OPTIMIZER_EPS       | 1e-08                            |\n",
      "| OPTIMIZER_AMSGRAD   | False                            |\n",
      "| GRADIENT_CLIP       |                                  |\n",
      "| SCHEDULER           |                                  |\n",
      "| SCHEDULER_T_MAX     |                                  |\n",
      "| SCHEDULER_ETA_MIN   |                                  |\n",
      "| SCHEDULER_GAMMA     |                                  |\n",
      "| SCHEDULER_STEP_SIZE |                                  |\n",
      "| EPOCHS              | 1000                             |\n",
      "| BATCH_SIZE          | 1024                             |\n",
      "| DATA_SPLIT_FRACS    | [0.8, 0.2, 0.0]                  |\n",
      "| NUM_WORKERS         | 0                                |\n",
      "| PIN_MEMORY          | False                            |\n",
      "| EARLY_STOPPING      |                                  |\n",
      "| MIN_EPOCHS          |                                  |\n",
      "| PRINT_EPOCHS        | 10                               |\n",
      "| FIX_SEED            |                                  |\n",
      "| MODEL               | EPiC                             |\n",
      "| POOLING             | mean_sum                         |\n",
      "| DIM_HIDDEN          | 300                              |\n",
      "| TIME_EMBEDDING      | gaussian                         |\n",
      "| DIM_TIME_EMB        | 300                              |\n",
      "| DIM_GLOBAL          | 16                               |\n",
      "| NUM_EPIC_LAYERS     | 20                               |\n",
      "| ACTIVATION          | ReLU                             |\n",
      "| DYNAMICS            | ConditionalFlowMatching          |\n",
      "| SIGMA               | 0.0                              |\n",
      "| AUGMENTED           | False                            |\n",
      "| T0                  | 0.0                              |\n",
      "| T1                  | 1.0                              |\n",
      "| SAMPLER             | NeuralODE                        |\n",
      "| SOLVER              | midpoint                         |\n",
      "| NUM_SAMPLING_STEPS  | 200                              |\n",
      "| SENSITIVITY         | adjoint                          |\n",
      "| ATOL                |                                  |\n",
      "| RTOL                |                                  |\n",
      "| NUM_GEN_SAMPLES     | 10000                            |\n",
      "+---------------------+----------------------------------+\n"
     ]
    },
    {
     "name": "stderr",
     "output_type": "stream",
     "text": [
      "2024-02-16 21:01:26.119236: I tensorflow/tsl/cuda/cudart_stub.cc:28] Could not find cuda drivers on your machine, GPU will not be used.\n",
      "2024-02-16 21:01:26.168724: I tensorflow/tsl/cuda/cudart_stub.cc:28] Could not find cuda drivers on your machine, GPU will not be used.\n",
      "2024-02-16 21:01:26.169853: I tensorflow/core/platform/cpu_feature_guard.cc:182] This TensorFlow binary is optimized to use available CPU instructions in performance-critical operations.\n",
      "To enable the following instructions: AVX2 AVX512F FMA, in other operations, rebuild TensorFlow with the appropriate compiler flags.\n",
      "2024-02-16 21:01:26.924013: W tensorflow/compiler/tf2tensorrt/utils/py_utils.cc:38] TF-TRT Warning: Could not find TensorRT\n"
     ]
    },
    {
     "name": "stdout",
     "output_type": "stream",
     "text": [
      "INFO: building dataloaders...\n",
      "INFO: train/val/test split ratios: 0.8/0.2/0.0\n",
      "INFO: train size: 80000, validation size: 20000, testing sizes: 0\n",
      "INFO: neural ODE solver with midpoint method and steps=200\n"
     ]
    },
    {
     "data": {
      "application/vnd.jupyter.widget-view+json": {
       "model_id": "9dd9100265e74a129e621d7beb34d027",
       "version_major": 2,
       "version_minor": 0
      },
      "text/plain": [
       "  0%|          | 0/10 [00:00<?, ?it/s]"
      ]
     },
     "metadata": {},
     "output_type": "display_data"
    },
    {
     "name": "stderr",
     "output_type": "stream",
     "text": [
      "/home/df630/.conda/envs/flow_match_env/lib/python3.9/site-packages/torchdyn/numerics/odeint.py:84: UserWarning: Setting tolerances has no effect on fixed-step methods\n",
      "  warn(\"Setting tolerances has no effect on fixed-step methods\")\n"
     ]
    }
   ],
   "source": [
    "path = '../../results/qcd_to_top_gauss.ConditionalFlowMatching.EPiC.2024.02.16_20h19'\n",
    "cfm = Experiment(Config_JetClass_EPiC_CondFlowMatch, path=path, DEVICE='cuda:2')\n",
    "cfm.load(model='best')\n",
    "\n",
    "cfm.generate_samples(cfm.dataset.source_preprocess[:10000], PostProcessor=PostProcessor)\n",
    "results_plots(cfm, save_dir=None, features=[r'$p^{\\rm rel}_T$', r'$\\Delta\\eta$', r'$\\Delta\\phi$'], figsize=(12,3.5))"
   ]
  },
  {
   "cell_type": "code",
   "execution_count": null,
   "metadata": {},
   "outputs": [],
   "source": []
  },
  {
   "cell_type": "code",
   "execution_count": null,
   "metadata": {},
   "outputs": [],
   "source": []
  },
  {
   "cell_type": "code",
   "execution_count": null,
   "metadata": {},
   "outputs": [],
   "source": []
  },
  {
   "cell_type": "markdown",
   "metadata": {},
   "source": [
    "### Generate samples from model:"
   ]
  },
  {
   "cell_type": "code",
   "execution_count": null,
   "metadata": {},
   "outputs": [],
   "source": [
    "from DynGenModels.datamodules.jetclass.dataprocess import PostProcessJetClassData as PostProcessor\n",
    "cfm.generate_samples(cfm.dataset.source_preprocess[:30000], PostProcessor=PostProcessor)\n"
   ]
  },
  {
   "cell_type": "code",
   "execution_count": null,
   "metadata": {},
   "outputs": [],
   "source": []
  }
 ],
 "metadata": {
  "kernelspec": {
   "display_name": "flow_match_env",
   "language": "python",
   "name": "python3"
  },
  "language_info": {
   "codemirror_mode": {
    "name": "ipython",
    "version": 3
   },
   "file_extension": ".py",
   "mimetype": "text/x-python",
   "name": "python",
   "nbconvert_exporter": "python",
   "pygments_lexer": "ipython3",
   "version": "3.9.16"
  },
  "orig_nbformat": 4
 },
 "nbformat": 4,
 "nbformat_minor": 2
}
