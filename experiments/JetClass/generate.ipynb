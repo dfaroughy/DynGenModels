{
 "cells": [
  {
   "cell_type": "markdown",
   "metadata": {},
   "source": []
  },
  {
   "cell_type": "code",
   "execution_count": null,
   "metadata": {},
   "outputs": [],
   "source": [
    "from DynGenModels.configs.registered_experiments import Config_JetClass_DeepSets_CondFlowMatch\n",
    "from DynGenModels.models.experiment import Experiment\n",
    "\n",
    "path = '../../results/emnist_to_mnist.ConditionalFlowMatching.Unet.2024.02.13_21h03'\n",
    "cfm = Experiment(Config_JetClass_DeepSets_CondFlowMatch, path=path, DEVICE='cuda:1')\n",
    "cfm.load()"
   ]
  }
 ],
 "metadata": {
  "kernelspec": {
   "display_name": "flow_match_env",
   "language": "python",
   "name": "python3"
  },
  "language_info": {
   "codemirror_mode": {
    "name": "ipython",
    "version": 3
   },
   "file_extension": ".py",
   "mimetype": "text/x-python",
   "name": "python",
   "nbconvert_exporter": "python",
   "pygments_lexer": "ipython3",
   "version": "3.10.9"
  },
  "orig_nbformat": 4
 },
 "nbformat": 4,
 "nbformat_minor": 2
}
