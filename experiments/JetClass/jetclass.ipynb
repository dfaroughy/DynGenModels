{
 "cells": [
  {
   "cell_type": "code",
   "execution_count": 2,
   "metadata": {},
   "outputs": [
    {
     "name": "stdout",
     "output_type": "stream",
     "text": [
      "#===================================================================================================\n",
      "INFO: created directory: ../../results/qcd_to_top.ConditionalFlowMatching.DeepSets.2024.02.15_15h25\n",
      "#===================================================================================================\n",
      "+---------------------+-------------------------------------------------+\n",
      "| Parameters          | Values                                          |\n",
      "+---------------------+-------------------------------------------------+\n",
      "| NAME                | qcd_to_top                                      |\n",
      "| DATASET             | jetclass                                        |\n",
      "| DATA_SOURCE         | qcd                                             |\n",
      "| DATA_TARGET         | top                                             |\n",
      "| NUM_CONSTITUENTS    | 30                                              |\n",
      "| FEATURES            | ['pt_rel', 'eta_rel', 'phi_rel']                |\n",
      "| PREPROCESS          | ['normalize', 'logit_transform', 'standardize'] |\n",
      "| DIM_INPUT           | 3                                               |\n",
      "| DEVICE              | cpu                                             |\n",
      "| OPTIMIZER           | Adam                                            |\n",
      "| LR                  | 0.0001                                          |\n",
      "| WEIGHT_DECAY        | 0.0                                             |\n",
      "| OPTIMIZER_BETAS     | [0.9, 0.999]                                    |\n",
      "| OPTIMIZER_EPS       | 1e-08                                           |\n",
      "| OPTIMIZER_AMSGRAD   | False                                           |\n",
      "| GRADIENT_CLIP       |                                                 |\n",
      "| SCHEDULER           |                                                 |\n",
      "| SCHEDULER_T_MAX     |                                                 |\n",
      "| SCHEDULER_ETA_MIN   |                                                 |\n",
      "| SCHEDULER_GAMMA     |                                                 |\n",
      "| SCHEDULER_STEP_SIZE |                                                 |\n",
      "| EPOCHS              | 100                                             |\n",
      "| BATCH_SIZE          | 128                                             |\n",
      "| DATA_SPLIT_FRACS    | [0.8, 0.2, 0.0]                                 |\n",
      "| NUM_WORKERS         | 0                                               |\n",
      "| PIN_MEMORY          | False                                           |\n",
      "| EARLY_STOPPING      |                                                 |\n",
      "| MIN_EPOCHS          |                                                 |\n",
      "| PRINT_EPOCHS        |                                                 |\n",
      "| FIX_SEED            |                                                 |\n",
      "| MODEL               | DeepSets                                        |\n",
      "| POOLING             | mean_sum                                        |\n",
      "| DIM_HIDDEN          | 128                                             |\n",
      "| NUM_LAYERS_1        | 3                                               |\n",
      "| NUM_LAYERS_2        | 3                                               |\n",
      "| DYNAMICS            | ConditionalFlowMatching                         |\n",
      "| SIGMA               | 0.0                                             |\n",
      "| AUGMENTED           | False                                           |\n",
      "| T0                  | 0.0                                             |\n",
      "| T1                  | 1.0                                             |\n",
      "| SAMPLER             | NeuralODE                                       |\n",
      "| SOLVER              | midpoint                                        |\n",
      "| NUM_SAMPLING_STEPS  | 100                                             |\n",
      "| SENSITIVITY         | adjoint                                         |\n",
      "| ATOL                |                                                 |\n",
      "| RTOL                |                                                 |\n",
      "| NUM_GEN_SAMPLES     | 10000                                           |\n",
      "+---------------------+-------------------------------------------------+\n",
      "INFO: building dataloaders...\n",
      "INFO: train/val/test split ratios: 0.8/0.2/0.0\n",
      "INFO: train size: 80000, validation size: 20000, testing sizes: 0\n"
     ]
    }
   ],
   "source": [
    "from DynGenModels.configs.registered_experiments import Config_JetClass_EPiC_CondFlowMatch, Config_JetClass_DeepSets_CondFlowMatch\n",
    "from DynGenModels.models.experiment import Experiment\n",
    "\n",
    "cfm = Experiment(Config_JetClass_DeepSets_CondFlowMatch,\n",
    "                 NAME = 'qcd_to_top',\n",
    "                 DATA_SOURCE = 'qcd',\n",
    "                 DATA_TARGET = 'top',\n",
    "                 DYNAMICS = 'ConditionalFlowMatching',\n",
    "                 DATA_SPLIT_FRACS = [0.8, 0.2, 0.0],\n",
    "                 PREPROCESS = ['normalize', 'logit_transform', 'standardize'],\n",
    "                 BATCH_SIZE = 128,\n",
    "                 EPOCHS = 100,\n",
    "                 LR = 1e-4,\n",
    "                 SIGMA = 0.0,\n",
    "                 SOLVER ='midpoint',\n",
    "                 NUM_SAMPLING_STEPS = 100,\n",
    "                 DEVICE = 'cuda:0',)"
   ]
  },
  {
   "cell_type": "markdown",
   "metadata": {},
   "source": []
  },
  {
   "cell_type": "code",
   "execution_count": null,
   "metadata": {},
   "outputs": [],
   "source": [
    "cfm.train()"
   ]
  }
 ],
 "metadata": {
  "kernelspec": {
   "display_name": "flow_match_env",
   "language": "python",
   "name": "python3"
  },
  "language_info": {
   "codemirror_mode": {
    "name": "ipython",
    "version": 3
   },
   "file_extension": ".py",
   "mimetype": "text/x-python",
   "name": "python",
   "nbconvert_exporter": "python",
   "pygments_lexer": "ipython3",
   "version": "3.10.9"
  },
  "orig_nbformat": 4
 },
 "nbformat": 4,
 "nbformat_minor": 2
}
