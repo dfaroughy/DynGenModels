{
 "cells": [
  {
   "cell_type": "markdown",
   "metadata": {},
   "source": [
    "# Conditional Flow-Matching\n",
    "We learn the galaxy phase space densities from gaia data"
   ]
  },
  {
   "cell_type": "code",
   "execution_count": 6,
   "metadata": {},
   "outputs": [
    {
     "name": "stdout",
     "output_type": "stream",
     "text": [
      "#=============================================================================================================\n",
      "INFO: created directory: ../../results/noise_to_mnist.OptimalTransportFlowMatching.UnetLight.2024.02.13_12h06\n",
      "#=============================================================================================================\n",
      "+---------------------+------------------------------+\n",
      "| Parameters          | Values                       |\n",
      "+---------------------+------------------------------+\n",
      "| NAME                | noise_to_mnist               |\n",
      "| DATA_SOURCE         | fashion                      |\n",
      "| DATA_TARGET         | mnist                        |\n",
      "| DIM_INPUT           | 784                          |\n",
      "| INPUT_SHAPE         | (1, 28, 28)                  |\n",
      "| DEVICE              | cpu                          |\n",
      "| OPTIMIZER           | Adam                         |\n",
      "| LR                  | 0.0001                       |\n",
      "| WEIGHT_DECAY        | 0.0                          |\n",
      "| OPTIMIZER_BETAS     | [0.9, 0.999]                 |\n",
      "| OPTIMIZER_EPS       | 1e-08                        |\n",
      "| OPTIMIZER_AMSGRAD   | False                        |\n",
      "| GRADIENT_CLIP       |                              |\n",
      "| SCHEDULER           |                              |\n",
      "| SCHEDULER_T_MAX     |                              |\n",
      "| SCHEDULER_ETA_MIN   |                              |\n",
      "| SCHEDULER_GAMMA     |                              |\n",
      "| SCHEDULER_STEP_SIZE |                              |\n",
      "| EPOCHS              | 3                            |\n",
      "| BATCH_SIZE          | 128                          |\n",
      "| DATA_SPLIT_FRACS    | [1.0, 0.0, 0.0]              |\n",
      "| NUM_WORKERS         | 0                            |\n",
      "| PIN_MEMORY          | False                        |\n",
      "| EARLY_STOPPING      |                              |\n",
      "| MIN_EPOCHS          |                              |\n",
      "| PRINT_EPOCHS        |                              |\n",
      "| FIX_SEED            |                              |\n",
      "| MODEL               | UnetLight                    |\n",
      "| DIM_HIDDEN          | 32                           |\n",
      "| DIM_TIME_EMB        | 64                           |\n",
      "| ACTIVATION          | GELU                         |\n",
      "| DYNAMICS            | OptimalTransportFlowMatching |\n",
      "| SIGMA               | 0.0                          |\n",
      "| AUGMENTED           | False                        |\n",
      "| T0                  | 0.0                          |\n",
      "| T1                  | 1.0                          |\n",
      "| SAMPLER             | NeuralODE                    |\n",
      "| SOLVER              | dopri5                       |\n",
      "| NUM_SAMPLING_STEPS  | 100                          |\n",
      "| SENSITIVITY         | adjoint                      |\n",
      "| ATOL                | 0.0001                       |\n",
      "| RTOL                | 0.0001                       |\n",
      "| NUM_GEN_SAMPLES     | 10000                        |\n",
      "+---------------------+------------------------------+\n"
     ]
    }
   ],
   "source": [
    "from DynGenModels.configs.registered_experiments import Config_MNIST_UNetLight_CondFlowMatch as Config\n",
    "\n",
    "config = Config(NAME = 'noise_to_mnist',\n",
    "                DATA_SOURCE = 'fashion',\n",
    "                DATA_TARGET = 'mnist',\n",
    "                DATA_SPLIT_FRACS = [1.0, 0.0, 0.0],\n",
    "                BATCH_SIZE = 128,\n",
    "                EPOCHS = 3,\n",
    "                LR = 1e-4,\n",
    "                DIM_HIDDEN = 32, \n",
    "                DYNAMICS = 'OptimalTransportFlowMatching',\n",
    "                SIGMA = 0.0,\n",
    "                SOLVER ='dopri5',\n",
    "                ATOL = 1e-4,\n",
    "                RTOL = 1e-4,\n",
    "                NUM_SAMPLING_STEPS = 100)\n",
    "\n",
    "#...set working directory for results:\n",
    "\n",
    "config.set_workdir(path='../../results', save_config=True)"
   ]
  },
  {
   "cell_type": "code",
   "execution_count": 7,
   "metadata": {},
   "outputs": [
    {
     "name": "stderr",
     "output_type": "stream",
     "text": [
      "number of training parameters: 408257\n",
      "start training...\n"
     ]
    },
    {
     "name": "stdout",
     "output_type": "stream",
     "text": [
      "INFO: building dataloaders...\n",
      "INFO: train/val/test split ratios: 1.0/0.0/0.0\n",
      "INFO: train size: 60000, validation size: 0, testing sizes: 0\n"
     ]
    },
    {
     "data": {
      "application/vnd.jupyter.widget-view+json": {
       "model_id": "962e8184dec74accad1cd400cf1b6014",
       "version_major": 2,
       "version_minor": 0
      },
      "text/plain": [
       "epochs:   0%|          | 0/3 [00:00<?, ?it/s]"
      ]
     },
     "metadata": {},
     "output_type": "display_data"
    },
    {
     "ename": "KeyboardInterrupt",
     "evalue": "",
     "output_type": "error",
     "traceback": [
      "\u001b[0;31m---------------------------------------------------------------------------\u001b[0m",
      "\u001b[0;31mKeyboardInterrupt\u001b[0m                         Traceback (most recent call last)",
      "Cell \u001b[0;32mIn[7], line 14\u001b[0m\n\u001b[1;32m      7\u001b[0m mnist \u001b[39m=\u001b[39m MNISTDataset(config)\n\u001b[1;32m      9\u001b[0m cfm \u001b[39m=\u001b[39m Model(dynamics \u001b[39m=\u001b[39m OptimalTransportFlowMatching(config), \n\u001b[1;32m     10\u001b[0m             model \u001b[39m=\u001b[39m UNetLight(config),\n\u001b[1;32m     11\u001b[0m             dataloader \u001b[39m=\u001b[39m MNISTDataloader(mnist, config), \n\u001b[1;32m     12\u001b[0m             config \u001b[39m=\u001b[39m config)\n\u001b[0;32m---> 14\u001b[0m cfm\u001b[39m.\u001b[39;49mtrain()\n",
      "File \u001b[0;32m~/Dropbox/PROJECTS/ML/DynGenModels/src/DynGenModels/models/dynamical_model.py:65\u001b[0m, in \u001b[0;36mModel.train\u001b[0;34m(self)\u001b[0m\n\u001b[1;32m     62\u001b[0m \u001b[39m#...train\u001b[39;00m\n\u001b[1;32m     64\u001b[0m \u001b[39mfor\u001b[39;00m epoch \u001b[39min\u001b[39;00m tqdm(\u001b[39mrange\u001b[39m(\u001b[39mself\u001b[39m\u001b[39m.\u001b[39mepochs), desc\u001b[39m=\u001b[39m\u001b[39m\"\u001b[39m\u001b[39mepochs\u001b[39m\u001b[39m\"\u001b[39m):\n\u001b[0;32m---> 65\u001b[0m     train\u001b[39m.\u001b[39;49mupdate(model\u001b[39m=\u001b[39;49m\u001b[39mself\u001b[39;49m\u001b[39m.\u001b[39;49mmodel, loss_fn\u001b[39m=\u001b[39;49m\u001b[39mself\u001b[39;49m\u001b[39m.\u001b[39;49mdynamics\u001b[39m.\u001b[39;49mloss, dataloader\u001b[39m=\u001b[39;49m\u001b[39mself\u001b[39;49m\u001b[39m.\u001b[39;49mdataloader\u001b[39m.\u001b[39;49mtrain, optimizer\u001b[39m=\u001b[39;49moptimizer) \n\u001b[1;32m     66\u001b[0m     valid\u001b[39m.\u001b[39mupdate(model\u001b[39m=\u001b[39m\u001b[39mself\u001b[39m\u001b[39m.\u001b[39mmodel, loss_fn\u001b[39m=\u001b[39m\u001b[39mself\u001b[39m\u001b[39m.\u001b[39mdynamics\u001b[39m.\u001b[39mloss, dataloader\u001b[39m=\u001b[39m\u001b[39mself\u001b[39m\u001b[39m.\u001b[39mdataloader\u001b[39m.\u001b[39mvalid, seed\u001b[39m=\u001b[39m\u001b[39mself\u001b[39m\u001b[39m.\u001b[39mfix_seed)\n\u001b[1;32m     67\u001b[0m     TERMINATE, IMPROVED \u001b[39m=\u001b[39m valid\u001b[39m.\u001b[39mcheckpoint(min_epochs\u001b[39m=\u001b[39m\u001b[39mself\u001b[39m\u001b[39m.\u001b[39mmin_epochs, early_stopping\u001b[39m=\u001b[39m\u001b[39mself\u001b[39m\u001b[39m.\u001b[39mearly_stopping)\n",
      "File \u001b[0;32m~/Dropbox/PROJECTS/ML/DynGenModels/src/DynGenModels/models/utils.py:26\u001b[0m, in \u001b[0;36mTrain_Step.update\u001b[0;34m(self, model, loss_fn, dataloader, optimizer)\u001b[0m\n\u001b[1;32m     24\u001b[0m optimizer\u001b[39m.\u001b[39mzero_grad()\n\u001b[1;32m     25\u001b[0m loss_current \u001b[39m=\u001b[39m loss_fn(model, batch)\n\u001b[0;32m---> 26\u001b[0m loss_current\u001b[39m.\u001b[39;49mbackward()\n\u001b[1;32m     27\u001b[0m optimizer\u001b[39m.\u001b[39mstep()  \n\u001b[1;32m     28\u001b[0m \u001b[39mself\u001b[39m\u001b[39m.\u001b[39mloss \u001b[39m+\u001b[39m\u001b[39m=\u001b[39m loss_current\u001b[39m.\u001b[39mdetach()\u001b[39m.\u001b[39mcpu()\u001b[39m.\u001b[39mnumpy() \u001b[39m/\u001b[39m \u001b[39mlen\u001b[39m(dataloader)\n",
      "File \u001b[0;32m~/anaconda3/lib/python3.10/site-packages/torch/_tensor.py:488\u001b[0m, in \u001b[0;36mTensor.backward\u001b[0;34m(self, gradient, retain_graph, create_graph, inputs)\u001b[0m\n\u001b[1;32m    478\u001b[0m \u001b[39mif\u001b[39;00m has_torch_function_unary(\u001b[39mself\u001b[39m):\n\u001b[1;32m    479\u001b[0m     \u001b[39mreturn\u001b[39;00m handle_torch_function(\n\u001b[1;32m    480\u001b[0m         Tensor\u001b[39m.\u001b[39mbackward,\n\u001b[1;32m    481\u001b[0m         (\u001b[39mself\u001b[39m,),\n\u001b[0;32m   (...)\u001b[0m\n\u001b[1;32m    486\u001b[0m         inputs\u001b[39m=\u001b[39minputs,\n\u001b[1;32m    487\u001b[0m     )\n\u001b[0;32m--> 488\u001b[0m torch\u001b[39m.\u001b[39;49mautograd\u001b[39m.\u001b[39;49mbackward(\n\u001b[1;32m    489\u001b[0m     \u001b[39mself\u001b[39;49m, gradient, retain_graph, create_graph, inputs\u001b[39m=\u001b[39;49minputs\n\u001b[1;32m    490\u001b[0m )\n",
      "File \u001b[0;32m~/anaconda3/lib/python3.10/site-packages/torch/autograd/__init__.py:197\u001b[0m, in \u001b[0;36mbackward\u001b[0;34m(tensors, grad_tensors, retain_graph, create_graph, grad_variables, inputs)\u001b[0m\n\u001b[1;32m    192\u001b[0m     retain_graph \u001b[39m=\u001b[39m create_graph\n\u001b[1;32m    194\u001b[0m \u001b[39m# The reason we repeat same the comment below is that\u001b[39;00m\n\u001b[1;32m    195\u001b[0m \u001b[39m# some Python versions print out the first line of a multi-line function\u001b[39;00m\n\u001b[1;32m    196\u001b[0m \u001b[39m# calls in the traceback and some print out the last line\u001b[39;00m\n\u001b[0;32m--> 197\u001b[0m Variable\u001b[39m.\u001b[39;49m_execution_engine\u001b[39m.\u001b[39;49mrun_backward(  \u001b[39m# Calls into the C++ engine to run the backward pass\u001b[39;49;00m\n\u001b[1;32m    198\u001b[0m     tensors, grad_tensors_, retain_graph, create_graph, inputs,\n\u001b[1;32m    199\u001b[0m     allow_unreachable\u001b[39m=\u001b[39;49m\u001b[39mTrue\u001b[39;49;00m, accumulate_grad\u001b[39m=\u001b[39;49m\u001b[39mTrue\u001b[39;49;00m)\n",
      "\u001b[0;31mKeyboardInterrupt\u001b[0m: "
     ]
    }
   ],
   "source": [
    "from DynGenModels.models.dynamical_model import Model\n",
    "from DynGenModels.datamodules.mnist.datasets import MNISTDataset \n",
    "from DynGenModels.datamodules.mnist.dataloader import MNISTDataloader\n",
    "from DynGenModels.dynamics.cnf.condflowmatch import OptimalTransportFlowMatching \n",
    "from DynGenModels.models.architectures.unet import UNetLight \n",
    "\n",
    "mnist = MNISTDataset(config)\n",
    "\n",
    "cfm = Model(dynamics = OptimalTransportFlowMatching(config), \n",
    "            model = UNetLight(config),\n",
    "            dataloader = MNISTDataloader(mnist, config), \n",
    "            config = config)\n",
    "\n",
    "cfm.train()"
   ]
  },
  {
   "cell_type": "markdown",
   "metadata": {},
   "source": [
    "### generate data from trained model:"
   ]
  },
  {
   "cell_type": "code",
   "execution_count": null,
   "metadata": {},
   "outputs": [],
   "source": [
    "import torch\n",
    "from DynGenModels.pipelines.SamplingPipeline import FlowMatchPipeline \n",
    "\n",
    "pipeline = FlowMatchPipeline(trained_model=cfm, \n",
    "                             num_sampling_steps=100,\n",
    "                             configs=config)\n",
    "sample = pipeline.generate_samples(input_source=torch.randn(100, 1, 28, 28))"
   ]
  },
  {
   "cell_type": "code",
   "execution_count": null,
   "metadata": {},
   "outputs": [],
   "source": [
    "from torchvision import datasets, transforms\n",
    "from torchvision.transforms import ToPILImage\n",
    "from torchvision.utils import make_grid\n",
    "from matplotlib import pyplot as plt\n",
    "\n",
    "\n",
    "grid = make_grid(\n",
    "    pipeline.trajectories[0, :100].view([-1, 1, 28, 28]).clip(0, 1), value_range=(0, 1), padding=0, nrow=10\n",
    ")\n",
    "img = ToPILImage()(grid)\n",
    "plt.imshow(img)"
   ]
  },
  {
   "cell_type": "code",
   "execution_count": null,
   "metadata": {},
   "outputs": [],
   "source": [
    "x = pipeline.trajectories[0][99]\n",
    "img = ToPILImage()(x)\n",
    "img"
   ]
  },
  {
   "cell_type": "code",
   "execution_count": null,
   "metadata": {},
   "outputs": [],
   "source": []
  },
  {
   "cell_type": "code",
   "execution_count": null,
   "metadata": {},
   "outputs": [],
   "source": [
    "from DynGenModels.configs.registered_experiments import Config_MNIST_UNetLight_CondFlowMatch as Config\n",
    "\n",
    "config = Config(NAME = 'noise_to_mnist',\n",
    "                DATA_SOURCE = 'fashion',\n",
    "                DATA_TARGET = 'mnist',\n",
    "                DATA_SPLIT_FRACS = [1.0, 0.0, 0.0],\n",
    "                BATCH_SIZE = 128,\n",
    "                EPOCHS = 3,\n",
    "                LR = 1e-4,\n",
    "                MODEL = 'UNetLight',\n",
    "                DIM_HIDDEN = 32, \n",
    "                DIM_TIME_EMB = 32,\n",
    "                ACTIVATION = 'GELU',\n",
    "                DYNAMICS = 'OptimalTransportFlowMatching',\n",
    "                SIGMA = 0.0,\n",
    "                SOLVER ='dopri5',\n",
    "                ATOL = 1e-4,\n",
    "                RTOL = 1e-4,\n",
    "                NUM_SAMPLING_STEPS = 100)\n",
    "\n",
    "#...set working directory for results:\n",
    "\n",
    "config.set_workdir(path='../../results', save_config=True)"
   ]
  },
  {
   "cell_type": "code",
   "execution_count": null,
   "metadata": {},
   "outputs": [],
   "source": [
    "\n",
    "from DynGenModels.datamodules.mnist.datasets import MNISTDataset\n"
   ]
  },
  {
   "cell_type": "code",
   "execution_count": null,
   "metadata": {},
   "outputs": [],
   "source": [
    "from DynGenModels.datamodules.mnist.datasets import MNISTDataset\n",
    "from DynGenModels.datamodules.mnist.dataloader import MNISTDataloader\n",
    "from DynGenModels.dynamics.cnf.condflowmatch import OptimalTransportFlowMatching\n",
    "from DynGenModels.models.dynamical_model import Model\n",
    "from DynGenModels.models.architectures.unet import UNetLight\n",
    "\n",
    "mnist = MNISTDataset(config)\n",
    "\n",
    "cfm = Model(dynamics = OptimalTransportFlowMatching(config),\n",
    "            model = UNetLight(config),\n",
    "            dataloader = MNISTDataloader(mnist, config), \n",
    "            config = config)"
   ]
  },
  {
   "cell_type": "code",
   "execution_count": null,
   "metadata": {},
   "outputs": [],
   "source": [
    "cfm.train()"
   ]
  },
  {
   "cell_type": "code",
   "execution_count": null,
   "metadata": {},
   "outputs": [],
   "source": [
    "import torch\n",
    "from torchvision.transforms import ToPILImage\n",
    "from torchvision.utils import make_grid\n",
    "from matplotlib import pyplot as plt\n",
    "from DynGenModels.pipelines.SamplingPipeline import FlowMatchPipeline \n",
    "\n",
    "pipeline = FlowMatchPipeline(trained_model=cfm, \n",
    "                             num_sampling_steps=100,\n",
    "                             configs=config)\n",
    "\n",
    "sample = pipeline.generate_samples(input_source=torch.randn(100, 1, 28, 28))\n"
   ]
  },
  {
   "cell_type": "code",
   "execution_count": null,
   "metadata": {},
   "outputs": [],
   "source": [
    "grid = make_grid( pipeline.trajectories[0, :100].view([-1, 1, 28, 28]).clip(0, 1), value_range=(0, 1), padding=0, nrow=10)\n",
    "img = ToPILImage()(grid)\n",
    "plt.imshow(img)"
   ]
  }
 ],
 "metadata": {
  "kernelspec": {
   "display_name": "Python 3 (ipykernel)",
   "language": "python",
   "name": "python3"
  },
  "language_info": {
   "codemirror_mode": {
    "name": "ipython",
    "version": 3
   },
   "file_extension": ".py",
   "mimetype": "text/x-python",
   "name": "python",
   "nbconvert_exporter": "python",
   "pygments_lexer": "ipython3",
   "version": "3.10.9"
  },
  "orig_nbformat": 4
 },
 "nbformat": 4,
 "nbformat_minor": 2
}
