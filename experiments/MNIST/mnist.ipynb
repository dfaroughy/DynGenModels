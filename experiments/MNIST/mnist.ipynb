{
 "cells": [
  {
   "cell_type": "markdown",
   "metadata": {},
   "source": [
    "# Conditional Flow-Matching\n",
    "We learn the galaxy phase space densities from gaia data"
   ]
  },
  {
   "cell_type": "code",
   "execution_count": 6,
   "metadata": {},
   "outputs": [
    {
     "name": "stdout",
     "output_type": "stream",
     "text": [
      "#=============================================================================================================\n",
      "INFO: created directory: ../../results/noise_to_mnist.OptimalTransportFlowMatching.UnetLight.2024.02.13_12h06\n",
      "#=============================================================================================================\n",
      "+---------------------+------------------------------+\n",
      "| Parameters          | Values                       |\n",
      "+---------------------+------------------------------+\n",
      "| NAME                | noise_to_mnist               |\n",
      "| DATA_SOURCE         | fashion                      |\n",
      "| DATA_TARGET         | mnist                        |\n",
      "| DIM_INPUT           | 784                          |\n",
      "| INPUT_SHAPE         | (1, 28, 28)                  |\n",
      "| DEVICE              | cpu                          |\n",
      "| OPTIMIZER           | Adam                         |\n",
      "| LR                  | 0.0001                       |\n",
      "| WEIGHT_DECAY        | 0.0                          |\n",
      "| OPTIMIZER_BETAS     | [0.9, 0.999]                 |\n",
      "| OPTIMIZER_EPS       | 1e-08                        |\n",
      "| OPTIMIZER_AMSGRAD   | False                        |\n",
      "| GRADIENT_CLIP       |                              |\n",
      "| SCHEDULER           |                              |\n",
      "| SCHEDULER_T_MAX     |                              |\n",
      "| SCHEDULER_ETA_MIN   |                              |\n",
      "| SCHEDULER_GAMMA     |                              |\n",
      "| SCHEDULER_STEP_SIZE |                              |\n",
      "| EPOCHS              | 3                            |\n",
      "| BATCH_SIZE          | 128                          |\n",
      "| DATA_SPLIT_FRACS    | [1.0, 0.0, 0.0]              |\n",
      "| NUM_WORKERS         | 0                            |\n",
      "| PIN_MEMORY          | False                        |\n",
      "| EARLY_STOPPING      |                              |\n",
      "| MIN_EPOCHS          |                              |\n",
      "| PRINT_EPOCHS        |                              |\n",
      "| FIX_SEED            |                              |\n",
      "| MODEL               | UnetLight                    |\n",
      "| DIM_HIDDEN          | 32                           |\n",
      "| DIM_TIME_EMB        | 64                           |\n",
      "| ACTIVATION          | GELU                         |\n",
      "| DYNAMICS            | OptimalTransportFlowMatching |\n",
      "| SIGMA               | 0.0                          |\n",
      "| AUGMENTED           | False                        |\n",
      "| T0                  | 0.0                          |\n",
      "| T1                  | 1.0                          |\n",
      "| SAMPLER             | NeuralODE                    |\n",
      "| SOLVER              | dopri5                       |\n",
      "| NUM_SAMPLING_STEPS  | 100                          |\n",
      "| SENSITIVITY         | adjoint                      |\n",
      "| ATOL                | 0.0001                       |\n",
      "| RTOL                | 0.0001                       |\n",
      "| NUM_GEN_SAMPLES     | 10000                        |\n",
      "+---------------------+------------------------------+\n"
     ]
    }
   ],
   "source": [
    "from DynGenModels.configs.registered_experiments import Config_MNIST_UNetLight_CondFlowMatch as Config\n",
    "\n",
    "config = Config(NAME = 'noise_to_mnist',\n",
    "                DATA_SOURCE = 'fashion',\n",
    "                DATA_TARGET = 'mnist',\n",
    "                DATA_SPLIT_FRACS = [1.0, 0.0, 0.0],\n",
    "                BATCH_SIZE = 128,\n",
    "                EPOCHS = 3,\n",
    "                LR = 1e-4,\n",
    "                DIM_HIDDEN = 32, \n",
    "                DYNAMICS = 'OptimalTransportFlowMatching',\n",
    "                SIGMA = 0.0,\n",
    "                SOLVER ='dopri5',\n",
    "                ATOL = 1e-4,\n",
    "                RTOL = 1e-4,\n",
    "                NUM_SAMPLING_STEPS = 100)\n",
    "\n",
    "#...set working directory for results:\n",
    "\n",
    "config.set_workdir(path='../../results', save_config=True)"
   ]
  },
  {
   "cell_type": "code",
   "execution_count": 7,
   "metadata": {},
   "outputs": [],
   "source": [
    "from DynGenModels.models.dynamical_model import Model\n",
    "from DynGenModels.datamodules.mnist.datasets import MNISTDataset \n",
    "from DynGenModels.datamodules.mnist.dataloader import MNISTDataloader\n",
    "from DynGenModels.dynamics.cnf.condflowmatch import OptimalTransportFlowMatching \n",
    "from DynGenModels.models.architectures.unet import UNetLight \n",
    "\n",
    "mnist = MNISTDataset(config)\n",
    "\n",
    "cfm = Model(dynamics = OptimalTransportFlowMatching(config), \n",
    "            model = UNetLight(config),\n",
    "            dataloader = MNISTDataloader(mnist, config), \n",
    "            config = config)\n",
    "\n",
    "cfm.train()"
   ]
  },
  {
   "cell_type": "markdown",
   "metadata": {},
   "source": [
    "### generate data from trained model:"
   ]
  },
  {
   "cell_type": "code",
   "execution_count": null,
   "metadata": {},
   "outputs": [],
   "source": [
    "import torch\n",
    "from DynGenModels.pipelines.SamplingPipeline import FlowMatchPipeline \n",
    "\n",
    "pipeline = FlowMatchPipeline(trained_model=cfm, \n",
    "                             num_sampling_steps=100,\n",
    "                             configs=config)\n",
    "sample = pipeline.generate_samples(input_source=torch.randn(100, 1, 28, 28))"
   ]
  },
  {
   "cell_type": "code",
   "execution_count": null,
   "metadata": {},
   "outputs": [],
   "source": [
    "from torchvision import datasets, transforms\n",
    "from torchvision.transforms import ToPILImage\n",
    "from torchvision.utils import make_grid\n",
    "from matplotlib import pyplot as plt\n",
    "\n",
    "\n",
    "grid = make_grid(\n",
    "    pipeline.trajectories[0, :100].view([-1, 1, 28, 28]).clip(0, 1), value_range=(0, 1), padding=0, nrow=10\n",
    ")\n",
    "img = ToPILImage()(grid)\n",
    "plt.imshow(img)"
   ]
  },
  {
   "cell_type": "code",
   "execution_count": null,
   "metadata": {},
   "outputs": [],
   "source": [
    "x = pipeline.trajectories[0][99]\n",
    "img = ToPILImage()(x)\n",
    "img"
   ]
  },
  {
   "cell_type": "code",
   "execution_count": null,
   "metadata": {},
   "outputs": [],
   "source": []
  },
  {
   "cell_type": "code",
   "execution_count": null,
   "metadata": {},
   "outputs": [],
   "source": [
    "from DynGenModels.configs.registered_experiments import Config_MNIST_UNetLight_CondFlowMatch as Config\n",
    "\n",
    "config = Config(NAME = 'noise_to_mnist',\n",
    "                DATA_SOURCE = 'fashion',\n",
    "                DATA_TARGET = 'mnist',\n",
    "                DATA_SPLIT_FRACS = [1.0, 0.0, 0.0],\n",
    "                BATCH_SIZE = 128,\n",
    "                EPOCHS = 3,\n",
    "                LR = 1e-4,\n",
    "                MODEL = 'UNetLight',\n",
    "                DIM_HIDDEN = 32, \n",
    "                DIM_TIME_EMB = 32,\n",
    "                ACTIVATION = 'GELU',\n",
    "                DYNAMICS = 'OptimalTransportFlowMatching',\n",
    "                SIGMA = 0.0,\n",
    "                SOLVER ='dopri5',\n",
    "                ATOL = 1e-4,\n",
    "                RTOL = 1e-4,\n",
    "                NUM_SAMPLING_STEPS = 100)\n",
    "\n",
    "#...set working directory for results:\n",
    "\n",
    "config.set_workdir(path='../../results', save_config=True)"
   ]
  },
  {
   "cell_type": "code",
   "execution_count": null,
   "metadata": {},
   "outputs": [],
   "source": [
    "\n",
    "from DynGenModels.datamodules.mnist.datasets import MNISTDataset\n"
   ]
  },
  {
   "cell_type": "code",
   "execution_count": null,
   "metadata": {},
   "outputs": [],
   "source": [
    "from DynGenModels.datamodules.mnist.datasets import MNISTDataset\n",
    "from DynGenModels.datamodules.mnist.dataloader import MNISTDataloader\n",
    "from DynGenModels.dynamics.cnf.condflowmatch import OptimalTransportFlowMatching\n",
    "from DynGenModels.models.dynamical_model import Model\n",
    "from DynGenModels.models.architectures.unet import UNetLight\n",
    "\n",
    "mnist = MNISTDataset(config)\n",
    "\n",
    "cfm = Model(dynamics = OptimalTransportFlowMatching(config),\n",
    "            model = UNetLight(config),\n",
    "            dataloader = MNISTDataloader(mnist, config), \n",
    "            config = config)"
   ]
  },
  {
   "cell_type": "code",
   "execution_count": null,
   "metadata": {},
   "outputs": [],
   "source": [
    "cfm.train()"
   ]
  },
  {
   "cell_type": "code",
   "execution_count": null,
   "metadata": {},
   "outputs": [],
   "source": [
    "import torch\n",
    "from torchvision.transforms import ToPILImage\n",
    "from torchvision.utils import make_grid\n",
    "from matplotlib import pyplot as plt\n",
    "from DynGenModels.pipelines.SamplingPipeline import FlowMatchPipeline \n",
    "\n",
    "pipeline = FlowMatchPipeline(trained_model=cfm, \n",
    "                             num_sampling_steps=100,\n",
    "                             configs=config)\n",
    "\n",
    "sample = pipeline.generate_samples(input_source=torch.randn(100, 1, 28, 28))\n"
   ]
  },
  {
   "cell_type": "code",
   "execution_count": null,
   "metadata": {},
   "outputs": [],
   "source": [
    "grid = make_grid( pipeline.trajectories[0, :100].view([-1, 1, 28, 28]).clip(0, 1), value_range=(0, 1), padding=0, nrow=10)\n",
    "img = ToPILImage()(grid)\n",
    "plt.imshow(img)"
   ]
  }
 ],
 "metadata": {
  "kernelspec": {
   "display_name": "Python 3 (ipykernel)",
   "language": "python",
   "name": "python3"
  },
  "language_info": {
   "codemirror_mode": {
    "name": "ipython",
    "version": 3
   },
   "file_extension": ".py",
   "mimetype": "text/x-python",
   "name": "python",
   "nbconvert_exporter": "python",
   "pygments_lexer": "ipython3",
   "version": "3.10.9"
  },
  "orig_nbformat": 4
 },
 "nbformat": 4,
 "nbformat_minor": 2
}
