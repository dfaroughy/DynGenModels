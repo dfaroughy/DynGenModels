{
 "cells": [
  {
   "cell_type": "markdown",
   "metadata": {},
   "source": [
    "## Train CFM"
   ]
  },
  {
   "cell_type": "code",
   "execution_count": 11,
   "metadata": {},
   "outputs": [
    {
     "name": "stdout",
     "output_type": "stream",
     "text": [
      "#=====================================================================================\n",
      "INFO: created directory: ../../results/LHCOlympics.CondFlowMatch.MLP.2023.11.10_19h36\n",
      "#=====================================================================================\n",
      "+---------------------+--------------------------------------------------------------------------+\n",
      "| Parameters          | Values                                                                   |\n",
      "+---------------------+--------------------------------------------------------------------------+\n",
      "| DATA                | LHCOlympics                                                              |\n",
      "| dataset             | ../../data/LHCOlympics2020/events_anomalydetection_high_level_cathode.h5 |\n",
      "| features            | ['mjj', 'mj1', 'delta_m', 'tau21_1', 'tau21_2']                          |\n",
      "| dim_input           | 5                                                                        |\n",
      "| preprocess          | ['normalize', 'logit_transform', 'standardize']                          |\n",
      "| cuts_sideband_low   | mjj: [2600, 3300]                                                        |\n",
      "| cuts_sideband_high  | mjj: [3700, 5000]                                                        |\n",
      "| num_dijets          | 125000                                                                   |\n",
      "| DEVICE              | cuda:1                                                                   |\n",
      "| optimizer           | Adam                                                                     |\n",
      "| lr                  | 0.001                                                                    |\n",
      "| weight_decay        | 0.0                                                                      |\n",
      "| optimizer_betas     | [0.9, 0.999]                                                             |\n",
      "| optimizer_eps       | 1e-08                                                                    |\n",
      "| optimizer_amsgrad   | False                                                                    |\n",
      "| gradient_clip       |                                                                          |\n",
      "| scheduler           |                                                                          |\n",
      "| scheduler_T_max     |                                                                          |\n",
      "| scheduler_gamma     |                                                                          |\n",
      "| scheduler_step_size |                                                                          |\n",
      "| EPOCHS              | 100                                                                      |\n",
      "| batch_size          | 512                                                                      |\n",
      "| data_split_fracs    | [0.6, 0.2, 0.2]                                                          |\n",
      "| num_workers         | 0                                                                        |\n",
      "| pin_memory          | False                                                                    |\n",
      "| early_stopping      | 20                                                                       |\n",
      "| min_epochs          | 100                                                                      |\n",
      "| print_epochs        | 20                                                                       |\n",
      "| fix_seed            | 1234                                                                     |\n",
      "| MODEL               | MLP                                                                      |\n",
      "| dim_hidden          | 128                                                                      |\n",
      "| num_layers          | 5                                                                        |\n",
      "| DYNAMICS            | CondFlowMatch                                                            |\n",
      "| sigma               | 0.0                                                                      |\n",
      "| t0                  | 0.0                                                                      |\n",
      "| t1                  | 1.0                                                                      |\n",
      "| SAMPLER             | NeuralODE                                                                |\n",
      "| solver              | midpoint                                                                 |\n",
      "| num_sampling_steps  | 500                                                                      |\n",
      "| sensitivity         | adjoint                                                                  |\n",
      "| atol                | 0.0001                                                                   |\n",
      "| rtol                | 0.0001                                                                   |\n",
      "| num_gen_samples     | 10000                                                                    |\n",
      "+---------------------+--------------------------------------------------------------------------+\n"
     ]
    }
   ],
   "source": [
    "import numpy as np\n",
    "import torch\n",
    "from DynGenModels.configs.lhco_configs import LHCOlympics_HighLevel_MLP_CondFlowMatch as Configs\n",
    "\n",
    "configs = Configs(# data:\n",
    "                  DATA = 'LHCOlympics',\n",
    "                  dataset = '../../data/LHCOlympics2020/events_anomalydetection_high_level_cathode.h5', \n",
    "                  cuts_sideband_low = {'mjj': [2600, 3300]},  \n",
    "                  cuts_sideband_high = {'mjj': [3700, 5000]}, \n",
    "                  dim_input = 5,\n",
    "                  num_dijets = 125000,  \n",
    "                  # training params:   \n",
    "                  DEVICE = 'cuda:1',\n",
    "                  EPOCHS = 100,\n",
    "                  batch_size = 512,\n",
    "                  print_epochs = 20,\n",
    "                  early_stopping = 20,\n",
    "                  min_epochs = 100,\n",
    "                  data_split_fracs = [0.6, 0.2, 0.2],\n",
    "                  lr = 1e-3,\n",
    "                  optimizer = 'Adam',\n",
    "                  fix_seed = 1234,\n",
    "                  # model params:\n",
    "                  MODEL = 'MLP',\n",
    "                  dim_hidden = 128,\n",
    "                  num_layers = 5,\n",
    "                  sigma = 0.0,\n",
    "                  t0 = 0.0,\n",
    "                  t1 = 1.0,\n",
    "                  # sampling params:\n",
    "                  solver = 'midpoint',\n",
    "                  num_sampling_steps = 500\n",
    "                )\n",
    "\n",
    "configs.set_workdir(path='../../results', save_config=True)"
   ]
  },
  {
   "cell_type": "code",
   "execution_count": 12,
   "metadata": {},
   "outputs": [
    {
     "name": "stderr",
     "output_type": "stream",
     "text": [
      "number of training parameters: 67589\n",
      "number of training parameters: 67589\n",
      "number of training parameters: 67589\n",
      "number of training parameters: 67589\n",
      "start training...\n",
      "start training...\n",
      "start training...\n",
      "start training...\n"
     ]
    },
    {
     "name": "stdout",
     "output_type": "stream",
     "text": [
      "INFO: building dataloaders...\n",
      "INFO: train/val/test split ratios: 0.6/0.2/0.2\n",
      "INFO: train size: 75000, validation size: 25000, testing sizes: 25000\n"
     ]
    },
    {
     "data": {
      "application/vnd.jupyter.widget-view+json": {
       "model_id": "9b0a5eff41994c4988cb42bc6709fb51",
       "version_major": 2,
       "version_minor": 0
      },
      "text/plain": [
       "epochs:   0%|          | 0/100 [00:00<?, ?it/s]"
      ]
     },
     "metadata": {},
     "output_type": "display_data"
    },
    {
     "name": "stderr",
     "output_type": "stream",
     "text": [
      "\tEpoch: 1, train loss: 0.1723326284463714, valid loss: 0.16561339704357844  (min valid loss: 0.16561339704357844)\n",
      "\tEpoch: 1, train loss: 0.1723326284463714, valid loss: 0.16561339704357844  (min valid loss: 0.16561339704357844)\n",
      "\tEpoch: 1, train loss: 0.1723326284463714, valid loss: 0.16561339704357844  (min valid loss: 0.16561339704357844)\n",
      "\tEpoch: 1, train loss: 0.1723326284463714, valid loss: 0.16561339704357844  (min valid loss: 0.16561339704357844)\n",
      "\tEpoch: 21, train loss: 0.1620562955433009, valid loss: 0.16224832741581666  (min valid loss: 0.1617641500672516)\n",
      "\tEpoch: 21, train loss: 0.1620562955433009, valid loss: 0.16224832741581666  (min valid loss: 0.1617641500672516)\n",
      "\tEpoch: 21, train loss: 0.1620562955433009, valid loss: 0.16224832741581666  (min valid loss: 0.1617641500672516)\n",
      "\tEpoch: 21, train loss: 0.1620562955433009, valid loss: 0.16224832741581666  (min valid loss: 0.1617641500672516)\n",
      "\tEpoch: 41, train loss: 0.1634073107420994, valid loss: 0.16131590185116745  (min valid loss: 0.1609594946613117)\n",
      "\tEpoch: 41, train loss: 0.1634073107420994, valid loss: 0.16131590185116745  (min valid loss: 0.1609594946613117)\n",
      "\tEpoch: 41, train loss: 0.1634073107420994, valid loss: 0.16131590185116745  (min valid loss: 0.1609594946613117)\n",
      "\tEpoch: 41, train loss: 0.1634073107420994, valid loss: 0.16131590185116745  (min valid loss: 0.1609594946613117)\n",
      "\tEpoch: 61, train loss: 0.16754108849836852, valid loss: 0.16065756429214867  (min valid loss: 0.16063584660997196)\n",
      "\tEpoch: 61, train loss: 0.16754108849836852, valid loss: 0.16065756429214867  (min valid loss: 0.16063584660997196)\n",
      "\tEpoch: 61, train loss: 0.16754108849836852, valid loss: 0.16065756429214867  (min valid loss: 0.16063584660997196)\n",
      "\tEpoch: 61, train loss: 0.16754108849836852, valid loss: 0.16065756429214867  (min valid loss: 0.16063584660997196)\n",
      "\tEpoch: 81, train loss: 0.16704509726592476, valid loss: 0.16060442796775273  (min valid loss: 0.16029787246061836)\n",
      "\tEpoch: 81, train loss: 0.16704509726592476, valid loss: 0.16060442796775273  (min valid loss: 0.16029787246061836)\n",
      "\tEpoch: 81, train loss: 0.16704509726592476, valid loss: 0.16060442796775273  (min valid loss: 0.16029787246061836)\n",
      "\tEpoch: 81, train loss: 0.16704509726592476, valid loss: 0.16060442796775273  (min valid loss: 0.16029787246061836)\n"
     ]
    }
   ],
   "source": [
    "from DynGenModels.datamodules.lhco.datasets import LHCOlympicsHighLevelDataset\n",
    "from DynGenModels.datamodules.lhco.dataloader import LHCOlympicsDataLoader \n",
    "from DynGenModels.models.deep_nets import MLP\n",
    "from DynGenModels.dynamics.cnf.condflowmatch import OptimalTransportFlowMatching\n",
    "from DynGenModels.trainer.trainer import DynGenModelTrainer\n",
    "\n",
    "lhco = LHCOlympicsHighLevelDataset(configs)\n",
    "cfm = DynGenModelTrainer(dynamics = OptimalTransportFlowMatching(configs),\n",
    "                         model = MLP(configs), \n",
    "                         dataloader = LHCOlympicsDataLoader(lhco, configs), \n",
    "                         configs = configs)\n",
    "\n",
    "#...train model:\n",
    "\n",
    "cfm.train()"
   ]
  },
  {
   "cell_type": "code",
   "execution_count": 23,
   "metadata": {},
   "outputs": [
    {
     "name": "stdout",
     "output_type": "stream",
     "text": [
      "INFO: neural ODE solver with midpoint method and steps=500\n"
     ]
    },
    {
     "name": "stderr",
     "output_type": "stream",
     "text": [
      "/home/df630/.conda/envs/flow_match_env/lib/python3.9/site-packages/torchdyn/numerics/odeint.py:84: UserWarning: Setting tolerances has no effect on fixed-step methods\n",
      "  warn(\"Setting tolerances has no effect on fixed-step methods\")\n"
     ]
    }
   ],
   "source": [
    "from DynGenModels.pipelines.SamplingPipeline import FlowMatchPipeline \n",
    "from DynGenModels.datamodules.lhco.dataprocess import PreProcessLHCOlympicsHighLevelData, PostProcessLHCOlympicsHighLevelData\n",
    "\n",
    "pipeline = FlowMatchPipeline(trained_model=cfm, \n",
    "                             configs=configs, \n",
    "                             preprocessor= PreProcessLHCOlympicsHighLevelData,\n",
    "                             postprocessor= PostProcessLHCOlympicsHighLevelData,\n",
    "                             best_epoch_model=True)\n",
    "\n",
    "pipeline.generate_samples(input_source=lhco.source)"
   ]
  },
  {
   "cell_type": "code",
   "execution_count": 32,
   "metadata": {},
   "outputs": [
    {
     "data": {
      "text/plain": [
       "<matplotlib.legend.Legend at 0x7f5a06ce8cd0>"
      ]
     },
     "execution_count": 32,
     "metadata": {},
     "output_type": "execute_result"
    },
    {
     "data": {
      "image/png": "[encoded data removed]",
      "text/plain": [
       "<Figure size 400x400 with 1 Axes>"
      ]
     },
     "metadata": {},
     "output_type": "display_data"
    },
    {
     "data": {
      "image/png": "[encoded data removed]",
      "text/plain": [
       "<Figure size 400x400 with 1 Axes>"
      ]
     },
     "metadata": {},
     "output_type": "display_data"
    }
   ],
   "source": [
    "import matplotlib.pyplot as plt\n",
    "\n",
    "log = True\n",
    "bins = np.arange(1200,6000,20)\n",
    "\n",
    "fig, ax = plt.subplots(1, 1, figsize=(4,4))\n",
    "plt.hist(lhco.source[...,0], bins=bins, histtype='stepfilled', color='darkred', label='SB1 (source)', log=log, density=True)\n",
    "plt.hist(lhco.background[...,0], bins=bins, histtype='stepfilled', color='gold', label='SR', log=log, density=True)\n",
    "plt.hist(lhco.target[...,0], bins=bins, histtype='stepfilled', color='darkblue', label='SB2 (target)', log=log, density=True)\n",
    "ax.set_ylim(5e-5, 1e-2)\n",
    "plt.legend(fontsize=6)\n",
    "\n",
    "log = True\n",
    "bins = 100\n",
    "\n",
    "fig, ax = plt.subplots(1, 1, figsize=(4,4))\n",
    "plt.hist(lhco.source_preprocess[...,0], bins=bins, histtype='stepfilled', color='darkred', label='SB1 (source)', log=log, density=True)\n",
    "plt.hist(lhco.background_preprocess[...,0], bins=bins, histtype='stepfilled', color='gold', label='SR', log=log, density=True)\n",
    "plt.hist(lhco.target_preprocess[...,0], bins=bins, histtype='stepfilled', color='darkblue', label='SB2 (target)', log=log, density=True)\n",
    "plt.hist(lhco.source_preprocess[...,0], bins=bins, histtype='step', color='darkred', log=log, density=True)\n",
    "plt.hist(lhco.background_preprocess[...,0], bins=bins, histtype='step', color='gold', log=log, density=True)\n",
    "plt.hist(lhco.target_preprocess[...,0], bins=bins, histtype='step', color='darkblue', log=log, density=True)\n",
    "plt.legend(fontsize=6)"
   ]
  },
  {
   "cell_type": "code",
   "execution_count": 31,
   "metadata": {},
   "outputs": [
    {
     "data": {
      "text/plain": [
       "<matplotlib.legend.Legend at 0x7f0d7305c340>"
      ]
     },
     "execution_count": 31,
     "metadata": {},
     "output_type": "execute_result"
    },
    {
     "data": {
      "image/png": "[encoded data removed]",
      "text/plain": [
       "<Figure size 400x400 with 1 Axes>"
      ]
     },
     "metadata": {},
     "output_type": "display_data"
    }
   ],
   "source": [
    "import matplotlib.pyplot as plt\n",
    "\n",
    "log = True\n",
    "density = False\n",
    "bins = np.arange(2500, 5200, 20)\n",
    "\n",
    "fig, ax = plt.subplots(1, 1, figsize=(4,4))\n",
    "plt.hist(lhco.source[...,0], bins=bins, histtype='step', color='darkred', label='SB1 (source)', log=log, density=density)\n",
    "plt.hist(pipeline.trajectories[-1][...,0], bins=bins, histtype='step', color='k', label='t=0.5', log=log, density=density)\n",
    "plt.hist(lhco.target[...,0], bins=bins, histtype='step', color='darkblue',  label='SB2 (target)', log=log, density=density)\n",
    "plt.hist(lhco.background[...,0],bins=bins, histtype='stepfilled', color='gray', alpha=0.3, label='SR', log=log, density=density)\n",
    "# ax.set_ylim(5e-5, 1e-2)\n",
    "plt.legend(fontsize=6)\n",
    "\n",
    "# log = True\n",
    "# bins = 100\n",
    "\n",
    "# fig, ax = plt.subplots(1, 1, figsize=(4,4))\n",
    "# plt.hist(lhco.source[...,1], bins=bins, histtype='step', color='darkred', label='SB1 (source)', log=log, density=True)\n",
    "# # plt.hist(pipeline.quarter[...,1], bins=bins, histtype='step', color='darkred', ls=':', label='t=1.0', log=log, density=True)\n",
    "# plt.hist(pipeline.midway[...,1], bins=bins, histtype='step', color='k', label='t=0.5', log=log, density=True)\n",
    "# # plt.hist(pipeline.target[...,1], bins=bins, histtype='step', color='purple', ls=':', label='t=1.0', log=log, density=True)\n",
    "# plt.hist(lhco.target[...,1], bins=bins, histtype='step', color='darkblue',  label='SB2 (target)', log=log, density=True)\n",
    "# plt.hist(lhco.background[...,1],bins=bins, histtype='stepfilled', color='gray', alpha=0.3, label='SR', log=log, density=True)\n",
    "# plt.legend(fontsize=6)\n",
    "\n",
    "\n",
    "# log = True\n",
    "# bins = 100\n",
    "\n",
    "# fig, ax = plt.subplots(1, 1, figsize=(4,4))\n",
    "# plt.hist(lhco.source[...,2], bins=bins, histtype='step', color='darkred', label='SB1 (source)', log=log, density=True)\n",
    "# # plt.hist(pipeline.quarter[...,2], bins=bins, histtype='step', color='darkred', ls=':', label='t=1.0', log=log, density=True)\n",
    "# plt.hist(pipeline.midway[...,2], bins=bins, histtype='step', color='k', label='t=0.5', log=log, density=True)\n",
    "# # plt.hist(pipeline.target[...,2], bins=bins, histtype='step', color='purple', ls=':', label='t=1.0', log=log, density=True)\n",
    "# plt.hist(lhco.target[...,2], bins=bins, histtype='step', color='darkblue',  label='SB2 (target)', log=log, density=True)\n",
    "# plt.hist(lhco.background[...,2],bins=bins, histtype='stepfilled', color='gray', alpha=0.3, label='SR', log=log, density=True)\n",
    "# plt.legend(fontsize=6)\n",
    "\n",
    "# log = True\n",
    "# bins = 100\n",
    "\n",
    "# fig, ax = plt.subplots(1, 1, figsize=(4,4))\n",
    "# plt.hist(lhco.source[...,3], bins=bins, histtype='step', color='darkred', label='SB1 (source)', log=log, density=True)\n",
    "# # plt.hist(pipeline.quarter[...,3], bins=bins, histtype='step', color='darkred', ls=':', label='t=1.0', log=log, density=True)\n",
    "# plt.hist(pipeline.midway[...,3], bins=bins, histtype='step', color='k', label='t=0.5', log=log, density=True)\n",
    "# # plt.hist(pipeline.target[...,3], bins=bins, histtype='step', color='purple', ls=':', label='t=1.0', log=log, density=True)\n",
    "# plt.hist(lhco.target[...,3], bins=bins, histtype='step', color='darkblue',  label='SB2 (target)', log=log, density=True)\n",
    "# plt.hist(lhco.background[...,3],bins=bins, histtype='stepfilled', color='gray', alpha=0.3, label='SR', log=log, density=True)\n",
    "# plt.legend(fontsize=6)\n",
    "\n",
    "# log = True\n",
    "# bins = 100\n",
    "\n",
    "# fig, ax = plt.subplots(1, 1, figsize=(4,4))\n",
    "# plt.hist(lhco.source[...,4], bins=bins, histtype='step', color='darkred', label='SB1 (source)', log=log, density=True)\n",
    "# # plt.hist(pipeline.quarter[...,4], bins=bins, histtype='step', color='darkred', ls=':', label='t=1.0', log=log, density=True)\n",
    "# plt.hist(pipeline.midway[...,4], bins=bins, histtype='step', color='k', label='t=0.5', log=log, density=True)\n",
    "# # plt.hist(pipeline.target[...,4], bins=bins, histtype='step', color='purple', ls=':', label='t=1.0', log=log, density=True)\n",
    "# plt.hist(lhco.target[...,4], bins=bins, histtype='step', color='darkblue',  label='SB2 (target)', log=log, density=True)\n",
    "# plt.hist(lhco.background[...,4],bins=bins, histtype='stepfilled', color='gray', alpha=0.3, label='SR', log=log, density=True)\n",
    "# plt.legend(fontsize=6)"
   ]
  },
  {
   "cell_type": "markdown",
   "metadata": {},
   "source": [
    "# Sample from Pretrained CFM\n",
    "\n",
    "Load a previsoiusly trained model that was stored somewhere in a directory. The directory must contain the follwing files:\n",
    "- `config.json` file with all the parameters used during the training.\n",
    "- `best_epoch_model.pth` model file corresponding the trained model that had the lowest validation loss.\n",
    "- `last_epoch_model.pth` model file corresponding the last epoch trained model.\n"
   ]
  },
  {
   "cell_type": "markdown",
   "metadata": {},
   "source": [
    "### 1. Load pre-trained model\n",
    "promising runs:\n",
    "\n",
    " - LHCOlympics.CondFlowMatch.MLP.2023.11.01_22h09\n",
    " "
   ]
  },
  {
   "cell_type": "code",
   "execution_count": null,
   "metadata": {},
   "outputs": [],
   "source": [
    "#...provide the directory of the trained model and load the configuration file in it:\n",
    "\n",
    "from DynGenModels.configs.lhco_configs import LHCOlympics_MLP_CondFlowMatch as Configs\n",
    "\n",
    "model_workdir = '../../results/LHCOlympics.CondFlowMatch.MLP.2023.11.01_22h09'\n",
    "configs = Configs().load(model_workdir + '/config.json')\n",
    "configs.DEVICE = 'cuda:3'   # select device\n",
    "configs.workdir = model_workdir\n",
    "\n",
    "#...be sure to use the same dataset, dataloader and model that was used for training the pre-trained model:\n",
    "\n",
    "from DynGenModels.datamodules.lhco.datasets import LHCOlympicsDataset \n",
    "from DynGenModels.datamodules.lhco.dataloader import LHCOlympicsDataLoader \n",
    "from DynGenModels.models.deep_nets import MLP\n",
    "from DynGenModels.dynamics.cnf.condflowmatch import SimplifiedCondFlowMatching\n",
    "from DynGenModels.trainer.trainer import DynGenModelTrainer\n",
    "\n",
    "lhco = LHCOlympicsDataset(configs)\n",
    "pretrained_cfm = DynGenModelTrainer(dynamics = SimplifiedCondFlowMatching(configs),\n",
    "                                    model = MLP(configs), \n",
    "                                    dataloader = LHCOlympicsDataLoader(lhco, configs), \n",
    "                                    configs = configs)\n",
    "\n",
    "#...load the pre-trained model:\n",
    "\n",
    "pretrained_cfm.load(model='best')"
   ]
  },
  {
   "cell_type": "markdown",
   "metadata": {},
   "source": [
    "### 2. sample from loaded models"
   ]
  },
  {
   "cell_type": "code",
   "execution_count": 6,
   "metadata": {},
   "outputs": [
    {
     "ename": "NameError",
     "evalue": "name 'pretrained_cfm' is not defined",
     "output_type": "error",
     "traceback": [
      "\u001b[0;31m---------------------------------------------------------------------------\u001b[0m",
      "\u001b[0;31mNameError\u001b[0m                                 Traceback (most recent call last)",
      "Cell \u001b[0;32mIn[6], line 3\u001b[0m\n\u001b[1;32m      1\u001b[0m \u001b[39mfrom\u001b[39;00m \u001b[39mDynGenModels\u001b[39;00m\u001b[39m.\u001b[39;00m\u001b[39mpipelines\u001b[39;00m\u001b[39m.\u001b[39;00m\u001b[39mSamplingPipeline\u001b[39;00m \u001b[39mimport\u001b[39;00m FlowMatchPipeline \n\u001b[0;32m----> 3\u001b[0m pipeline \u001b[39m=\u001b[39m FlowMatchPipeline(trained_model\u001b[39m=\u001b[39mpretrained_cfm, \n\u001b[1;32m      4\u001b[0m                              source_input\u001b[39m=\u001b[39mlhco\u001b[39m.\u001b[39msource,\n\u001b[1;32m      5\u001b[0m                              configs\u001b[39m=\u001b[39mconfigs, \n\u001b[1;32m      6\u001b[0m                              solver \u001b[39m=\u001b[39m \u001b[39m'\u001b[39m\u001b[39mdopri5\u001b[39m\u001b[39m'\u001b[39m,\n\u001b[1;32m      7\u001b[0m                              best_epoch_model\u001b[39m=\u001b[39m\u001b[39mTrue\u001b[39;00m)\n",
      "\u001b[0;31mNameError\u001b[0m: name 'pretrained_cfm' is not defined"
     ]
    }
   ],
   "source": [
    "from DynGenModels.pipelines.SamplingPipeline import FlowMatchPipeline \n",
    "\n",
    "pipeline = FlowMatchPipeline(trained_model=pretrained_cfm, \n",
    "                             source_input=lhco.source,\n",
    "                             configs=configs, \n",
    "                             solver = 'dopri5',\n",
    "                             best_epoch_model=True)"
   ]
  },
  {
   "cell_type": "markdown",
   "metadata": {},
   "source": [
    "### Plot results:"
   ]
  },
  {
   "cell_type": "code",
   "execution_count": null,
   "metadata": {},
   "outputs": [],
   "source": [
    "import numpy as np\n",
    "from utils import plot_jet_features, plot_dijet_mass\n",
    "\n",
    "STEP = configs.num_sampling_steps/2\n",
    "D_STEP = configs.num_sampling_steps/4\n",
    "\n",
    "plot_jet_features(lhco, pipeline.trajectories, 'p_t', time_step=STEP, d_step=D_STEP, xlim=(1000, 3000, 40))\n",
    "plot_jet_features(lhco, pipeline.trajectories, '\\eta', time_step=STEP, d_step=D_STEP, xlim=(-3, 3, 0.05))\n",
    "plot_jet_features(lhco, pipeline.trajectories, '\\phi', time_step=STEP, d_step=D_STEP, xlim=(-1, 12, 0.1))\n",
    "plot_jet_features(lhco, pipeline.trajectories, 'm', time_step=STEP, d_step=D_STEP, xlim=(0, 1000, 10))\n",
    "plot_dijet_mass(lhco, pipeline.trajectories, bins=np.arange(2000, 10000, 20), time_step=STEP, d_step=D_STEP, figsize=(4,4))"
   ]
  },
  {
   "cell_type": "code",
   "execution_count": null,
   "metadata": {},
   "outputs": [],
   "source": []
  }
 ],
 "metadata": {
  "kernelspec": {
   "display_name": "Python 3 (ipykernel)",
   "language": "python",
   "name": "python3"
  },
  "language_info": {
   "codemirror_mode": {
    "name": "ipython",
    "version": 3
   },
   "file_extension": ".py",
   "mimetype": "text/x-python",
   "name": "python",
   "nbconvert_exporter": "python",
   "pygments_lexer": "ipython3",
   "version": "3.9.16"
  },
  "orig_nbformat": 4
 },
 "nbformat": 4,
 "nbformat_minor": 2
}
