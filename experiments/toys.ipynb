{
 "cells": [
  {
   "cell_type": "markdown",
   "metadata": {},
   "source": [
    "# Toy data interpolation: 8 gaussians to 2 moons"
   ]
  },
  {
   "cell_type": "code",
   "execution_count": 12,
   "metadata": {},
   "outputs": [],
   "source": [
    "import numpy as np\n",
    "import matplotlib.pyplot as plt\n",
    "from DynGenModels.configs.utils import DynGenModelConfigs\n",
    "from DynGenModels.trainer.trainer import DynGenModelTrainer"
   ]
  },
  {
   "cell_type": "code",
   "execution_count": 13,
   "metadata": {},
   "outputs": [
    {
     "name": "stdout",
     "output_type": "stream",
     "text": [
      "#============================================================================\n",
      "INFO: created directory: ../results/MLP.8gauss_to_2moons_2023.09.28_23h26__1\n",
      "#============================================================================\n",
      "+--------------------+------------------+\n",
      "| Key                | Value            |\n",
      "+--------------------+------------------+\n",
      "| features           | ['x', 'y']       |\n",
      "| data_name          | 8gauss_to_2moons |\n",
      "| num_points         | 20000            |\n",
      "| dim_input          | 2                |\n",
      "| gauss_8_scale      | 5                |\n",
      "| gauss_8_var        | 0.1              |\n",
      "| moon_2_noise       | 0.1              |\n",
      "| device             | cpu              |\n",
      "| data_split_fracs   | [0.7, 0.2, 0.1]  |\n",
      "| batch_size         | 256              |\n",
      "| epochs             | 1000             |\n",
      "| early_stopping     | 1000             |\n",
      "| warmup_epochs      | 50               |\n",
      "| print_epochs       | 100              |\n",
      "| lr                 | 0.0001           |\n",
      "| seed               | 1234             |\n",
      "| model_name         | MLP              |\n",
      "| dim_hidden         | 64               |\n",
      "| objective          | flow-matching    |\n",
      "| sigma              | 0.0001           |\n",
      "| t0                 | 0.0              |\n",
      "| t1                 | 1.0              |\n",
      "| solver             | dopri5           |\n",
      "| num_sampling_steps | 100              |\n",
      "| sensitivity        | adjoint          |\n",
      "| atol               | 0.0001           |\n",
      "| rtol               | 0.0001           |\n",
      "+--------------------+------------------+\n"
     ]
    }
   ],
   "source": [
    "from DynGenModels.datamodules.toys.configs import Gauss_2_Moons_Configs\n",
    "from DynGenModels.models.configs import MLP_Configs\n",
    "from DynGenModels.dynamics.cnf.configs import CNF_Configs\n",
    "from DynGenModels.pipelines.configs import NeuralODE_Sampler_Configs\n",
    "\n",
    "\n",
    "Configs = DynGenModelConfigs(data = Gauss_2_Moons_Configs,\n",
    "                             model = MLP_Configs, \n",
    "                             dynamics = CNF_Configs, \n",
    "                             pipeline = NeuralODE_Sampler_Configs)\n",
    "\n",
    "configs = Configs(data_name = '8gauss_to_2moons',\n",
    "                features = ['x', 'y'],\n",
    "                num_points = 20000,\n",
    "                gauss_8_scale = 5,\n",
    "                gauss_8_var = 0.1,\n",
    "                moon_2_noise = 0.1,\n",
    "                data_split_fracs = [0.7, 0.2, 0.1],\n",
    "                epochs = 1000,\n",
    "                early_stopping=1000,\n",
    "                batch_size = 256,\n",
    "                warmup_epochs = 50,\n",
    "                print_epochs = 100,\n",
    "                lr = 1e-4,\n",
    "                dim_hidden = 64, \n",
    "                device = 'cpu',\n",
    "                sigma = 0.0001,\n",
    "                solver='dopri5',\n",
    "                num_sampling_steps=100,\n",
    "                seed = 1234)\n",
    "\n",
    "#...set working directory for results:\n",
    "\n",
    "configs.set_workdir(path='../results', save_config=True)"
   ]
  },
  {
   "cell_type": "code",
   "execution_count": 14,
   "metadata": {},
   "outputs": [
    {
     "name": "stdout",
     "output_type": "stream",
     "text": [
      "INFO: building dataloaders...\n",
      "INFO: train/val/test split ratios: 0.7/0.2/0.1\n",
      "INFO: train size: 14000, validation size: 4000, testing sizes: 2000\n"
     ]
    }
   ],
   "source": [
    "from DynGenModels.datamodules.toys.datasets import Gauss2MoonsDataset \n",
    "from DynGenModels.datamodules.toys.dataloader import ToysDataLoader \n",
    "\n",
    "dataset = Gauss2MoonsDataset(configs)\n",
    "dataloader = ToysDataLoader(dataset, configs)"
   ]
  },
  {
   "cell_type": "code",
   "execution_count": 17,
   "metadata": {},
   "outputs": [
    {
     "name": "stdout",
     "output_type": "stream",
     "text": [
      "INFO: number of training parameters: 8706\n"
     ]
    },
    {
     "data": {
      "application/vnd.jupyter.widget-view+json": {
       "model_id": "a00bc1ab405941d588c1c95ab7ca68c6",
       "version_major": 2,
       "version_minor": 0
      },
      "text/plain": [
       "epochs:   0%|          | 0/1000 [00:00<?, ?it/s]"
      ]
     },
     "metadata": {},
     "output_type": "display_data"
    },
    {
     "name": "stdout",
     "output_type": "stream",
     "text": [
      "\t test loss: 0.05722013211250305  (min loss: 0.05722013211250305)\n"
     ]
    }
   ],
   "source": [
    "from DynGenModels.models.mlp import MLP\n",
    "from DynGenModels.dynamics.cnf.flowmatch import SimplifiedCondFlowMatching\n",
    "\n",
    "mlp = MLP(configs)\n",
    "cfm = DynGenModelTrainer(dynamics=SimplifiedCondFlowMatching(mlp, configs), \n",
    "                         dataloader=dataloader,\n",
    "                         configs=configs)\n",
    "\n",
    "cfm.train()"
   ]
  },
  {
   "cell_type": "code",
   "execution_count": 16,
   "metadata": {},
   "outputs": [
    {
     "data": {
      "application/vnd.jupyter.widget-view+json": {
       "model_id": "43bf4794370048a4b0c3a75ebe39c38e",
       "version_major": 2,
       "version_minor": 0
      },
      "text/plain": [
       "sampling:   0%|          | 0/8 [00:00<?, ?it/s]"
      ]
     },
     "metadata": {},
     "output_type": "display_data"
    }
   ],
   "source": [
    "from DynGenModels.pipelines.SamplingPipeline import FlowMatchPipeline \n",
    "pipeline = FlowMatchPipeline(trained_model=cfm, configs=configs)"
   ]
  },
  {
   "cell_type": "code",
   "execution_count": null,
   "metadata": {},
   "outputs": [],
   "source": [
    "fig, ax = plt.subplots(1,1, figsize=(4,4))\n",
    "for i in range(configs.num_sampling_steps): \n",
    "    plt.scatter(pipeline.trajectories[i][:,0], pipeline.trajectories[i][:,1], s=0.05, color='gray', alpha=0.2)\n",
    "plt.scatter(pipeline.trajectories[0][:,0], pipeline.trajectories[0][:,1], s=0.5, color='red')\n",
    "plt.scatter(pipeline.trajectories[-1][:,0], pipeline.trajectories[-1][:,1], s=0.5, color='blue')\n",
    "\n",
    "plt.show()"
   ]
  }
 ],
 "metadata": {
  "kernelspec": {
   "display_name": "Python 3 (ipykernel)",
   "language": "python",
   "name": "python3"
  },
  "language_info": {
   "codemirror_mode": {
    "name": "ipython",
    "version": 3
   },
   "file_extension": ".py",
   "mimetype": "text/x-python",
   "name": "python",
   "nbconvert_exporter": "python",
   "pygments_lexer": "ipython3",
   "version": "3.10.9"
  }
 },
 "nbformat": 4,
 "nbformat_minor": 2
}
