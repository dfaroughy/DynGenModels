{
 "cells": [
  {
   "cell_type": "markdown",
   "metadata": {},
   "source": [
    "# FERMI DATA: Flow-Matching\n",
    "We use Flow-matching (Lipman et al. 2022) with a 3 layer MLP "
   ]
  },
  {
   "cell_type": "code",
   "execution_count": null,
   "metadata": {},
   "outputs": [],
   "source": [
    "import matplotlib.pyplot as plt\n",
    "\n",
    "from DynGenModels.trainer.trainer import DynGenModelTrainer\n",
    "from DynGenModels.configs.fermi_configs import FermiGCE_MLP_FlowMatch as Configs\n",
    "\n",
    "\n",
    "configs = Configs(dataset = '../data/fermi/fermi_data_galactic_coord.npy',\n",
    "                  features = ['theta', 'phi', 'energy'],\n",
    "                  preprocess = ['normalize', 'logit_transform', 'standardize'],\n",
    "                  cuts = {'theta': [-20., 20.], 'phi': [4., 10.], 'energy': [1000, 2000]},\n",
    "                  data_split_fracs = [0.6, 0.1, 0.3],\n",
    "                  epochs = 50,\n",
    "                  early_stopping=20,\n",
    "                  batch_size = 512,\n",
    "                  warmup_epochs = 20,\n",
    "                  lr = 1e-3,\n",
    "                  dim_hidden = 128, \n",
    "                  device = 'cpu',\n",
    "                  sigma = 0.0,\n",
    "                  solver='euler',\n",
    "                  num_sampling_steps=300,\n",
    "                  seed = 12345)\n",
    "\n",
    "#...set working directory for results:\n",
    "\n",
    "configs.set_workdir(path='../results', save_config=True)\n",
    "\n",
    "#...define dataset :\n",
    "\n",
    "from DynGenModels.datamodules.fermi.datasets import FermiDataset \n",
    "from DynGenModels.datamodules.fermi.dataloader import FermiDataLoader \n",
    "\n",
    "dataset = FermiDataset(configs)\n",
    "\n",
    "#...Train model:\n",
    "\n",
    "from DynGenModels.models.deep_nets import MLP\n",
    "from DynGenModels.dynamics.cnf.flowmatch import FlowMatching\n",
    "\n",
    "net = MLP(configs)\n",
    "fm = DynGenModelTrainer(dynamics=FlowMatching(net, configs), \n",
    "                        dataloader=FermiDataLoader(dataset, configs),\n",
    "                        configs=configs)\n",
    "\n",
    "fm.train()"
   ]
  },
  {
   "cell_type": "code",
   "execution_count": null,
   "metadata": {},
   "outputs": [],
   "source": [
    "#...sample model\n",
    "\n",
    "from DynGenModels.pipelines.SamplingPipeline import FlowMatchPipeline \n",
    "from DynGenModels.datamodules.fermi.dataprocess import PostProcessFermiData\n",
    "\n",
    "pipeline = FlowMatchPipeline(trained_model=fm, \n",
    "                             configs=configs, \n",
    "                             postprocessor=PostProcessFermiData)\n",
    "\n",
    "\n",
    "#...plots\n",
    "\n",
    "bins=100 \n",
    "fig, ax = plt.subplots(1, 3, figsize=(9, 3))\n",
    "\n",
    "ax[0].hist(x=pipeline.target[:,0], color='r', bins=bins, histtype='step', lw=0.75, density=True)\n",
    "ax[0].hist(x=dataset.target[:,0], color='k', bins=bins, histtype='stepfilled', alpha=0.25, lw=0, density=True)\n",
    "\n",
    "ax[1].hist(x=pipeline.target[:,1], color='r', bins=bins, histtype='step', lw=0.75, density=True)\n",
    "ax[1].hist(x=dataset.target[:,1], color='k', bins=bins, histtype='stepfilled', alpha=0.25, lw=0, density=True)\n",
    "\n",
    "ax[2].hist(x=pipeline.target[:,2], color='r', bins=bins, histtype='step', lw=0.75, density=True)\n",
    "ax[2].hist(x=dataset.target[:,2], color='k', bins=bins, histtype='stepfilled', alpha=0.25, lw=0,density=True)\n",
    "\n",
    "ax[0].set_xlabel(r'$\\theta$')\n",
    "ax[1].set_xlabel(r'$\\phi$')\n",
    "ax[2].set_xlabel(r'$E$')\n",
    "plt.tight_layout()\n",
    "plt.show()"
   ]
  },
  {
   "cell_type": "markdown",
   "metadata": {},
   "source": [
    "# FERMI DATA: Conditional Flow-Matching\n",
    "We use Simplified Conditional Flow-matching (Tong et al. 2023) with a MLP."
   ]
  },
  {
   "cell_type": "code",
   "execution_count": 1,
   "metadata": {},
   "outputs": [
    {
     "name": "stdout",
     "output_type": "stream",
     "text": [
      "#=================================================================================\n",
      "INFO: created directory: ../results/MLP.fermi_galactic_center_2023.09.29_17h57__1\n",
      "#=================================================================================\n",
      "+--------------------+-------------------------------------------------+\n",
      "| Parameters         | Values                                          |\n",
      "+--------------------+-------------------------------------------------+\n",
      "| data_name          | fermi_galactic_center                           |\n",
      "| dataset            | ../data/fermi/fermi_data_galactic_coord.npy     |\n",
      "| features           | ['theta', 'phi', 'energy']                      |\n",
      "| dim_input          | 3                                               |\n",
      "| preprocess         | ['normalize', 'logit_transform', 'standardize'] |\n",
      "| cuts               | theta: [-20.0, 20.0]                            |\n",
      "|                    | phi: [4.0, 10.0]                                |\n",
      "|                    | energy: [1000, 2000]                            |\n",
      "| device             | cpu                                             |\n",
      "| data_split_fracs   | [0.6, 0.1, 0.3]                                 |\n",
      "| batch_size         | 512                                             |\n",
      "| epochs             | 50                                              |\n",
      "| early_stopping     | 20                                              |\n",
      "| warmup_epochs      | 20                                              |\n",
      "| print_epochs       | 20                                              |\n",
      "| lr                 | 0.001                                           |\n",
      "| seed               | 12345                                           |\n",
      "| model_name         | MLP                                             |\n",
      "| dim_hidden         | 128                                             |\n",
      "| objective          | flow-matching                                   |\n",
      "| sigma              | 0.1                                             |\n",
      "| t0                 | 0.0                                             |\n",
      "| t1                 | 1.0                                             |\n",
      "| solver             | euler                                           |\n",
      "| num_sampling_steps | 300                                             |\n",
      "| sensitivity        | adjoint                                         |\n",
      "| atol               | 0.0001                                          |\n",
      "| rtol               | 0.0001                                          |\n",
      "+--------------------+-------------------------------------------------+\n",
      "INFO: loading and preprocessing data...\n",
      "\t- target dataset: ../data/fermi/fermi_data_galactic_coord.npy \n",
      " \t- target shape: torch.Size([193811, 3])\n",
      "\t- source dataset: std gaussian \n",
      " \t- source shape: torch.Size([193811, 3])\n",
      "INFO: building dataloaders...\n",
      "INFO: train/val/test split ratios: 0.6/0.1/0.3\n",
      "INFO: train size: 116286, validation size: 19381, testing sizes: 58144\n",
      "INFO: number of training parameters: 34051\n"
     ]
    },
    {
     "data": {
      "application/vnd.jupyter.widget-view+json": {
       "model_id": "18dcfe703ebf4776b511aba35aff1f7a",
       "version_major": 2,
       "version_minor": 0
      },
      "text/plain": [
       "epochs:   0%|          | 0/50 [00:00<?, ?it/s]"
      ]
     },
     "metadata": {},
     "output_type": "display_data"
    },
    {
     "ename": "KeyboardInterrupt",
     "evalue": "",
     "output_type": "error",
     "traceback": [
      "\u001b[0;31m---------------------------------------------------------------------------\u001b[0m",
      "\u001b[0;31mKeyboardInterrupt\u001b[0m                         Traceback (most recent call last)",
      "Cell \u001b[0;32mIn[1], line 39\u001b[0m\n\u001b[1;32m     37\u001b[0m dynamics \u001b[39m=\u001b[39m SimplifiedCondFlowMatching(net, configs)\n\u001b[1;32m     38\u001b[0m cfm \u001b[39m=\u001b[39m DynGenModelTrainer(dynamics\u001b[39m=\u001b[39mdynamics, dataloader\u001b[39m=\u001b[39mdataloader, configs\u001b[39m=\u001b[39mconfigs)\n\u001b[0;32m---> 39\u001b[0m cfm\u001b[39m.\u001b[39;49mtrain()\n",
      "File \u001b[0;32m~/Dropbox/PROJECTS/ML/DynGenModels/src/DynGenModels/trainer/trainer.py:44\u001b[0m, in \u001b[0;36mDynGenModelTrainer.train\u001b[0;34m(self)\u001b[0m\n\u001b[1;32m     41\u001b[0m \u001b[39mprint\u001b[39m(\u001b[39m'\u001b[39m\u001b[39mINFO: number of training parameters: \u001b[39m\u001b[39m{}\u001b[39;00m\u001b[39m'\u001b[39m\u001b[39m.\u001b[39mformat(\u001b[39msum\u001b[39m(p\u001b[39m.\u001b[39mnumel() \u001b[39mfor\u001b[39;00m p \u001b[39min\u001b[39;00m \u001b[39mself\u001b[39m\u001b[39m.\u001b[39mdynamics\u001b[39m.\u001b[39mnet\u001b[39m.\u001b[39mparameters())))\n\u001b[1;32m     43\u001b[0m \u001b[39mfor\u001b[39;00m epoch \u001b[39min\u001b[39;00m tqdm(\u001b[39mrange\u001b[39m(\u001b[39mself\u001b[39m\u001b[39m.\u001b[39mepochs), desc\u001b[39m=\u001b[39m\u001b[39m\"\u001b[39m\u001b[39mepochs\u001b[39m\u001b[39m\"\u001b[39m):\n\u001b[0;32m---> 44\u001b[0m     train\u001b[39m.\u001b[39;49mupdate(dataloader\u001b[39m=\u001b[39;49m\u001b[39mself\u001b[39;49m\u001b[39m.\u001b[39;49mdataloader\u001b[39m.\u001b[39;49mtrain, optimizer\u001b[39m=\u001b[39;49moptimizer)       \n\u001b[1;32m     45\u001b[0m     valid\u001b[39m.\u001b[39mupdate(dataloader\u001b[39m=\u001b[39m\u001b[39mself\u001b[39m\u001b[39m.\u001b[39mdataloader\u001b[39m.\u001b[39mvalid)\n\u001b[1;32m     46\u001b[0m     scheduler\u001b[39m.\u001b[39mstep() \n",
      "File \u001b[0;32m~/Dropbox/PROJECTS/ML/DynGenModels/src/DynGenModels/trainer/utils.py:21\u001b[0m, in \u001b[0;36mTrain_Step.update\u001b[0;34m(self, dataloader, optimizer)\u001b[0m\n\u001b[1;32m     19\u001b[0m \u001b[39mfor\u001b[39;00m batch \u001b[39min\u001b[39;00m dataloader:\n\u001b[1;32m     20\u001b[0m     optimizer\u001b[39m.\u001b[39mzero_grad()\n\u001b[0;32m---> 21\u001b[0m     loss_current \u001b[39m=\u001b[39m \u001b[39mself\u001b[39;49m\u001b[39m.\u001b[39;49mloss_fn(batch)\n\u001b[1;32m     22\u001b[0m     loss_current\u001b[39m.\u001b[39mbackward()\n\u001b[1;32m     23\u001b[0m     optimizer\u001b[39m.\u001b[39mstep()  \n",
      "File \u001b[0;32m~/Dropbox/PROJECTS/ML/DynGenModels/src/DynGenModels/dynamics/cnf/flowmatch.py:107\u001b[0m, in \u001b[0;36mSimplifiedCondFlowMatching.loss\u001b[0;34m(self, batch)\u001b[0m\n\u001b[1;32m    105\u001b[0m \u001b[39mself\u001b[39m\u001b[39m.\u001b[39msample_time() \n\u001b[1;32m    106\u001b[0m \u001b[39mself\u001b[39m\u001b[39m.\u001b[39msample_path()\n\u001b[0;32m--> 107\u001b[0m v \u001b[39m=\u001b[39m \u001b[39mself\u001b[39;49m\u001b[39m.\u001b[39;49mnet(x\u001b[39m=\u001b[39;49m\u001b[39mself\u001b[39;49m\u001b[39m.\u001b[39;49mpath, t\u001b[39m=\u001b[39;49m\u001b[39mself\u001b[39;49m\u001b[39m.\u001b[39;49mt)\n\u001b[1;32m    108\u001b[0m u \u001b[39m=\u001b[39m \u001b[39mself\u001b[39m\u001b[39m.\u001b[39mscore \u001b[39mif\u001b[39;00m \u001b[39mself\u001b[39m\u001b[39m.\u001b[39mobjective \u001b[39m==\u001b[39m \u001b[39m'\u001b[39m\u001b[39mscore-matching\u001b[39m\u001b[39m'\u001b[39m \u001b[39melse\u001b[39;00m \u001b[39mself\u001b[39m\u001b[39m.\u001b[39mu \n\u001b[1;32m    109\u001b[0m loss \u001b[39m=\u001b[39m torch\u001b[39m.\u001b[39msquare(v \u001b[39m-\u001b[39m u)\n",
      "File \u001b[0;32m~/anaconda3/lib/python3.10/site-packages/torch/nn/modules/module.py:1194\u001b[0m, in \u001b[0;36mModule._call_impl\u001b[0;34m(self, *input, **kwargs)\u001b[0m\n\u001b[1;32m   1190\u001b[0m \u001b[39m# If we don't have any hooks, we want to skip the rest of the logic in\u001b[39;00m\n\u001b[1;32m   1191\u001b[0m \u001b[39m# this function, and just call forward.\u001b[39;00m\n\u001b[1;32m   1192\u001b[0m \u001b[39mif\u001b[39;00m \u001b[39mnot\u001b[39;00m (\u001b[39mself\u001b[39m\u001b[39m.\u001b[39m_backward_hooks \u001b[39mor\u001b[39;00m \u001b[39mself\u001b[39m\u001b[39m.\u001b[39m_forward_hooks \u001b[39mor\u001b[39;00m \u001b[39mself\u001b[39m\u001b[39m.\u001b[39m_forward_pre_hooks \u001b[39mor\u001b[39;00m _global_backward_hooks\n\u001b[1;32m   1193\u001b[0m         \u001b[39mor\u001b[39;00m _global_forward_hooks \u001b[39mor\u001b[39;00m _global_forward_pre_hooks):\n\u001b[0;32m-> 1194\u001b[0m     \u001b[39mreturn\u001b[39;00m forward_call(\u001b[39m*\u001b[39;49m\u001b[39minput\u001b[39;49m, \u001b[39m*\u001b[39;49m\u001b[39m*\u001b[39;49mkwargs)\n\u001b[1;32m   1195\u001b[0m \u001b[39m# Do not call functions when jit is used\u001b[39;00m\n\u001b[1;32m   1196\u001b[0m full_backward_hooks, non_full_backward_hooks \u001b[39m=\u001b[39m [], []\n",
      "File \u001b[0;32m~/Dropbox/PROJECTS/ML/DynGenModels/src/DynGenModels/models/deep_nets.py:39\u001b[0m, in \u001b[0;36mMLP.forward\u001b[0;34m(self, t, x, context, mask)\u001b[0m\n\u001b[1;32m     37\u001b[0m \u001b[39mdef\u001b[39;00m \u001b[39mforward\u001b[39m(\u001b[39mself\u001b[39m, t, x, context\u001b[39m=\u001b[39m\u001b[39mNone\u001b[39;00m, mask\u001b[39m=\u001b[39m\u001b[39mNone\u001b[39;00m):\n\u001b[1;32m     38\u001b[0m     x \u001b[39m=\u001b[39m torch\u001b[39m.\u001b[39mcat([x, t], dim\u001b[39m=\u001b[39m\u001b[39m-\u001b[39m\u001b[39m1\u001b[39m)\n\u001b[0;32m---> 39\u001b[0m     \u001b[39mreturn\u001b[39;00m \u001b[39mself\u001b[39;49m\u001b[39m.\u001b[39;49mmlp\u001b[39m.\u001b[39;49mforward(x)\n",
      "File \u001b[0;32m~/Dropbox/PROJECTS/ML/DynGenModels/src/DynGenModels/models/deep_nets.py:23\u001b[0m, in \u001b[0;36m_MLP.forward\u001b[0;34m(self, x)\u001b[0m\n\u001b[1;32m     22\u001b[0m \u001b[39mdef\u001b[39;00m \u001b[39mforward\u001b[39m(\u001b[39mself\u001b[39m, x):\n\u001b[0;32m---> 23\u001b[0m     \u001b[39mreturn\u001b[39;00m \u001b[39mself\u001b[39;49m\u001b[39m.\u001b[39;49mnet(x)\n",
      "File \u001b[0;32m~/anaconda3/lib/python3.10/site-packages/torch/nn/modules/module.py:1194\u001b[0m, in \u001b[0;36mModule._call_impl\u001b[0;34m(self, *input, **kwargs)\u001b[0m\n\u001b[1;32m   1190\u001b[0m \u001b[39m# If we don't have any hooks, we want to skip the rest of the logic in\u001b[39;00m\n\u001b[1;32m   1191\u001b[0m \u001b[39m# this function, and just call forward.\u001b[39;00m\n\u001b[1;32m   1192\u001b[0m \u001b[39mif\u001b[39;00m \u001b[39mnot\u001b[39;00m (\u001b[39mself\u001b[39m\u001b[39m.\u001b[39m_backward_hooks \u001b[39mor\u001b[39;00m \u001b[39mself\u001b[39m\u001b[39m.\u001b[39m_forward_hooks \u001b[39mor\u001b[39;00m \u001b[39mself\u001b[39m\u001b[39m.\u001b[39m_forward_pre_hooks \u001b[39mor\u001b[39;00m _global_backward_hooks\n\u001b[1;32m   1193\u001b[0m         \u001b[39mor\u001b[39;00m _global_forward_hooks \u001b[39mor\u001b[39;00m _global_forward_pre_hooks):\n\u001b[0;32m-> 1194\u001b[0m     \u001b[39mreturn\u001b[39;00m forward_call(\u001b[39m*\u001b[39;49m\u001b[39minput\u001b[39;49m, \u001b[39m*\u001b[39;49m\u001b[39m*\u001b[39;49mkwargs)\n\u001b[1;32m   1195\u001b[0m \u001b[39m# Do not call functions when jit is used\u001b[39;00m\n\u001b[1;32m   1196\u001b[0m full_backward_hooks, non_full_backward_hooks \u001b[39m=\u001b[39m [], []\n",
      "File \u001b[0;32m~/anaconda3/lib/python3.10/site-packages/torch/nn/modules/container.py:204\u001b[0m, in \u001b[0;36mSequential.forward\u001b[0;34m(self, input)\u001b[0m\n\u001b[1;32m    202\u001b[0m \u001b[39mdef\u001b[39;00m \u001b[39mforward\u001b[39m(\u001b[39mself\u001b[39m, \u001b[39minput\u001b[39m):\n\u001b[1;32m    203\u001b[0m     \u001b[39mfor\u001b[39;00m module \u001b[39min\u001b[39;00m \u001b[39mself\u001b[39m:\n\u001b[0;32m--> 204\u001b[0m         \u001b[39minput\u001b[39m \u001b[39m=\u001b[39m module(\u001b[39minput\u001b[39;49m)\n\u001b[1;32m    205\u001b[0m     \u001b[39mreturn\u001b[39;00m \u001b[39minput\u001b[39m\n",
      "File \u001b[0;32m~/anaconda3/lib/python3.10/site-packages/torch/nn/modules/module.py:1194\u001b[0m, in \u001b[0;36mModule._call_impl\u001b[0;34m(self, *input, **kwargs)\u001b[0m\n\u001b[1;32m   1190\u001b[0m \u001b[39m# If we don't have any hooks, we want to skip the rest of the logic in\u001b[39;00m\n\u001b[1;32m   1191\u001b[0m \u001b[39m# this function, and just call forward.\u001b[39;00m\n\u001b[1;32m   1192\u001b[0m \u001b[39mif\u001b[39;00m \u001b[39mnot\u001b[39;00m (\u001b[39mself\u001b[39m\u001b[39m.\u001b[39m_backward_hooks \u001b[39mor\u001b[39;00m \u001b[39mself\u001b[39m\u001b[39m.\u001b[39m_forward_hooks \u001b[39mor\u001b[39;00m \u001b[39mself\u001b[39m\u001b[39m.\u001b[39m_forward_pre_hooks \u001b[39mor\u001b[39;00m _global_backward_hooks\n\u001b[1;32m   1193\u001b[0m         \u001b[39mor\u001b[39;00m _global_forward_hooks \u001b[39mor\u001b[39;00m _global_forward_pre_hooks):\n\u001b[0;32m-> 1194\u001b[0m     \u001b[39mreturn\u001b[39;00m forward_call(\u001b[39m*\u001b[39;49m\u001b[39minput\u001b[39;49m, \u001b[39m*\u001b[39;49m\u001b[39m*\u001b[39;49mkwargs)\n\u001b[1;32m   1195\u001b[0m \u001b[39m# Do not call functions when jit is used\u001b[39;00m\n\u001b[1;32m   1196\u001b[0m full_backward_hooks, non_full_backward_hooks \u001b[39m=\u001b[39m [], []\n",
      "File \u001b[0;32m~/anaconda3/lib/python3.10/site-packages/torch/nn/modules/linear.py:114\u001b[0m, in \u001b[0;36mLinear.forward\u001b[0;34m(self, input)\u001b[0m\n\u001b[1;32m    113\u001b[0m \u001b[39mdef\u001b[39;00m \u001b[39mforward\u001b[39m(\u001b[39mself\u001b[39m, \u001b[39minput\u001b[39m: Tensor) \u001b[39m-\u001b[39m\u001b[39m>\u001b[39m Tensor:\n\u001b[0;32m--> 114\u001b[0m     \u001b[39mreturn\u001b[39;00m F\u001b[39m.\u001b[39;49mlinear(\u001b[39minput\u001b[39;49m, \u001b[39mself\u001b[39;49m\u001b[39m.\u001b[39;49mweight, \u001b[39mself\u001b[39;49m\u001b[39m.\u001b[39;49mbias)\n",
      "\u001b[0;31mKeyboardInterrupt\u001b[0m: "
     ]
    }
   ],
   "source": [
    "import matplotlib.pyplot as plt\n",
    "\n",
    "from DynGenModels.trainer.trainer import DynGenModelTrainer\n",
    "from DynGenModels.configs.fermi_configs import FermiGCE_MLP_CondFlowMatch as Configs\n",
    "\n",
    "configs = Configs(dataset = '../data/fermi/fermi_data_galactic_coord.npy',\n",
    "                  features = ['theta', 'phi', 'energy'],\n",
    "                  preprocess = ['normalize', 'logit_transform', 'standardize'],\n",
    "                  cuts = {'theta': [-20., 20.], 'phi': [4., 10.], 'energy': [1000, 2000]},\n",
    "                  data_split_fracs = [0.6, 0.1, 0.3],\n",
    "                  epochs = 50,\n",
    "                  early_stopping=20,\n",
    "                  batch_size = 512,\n",
    "                  warmup_epochs = 20,\n",
    "                  lr = 1e-3,\n",
    "                  dim_hidden = 128, \n",
    "                  device = 'cpu',\n",
    "                  sigma = 0.1,\n",
    "                  solver='euler',\n",
    "                  num_sampling_steps=300,\n",
    "                  seed = 12345)\n",
    "\n",
    "#...set working directory for results:\n",
    "\n",
    "configs.set_workdir(path='../results', save_config=True)\n",
    "\n",
    "#...define dataset :\n",
    "\n",
    "from DynGenModels.datamodules.fermi.datasets import FermiDataset \n",
    "from DynGenModels.datamodules.fermi.dataloader import FermiDataLoader \n",
    "from DynGenModels.models.deep_nets import MLP\n",
    "from DynGenModels.dynamics.cnf.flowmatch import SimplifiedCondFlowMatching\n",
    "\n",
    "dataset = FermiDataset(configs)\n",
    "dataloader = FermiDataLoader(dataset, configs)\n",
    "net = MLP(configs)\n",
    "dynamics = SimplifiedCondFlowMatching(net, configs)\n",
    "cfm = DynGenModelTrainer(dynamics=dynamics, dataloader=dataloader, configs=configs)\n",
    "cfm.train()"
   ]
  },
  {
   "cell_type": "code",
   "execution_count": 7,
   "metadata": {},
   "outputs": [
    {
     "data": {
      "application/vnd.jupyter.widget-view+json": {
       "model_id": "39631a6396744989974b9821eedbca5f",
       "version_major": 2,
       "version_minor": 0
      },
      "text/plain": [
       "sampling:   0%|          | 0/114 [00:00<?, ?it/s]"
      ]
     },
     "metadata": {},
     "output_type": "display_data"
    },
    {
     "name": "stdout",
     "output_type": "stream",
     "text": [
      "INFO: post-processing sampled data with ['inverse_standardize', 'inverse_logit_transform', 'inverse_normalize']\n"
     ]
    },
    {
     "data": {
      "image/png": "[encoded data removed]",
      "text/plain": [
       "<Figure size 900x300 with 3 Axes>"
      ]
     },
     "metadata": {},
     "output_type": "display_data"
    }
   ],
   "source": [
    "#...sample from model\n",
    "\n",
    "from DynGenModels.pipelines.SamplingPipeline import FlowMatchPipeline \n",
    "from DynGenModels.datamodules.fermi.dataprocess import PostProcessFermiData\n",
    "\n",
    "pipeline = FlowMatchPipeline(trained_model=cfm, \n",
    "                             configs=configs, \n",
    "                             postprocessor=PostProcessFermiData,\n",
    "                             solver='euler',\n",
    "                             num_sampling_steps=10000)\n",
    "\n",
    "\n",
    "#...plots\n",
    "\n",
    "bins=150 \n",
    "fig, ax = plt.subplots(1, 3, figsize=(9, 3))\n",
    "\n",
    "ax[0].hist(x=pipeline.target[:,0], color='r', bins=bins, histtype='step', lw=0.75, density=True)\n",
    "ax[0].hist(x=dataset.target[:,0], color='k', bins=bins, histtype='stepfilled', alpha=0.25, lw=0, density=True)\n",
    "\n",
    "ax[1].hist(x=pipeline.target[:,1], color='r', bins=bins, histtype='step', lw=0.75, density=True)\n",
    "ax[1].hist(x=dataset.target[:,1], color='k', bins=bins, histtype='stepfilled', alpha=0.25, lw=0, density=True)\n",
    "\n",
    "ax[2].hist(x=pipeline.target[:,2], color='r', bins=bins, histtype='step', lw=0.75, density=True)\n",
    "ax[2].hist(x=dataset.target[:,2], color='k', bins=bins, histtype='stepfilled', alpha=0.25, lw=0,density=True)\n",
    "\n",
    "ax[0].set_xlabel(r'$\\theta$')\n",
    "ax[1].set_xlabel(r'$\\phi$')\n",
    "ax[2].set_xlabel(r'$E$')\n",
    "plt.tight_layout()\n",
    "plt.show()"
   ]
  },
  {
   "cell_type": "markdown",
   "metadata": {},
   "source": [
    "# FERMI DATA: Normalizing flows \n",
    "for the flow we use a MAF with affine transforms"
   ]
  },
  {
   "cell_type": "code",
   "execution_count": 1,
   "metadata": {},
   "outputs": [
    {
     "name": "stdout",
     "output_type": "stream",
     "text": [
      "#=====================================================================================\n",
      "INFO: created directory: ../results/MAF_RQS.fermi_galactic_center_2023.09.29_16h32__1\n",
      "#=====================================================================================\n",
      "+---------------------+-------------------------------------------------+\n",
      "| Parameters          | Values                                          |\n",
      "+---------------------+-------------------------------------------------+\n",
      "| data_name           | fermi_galactic_center                           |\n",
      "| dataset             | ../data/fermi/fermi_data_galactic_coord.npy     |\n",
      "| features            | ['theta', 'phi', 'energy']                      |\n",
      "| dim_input           | 3                                               |\n",
      "| preprocess          | ['normalize', 'logit_transform', 'standardize'] |\n",
      "| cuts                | theta: [-20.0, 20.0]                            |\n",
      "|                     | phi: [4.0, 10.0]                                |\n",
      "|                     | energy: [1000, 2000]                            |\n",
      "| device              | cpu                                             |\n",
      "| data_split_fracs    | [0.6, 0.1, 0.3]                                 |\n",
      "| batch_size          | 512                                             |\n",
      "| epochs              | 50                                              |\n",
      "| early_stopping      | 20                                              |\n",
      "| warmup_epochs       | 20                                              |\n",
      "| print_epochs        | 20                                              |\n",
      "| lr                  | 0.001                                           |\n",
      "| seed                | 12345                                           |\n",
      "| model_name          | MAF_RQS                                         |\n",
      "| dim_hidden          | 128                                             |\n",
      "| num_blocks          | 2                                               |\n",
      "| use_residual_blocks | False                                           |\n",
      "| dropout             | 0.0                                             |\n",
      "| use_batch_norm      | False                                           |\n",
      "| num_bins            | 10                                              |\n",
      "| tails               | linear                                          |\n",
      "| tail_bound          | 5                                               |\n",
      "| num_transforms      | 5                                               |\n",
      "| num_gen_samples     | 58000                                           |\n",
      "+---------------------+-------------------------------------------------+\n",
      "INFO: loading and preprocessing data...\n",
      "\t- target dataset: ../data/fermi/fermi_data_galactic_coord.npy \n",
      " \t- target shape: torch.Size([193811, 3])\n",
      "\t- source dataset: std gaussian \n",
      " \t- source shape: torch.Size([193811, 3])\n",
      "INFO: building dataloaders...\n",
      "INFO: train/val/test split ratios: 0.6/0.1/0.3\n",
      "INFO: train size: 116286, validation size: 19381, testing sizes: 58144\n",
      "INFO: number of training parameters: 44759\n"
     ]
    },
    {
     "data": {
      "application/vnd.jupyter.widget-view+json": {
       "model_id": "a3405088986f42889c6e91b9ff8296fa",
       "version_major": 2,
       "version_minor": 0
      },
      "text/plain": [
       "epochs:   0%|          | 0/50 [00:00<?, ?it/s]"
      ]
     },
     "metadata": {},
     "output_type": "display_data"
    },
    {
     "name": "stdout",
     "output_type": "stream",
     "text": [
      "\t test loss: 0.007477868188246197  (min loss: 0.007477868188246197)\n",
      "\t test loss: 0.007324377785931615  (min loss: 0.007324377785931615)\n",
      "\t test loss: 0.00730877509150833  (min loss: 0.007304907103427749)\n"
     ]
    }
   ],
   "source": [
    "import matplotlib.pyplot as plt\n",
    "\n",
    "from DynGenModels.trainer.trainer import DynGenModelTrainer\n",
    "from DynGenModels.configs.fermi_configs import FermiGCE_MAF_RQS_NormFlow as Configs\n",
    "\n",
    "\n",
    "configs = Configs(dataset = '../data/fermi/fermi_data_galactic_coord.npy',\n",
    "                features = ['theta', 'phi', 'energy'],\n",
    "                preprocess = ['normalize', 'logit_transform', 'standardize'],\n",
    "                cuts = {'theta': [-20., 20.], 'phi': [4., 10.], 'energy': [1000, 2000]},\n",
    "                data_split_fracs = [0.6, 0.1, 0.3],\n",
    "                epochs = 50,\n",
    "                early_stopping=20,\n",
    "                batch_size = 512,\n",
    "                warmup_epochs = 20,\n",
    "                lr = 1e-3,\n",
    "                dim_hidden = 128, \n",
    "                device = 'cpu',\n",
    "                seed = 12345,\n",
    "                num_transforms = 5,\n",
    "                num_gen_samples = 58000\n",
    "                )\n",
    "\n",
    "#...set working directory for results:\n",
    "\n",
    "configs.set_workdir(path='../results', save_config=True)\n",
    "\n",
    "#...define dataset :\n",
    "\n",
    "from DynGenModels.datamodules.fermi.datasets import FermiDataset \n",
    "from DynGenModels.datamodules.fermi.dataloader import FermiDataLoader \n",
    "from DynGenModels.models.nflow_nets import MAFPiecewiseRQS\n",
    "from DynGenModels.dynamics.nf.normflows import NormalizingFlow\n",
    "\n",
    "dataset = FermiDataset(configs)\n",
    "dataloader = FermiDataLoader(dataset, configs)\n",
    "net = MAFPiecewiseRQS(configs)\n",
    "dynamics = NormalizingFlow(net, configs)\n",
    "maf = DynGenModelTrainer(dynamics=dynamics, dataloader=dataloader, configs=configs)\n",
    "maf.train()"
   ]
  },
  {
   "cell_type": "code",
   "execution_count": 2,
   "metadata": {},
   "outputs": [
    {
     "name": "stdout",
     "output_type": "stream",
     "text": [
      "INFO: post-processing sampled data with ['inverse_standardize', 'inverse_logit_transform', 'inverse_normalize']\n"
     ]
    },
    {
     "data": {
      "image/png": "[encoded data removed]",
      "text/plain": [
       "<Figure size 900x300 with 3 Axes>"
      ]
     },
     "metadata": {},
     "output_type": "display_data"
    }
   ],
   "source": [
    "#...sample from model\n",
    "\n",
    "from DynGenModels.pipelines.SamplingPipeline import NormFlowPipeline \n",
    "from DynGenModels.datamodules.fermi.dataprocess import PostProcessFermiData\n",
    "\n",
    "pipeline = NormFlowPipeline(trained_model=maf, configs=configs, postprocessor=PostProcessFermiData)\n",
    "\n",
    "#...plots\n",
    "\n",
    "bins=150 \n",
    "fig, ax = plt.subplots(1, 3, figsize=(9, 3))\n",
    "\n",
    "ax[0].hist(x=pipeline.target[:,0], color='r', bins=bins, histtype='step', lw=0.75, density=True)\n",
    "ax[0].hist(x=dataset.target[:,0], color='k', bins=bins, histtype='stepfilled', alpha=0.25, lw=0, density=True)\n",
    "\n",
    "ax[1].hist(x=pipeline.target[:,1], color='r', bins=bins, histtype='step', lw=0.75, density=True)\n",
    "ax[1].hist(x=dataset.target[:,1], color='k', bins=bins, histtype='stepfilled', alpha=0.25, lw=0, density=True)\n",
    "\n",
    "ax[2].hist(x=pipeline.target[:,2], color='r', bins=bins, histtype='step', lw=0.75, density=True)\n",
    "ax[2].hist(x=dataset.target[:,2], color='k', bins=bins, histtype='stepfilled', alpha=0.25, lw=0,density=True)\n",
    "\n",
    "ax[0].set_xlabel(r'$\\theta$')\n",
    "ax[1].set_xlabel(r'$\\phi$')\n",
    "ax[2].set_xlabel(r'$E$')\n",
    "plt.tight_layout()\n",
    "plt.show()\n"
   ]
  },
  {
   "cell_type": "code",
   "execution_count": null,
   "metadata": {},
   "outputs": [],
   "source": []
  },
  {
   "cell_type": "code",
   "execution_count": null,
   "metadata": {},
   "outputs": [],
   "source": []
  }
 ],
 "metadata": {
  "kernelspec": {
   "display_name": "Python 3 (ipykernel)",
   "language": "python",
   "name": "python3"
  },
  "language_info": {
   "codemirror_mode": {
    "name": "ipython",
    "version": 3
   },
   "file_extension": ".py",
   "mimetype": "text/x-python",
   "name": "python",
   "nbconvert_exporter": "python",
   "pygments_lexer": "ipython3",
   "version": "3.10.9"
  },
  "orig_nbformat": 4
 },
 "nbformat": 4,
 "nbformat_minor": 2
}
